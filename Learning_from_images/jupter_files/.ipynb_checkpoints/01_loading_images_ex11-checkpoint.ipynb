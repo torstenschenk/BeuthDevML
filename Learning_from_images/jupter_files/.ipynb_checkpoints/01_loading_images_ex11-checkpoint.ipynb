{
 "cells": [
  {
   "cell_type": "code",
   "execution_count": 13,
   "metadata": {},
   "outputs": [],
   "source": [
    "# One option via numpy indexing\n",
    "\n",
    "import numpy as np\n",
    "import cv2\n",
    "\n",
    "   \n",
    "img = cv2.imread('Lenna.png')\n",
    "rows, cols = img.shape[: 2]\n",
    "imgsbs = np.zeros( (rows, 2*cols, 3), np.uint8)\n",
    "\n",
    "gray = cv2.cvtColor(img, cv2.COLOR_BGR2GRAY)\n",
    "gray3ch = img.copy()\n",
    "gray3ch[:,:,0] = gray\n",
    "gray3ch[:,:,1] = gray\n",
    "gray3ch[:,:,2] = gray\n",
    "\n",
    "composed = np.concatenate((img, gray3ch), axis=1)\n",
    "\n",
    "#hugeImg = np.zeros( (img.shape, 4*cols, 3), np.uint8)\n",
    "\n",
    "# Display the resulting frame\n",
    "cv2.imshow('Side by side: python', composed)\n",
    "cv2.waitKey(0)\n",
    "cv2.destroyAllWindows()"
   ]
  },
  {
   "cell_type": "code",
   "execution_count": 14,
   "metadata": {},
   "outputs": [],
   "source": [
    "# One option via opencv convert\n",
    "\n",
    "import numpy as np\n",
    "import cv2\n",
    "\n",
    "img = cv2.imread('Lenna.png')\n",
    "gray = cv2.cvtColor(img, cv2.COLOR_BGR2GRAY)\n",
    "backconverted = cv2.cvtColor(gray, cv2.COLOR_GRAY2BGR)\n",
    "\n",
    "composed = np.concatenate((img, backconverted), axis=1)\n",
    "\n",
    "cv2.imshow('Side by side: opencv', composed)\n",
    "cv2.waitKey(0)\n",
    "cv2.destroyAllWindows()"
   ]
  },
  {
   "cell_type": "code",
   "execution_count": null,
   "metadata": {},
   "outputs": [],
   "source": []
  }
 ],
 "metadata": {
  "kernelspec": {
   "display_name": "Python 3",
   "language": "python",
   "name": "python3"
  },
  "language_info": {
   "codemirror_mode": {
    "name": "ipython",
    "version": 3
   },
   "file_extension": ".py",
   "mimetype": "text/x-python",
   "name": "python",
   "nbconvert_exporter": "python",
   "pygments_lexer": "ipython3",
   "version": "3.7.4"
  }
 },
 "nbformat": 4,
 "nbformat_minor": 2
}
