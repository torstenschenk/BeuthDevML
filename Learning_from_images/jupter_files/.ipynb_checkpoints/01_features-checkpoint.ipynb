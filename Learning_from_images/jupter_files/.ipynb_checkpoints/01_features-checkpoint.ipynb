{
 "cells": [
  {
   "cell_type": "code",
   "execution_count": 2,
   "metadata": {},
   "outputs": [],
   "source": [
    "import cv2\n",
    "cv2.drawKeypoints?"
   ]
  },
  {
   "cell_type": "code",
   "execution_count": 8,
   "metadata": {},
   "outputs": [],
   "source": [
    "import cv2\n",
    "\n",
    "cap = cv2.VideoCapture(0)\n",
    "cv2.namedWindow('Learning from images: SIFT feature visualization')\n",
    "while True:\n",
    "    # Capture frame-by-frame\n",
    "    ret, frame = cap.read()\n",
    "    gray = cv2.cvtColor(frame,cv2.COLOR_BGR2GRAY)\n",
    "    \n",
    "    # wait for key and switch to mode\n",
    "    ch = cv2.waitKey(1) & 0xFF\n",
    "    \n",
    "    if ch == ord('q'):\n",
    "        break\n",
    " \n",
    "    # SIFT in OpenCV\n",
    "    # 1. read each frame from the camera (if necessary resize the image)\n",
    "    #    and extract the SIFT features using OpenCV methods\n",
    "    #    Note: use the gray image - so you need to convert the image\n",
    "    # 2. draw the keypoints using cv2.drawKeypoints\n",
    "    #    There are several flags for visualization - e.g. DRAW_MATCHES_FLAGS_DRAW_RICH_KEYPOINTS\n",
    "\n",
    "    # close the window and application by pressing a key: 'q'\n",
    "\n",
    "    # Solution:\n",
    "    # https://docs.opencv.org/3.1.0/da/df5/tutorial_py_sift_intro.html\n",
    "    sift = cv2.xfeatures2d.SIFT_create()\n",
    "    # sift.detect() function finds the keypoint in the images.\n",
    "    kp = sift.detect(gray,None)\n",
    "    #print(kp)\n",
    "    \n",
    "    # cv2.drawKeypoints(frame,kp,frame)\n",
    "    # DRAW_MATCHES_FLAGS... will draw a circle with size of keypoint and it will even show its orientatio\n",
    "    cv2.drawKeypoints(frame,kp,frame,flags=cv2.DRAW_MATCHES_FLAGS_DRAW_RICH_KEYPOINTS)\n",
    "    # Other two options look identical\n",
    "    #cv2.drawKeypoints(frame,kp,frame,flags=cv2.DRAW_MATCHES_FLAGS_DRAW_OVER_OUTIMG)\n",
    "    #cv2.drawKeypoints(frame,kp,frame,flags=cv2.DRAW_MATCHES_FLAGS_NOT_DRAW_SINGLE_POINTS)\n",
    "        \n",
    "    # Display the resulting frame\n",
    "    cv2.imshow('Learning from images: SIFT feature visualization', frame)\n",
    "    \n",
    "# When everything done, release the capture\n",
    "cap.release()\n",
    "cv2.destroyAllWindows()"
   ]
  },
  {
   "cell_type": "code",
   "execution_count": 9,
   "metadata": {},
   "outputs": [],
   "source": [
    "cv2.drawKeypoints?"
   ]
  },
  {
   "cell_type": "code",
   "execution_count": 11,
   "metadata": {},
   "outputs": [],
   "source": [
    "sift.detect?"
   ]
  },
  {
   "cell_type": "code",
   "execution_count": 12,
   "metadata": {},
   "outputs": [],
   "source": [
    "sift?"
   ]
  },
  {
   "cell_type": "code",
   "execution_count": 14,
   "metadata": {},
   "outputs": [],
   "source": [
    "kp?"
   ]
  },
  {
   "cell_type": "code",
   "execution_count": 32,
   "metadata": {},
   "outputs": [
    {
     "name": "stdout",
     "output_type": "stream",
     "text": [
      "Type kp: <class 'list'>\n",
      "Length kp: 614\n",
      "kp[0]: point (3.5363409519195557, 397.8999328613281) Angle 122.82904052734375\n",
      "Type kp[0]: <class 'cv2.KeyPoint'>\n"
     ]
    }
   ],
   "source": [
    "# Keypoint description\n",
    "# https://docs.opencv.org/3.4/d2/d29/classcv_1_1KeyPoint.html\n",
    "# \n",
    "# Public Attributes\n",
    "# float   angle\n",
    "# int     class_id\n",
    "# int     octave\n",
    "# Point2f pt\n",
    "# float   response\n",
    "# float   size\n",
    "\n",
    "print('Type kp:',type(kp))\n",
    "print('Length kp:', len(kp))\n",
    "print('kp[0]: point {} angle {}'.format(kp[0].pt,kp[0].angle))\n",
    "print('Type kp[0]:', type(kp[0]))"
   ]
  },
  {
   "cell_type": "code",
   "execution_count": null,
   "metadata": {},
   "outputs": [],
   "source": []
  }
 ],
 "metadata": {
  "kernelspec": {
   "display_name": "Python 3",
   "language": "python",
   "name": "python3"
  },
  "language_info": {
   "codemirror_mode": {
    "name": "ipython",
    "version": 3
   },
   "file_extension": ".py",
   "mimetype": "text/x-python",
   "name": "python",
   "nbconvert_exporter": "python",
   "pygments_lexer": "ipython3",
   "version": "3.7.4"
  }
 },
 "nbformat": 4,
 "nbformat_minor": 2
}
