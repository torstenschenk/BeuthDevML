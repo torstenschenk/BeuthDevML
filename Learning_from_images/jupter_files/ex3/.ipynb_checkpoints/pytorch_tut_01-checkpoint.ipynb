{
 "cells": [
  {
   "cell_type": "code",
   "execution_count": 1,
   "metadata": {},
   "outputs": [
    {
     "name": "stdout",
     "output_type": "stream",
     "text": [
      "tensor([[-9.0696e-06,  4.5835e-41, -7.1339e-06],\n",
      "        [ 4.5835e-41, -7.1338e-06,  4.5835e-41],\n",
      "        [ 1.2202e-09,  4.5836e-41, -9.0589e-06],\n",
      "        [ 4.5835e-41, -9.0686e-06,  4.5835e-41],\n",
      "        [-7.1276e-06,  4.5835e-41,  7.3473e-10]])\n",
      "tensor([[0.0305, 0.2919, 0.1097],\n",
      "        [0.4875, 0.0108, 0.4236],\n",
      "        [0.1429, 0.2080, 0.0585],\n",
      "        [0.3495, 0.9507, 0.1778],\n",
      "        [0.9895, 0.7341, 0.1939]])\n",
      "tensor([[0, 0, 0],\n",
      "        [0, 0, 0],\n",
      "        [0, 0, 0],\n",
      "        [0, 0, 0],\n",
      "        [0, 0, 0]])\n"
     ]
    }
   ],
   "source": [
    "from __future__ import print_function\n",
    "import torch\n",
    "\n",
    "# show plot first run\n",
    "%matplotlib inline \n",
    "# test autocompletion with tab or tab+shift\n",
    "%config IPCompleter.greedy=True \n",
    "\n",
    "x = torch.empty(5, 3)\n",
    "print(x)\n",
    "x = torch.rand(5,3)\n",
    "print(x)\n",
    "x = torch.zeros(5, 3, dtype=torch.long)\n",
    "print(x)"
   ]
  },
  {
   "cell_type": "code",
   "execution_count": 2,
   "metadata": {},
   "outputs": [
    {
     "name": "stdout",
     "output_type": "stream",
     "text": [
      "tensor([5.5000, 3.0000])\n"
     ]
    }
   ],
   "source": [
    "x = torch.tensor([5.5, 3])\n",
    "print(x)"
   ]
  },
  {
   "cell_type": "code",
   "execution_count": 3,
   "metadata": {},
   "outputs": [
    {
     "name": "stdout",
     "output_type": "stream",
     "text": [
      "tensor([[1., 1., 1.],\n",
      "        [1., 1., 1.],\n",
      "        [1., 1., 1.],\n",
      "        [1., 1., 1.],\n",
      "        [1., 1., 1.]], dtype=torch.float64)\n"
     ]
    }
   ],
   "source": [
    "x = x.new_ones(5, 3, dtype=torch.double)      # new_* methods take in sizes\n",
    "print(x)"
   ]
  },
  {
   "cell_type": "code",
   "execution_count": 4,
   "metadata": {},
   "outputs": [
    {
     "name": "stdout",
     "output_type": "stream",
     "text": [
      "tensor([[ 0.5954,  0.0580,  0.4986],\n",
      "        [-0.3911, -0.3979,  0.4788],\n",
      "        [ 0.0529, -2.3193,  0.4542],\n",
      "        [ 1.3108,  1.4135,  0.5492],\n",
      "        [ 1.6276, -1.0824, -0.4157]])\n"
     ]
    }
   ],
   "source": [
    "x = torch.randn_like(x, dtype=torch.float)    # override dtype!\n",
    "print(x)                                      # result has the same size"
   ]
  },
  {
   "cell_type": "code",
   "execution_count": 5,
   "metadata": {},
   "outputs": [
    {
     "name": "stdout",
     "output_type": "stream",
     "text": [
      "torch.Size([5, 3])\n"
     ]
    }
   ],
   "source": [
    "print(x.size())\n"
   ]
  },
  {
   "cell_type": "code",
   "execution_count": 6,
   "metadata": {},
   "outputs": [
    {
     "name": "stdout",
     "output_type": "stream",
     "text": [
      "tensor([[ 1.5228,  0.2429,  0.8110],\n",
      "        [ 0.2641,  0.2619,  0.8498],\n",
      "        [ 1.0407, -1.8094,  1.4006],\n",
      "        [ 1.3221,  2.2955,  1.1793],\n",
      "        [ 2.0975, -0.3608, -0.3750]])\n"
     ]
    }
   ],
   "source": [
    "y = torch.rand(5, 3)\n",
    "# option 1 to add\n",
    "print(x + y)"
   ]
  },
  {
   "cell_type": "code",
   "execution_count": 7,
   "metadata": {},
   "outputs": [
    {
     "name": "stdout",
     "output_type": "stream",
     "text": [
      "tensor([[ 1.5228,  0.2429,  0.8110],\n",
      "        [ 0.2641,  0.2619,  0.8498],\n",
      "        [ 1.0407, -1.8094,  1.4006],\n",
      "        [ 1.3221,  2.2955,  1.1793],\n",
      "        [ 2.0975, -0.3608, -0.3750]])\n"
     ]
    }
   ],
   "source": [
    "# option 2 to add\n",
    "print(torch.add(x, y))"
   ]
  },
  {
   "cell_type": "code",
   "execution_count": 8,
   "metadata": {},
   "outputs": [
    {
     "name": "stdout",
     "output_type": "stream",
     "text": [
      "tensor([[ 1.5228,  0.2429,  0.8110],\n",
      "        [ 0.2641,  0.2619,  0.8498],\n",
      "        [ 1.0407, -1.8094,  1.4006],\n",
      "        [ 1.3221,  2.2955,  1.1793],\n",
      "        [ 2.0975, -0.3608, -0.3750]])\n",
      "tensor([[ 1.5228,  0.2429,  0.8110],\n",
      "        [ 0.2641,  0.2619,  0.8498],\n",
      "        [ 1.0407, -1.8094,  1.4006],\n",
      "        [ 1.3221,  2.2955,  1.1793],\n",
      "        [ 2.0975, -0.3608, -0.3750]])\n"
     ]
    }
   ],
   "source": [
    "# option 3 to add\n",
    "result = torch.empty(5, 3)\n",
    "torch.add(x, y, out=result)\n",
    "print(result)\n",
    "\n",
    "result = torch.add(x, y)\n",
    "print(result)"
   ]
  },
  {
   "cell_type": "code",
   "execution_count": 9,
   "metadata": {},
   "outputs": [
    {
     "name": "stdout",
     "output_type": "stream",
     "text": [
      "tensor([[ 1.5228,  0.2429,  0.8110],\n",
      "        [ 0.2641,  0.2619,  0.8498],\n",
      "        [ 1.0407, -1.8094,  1.4006],\n",
      "        [ 1.3221,  2.2955,  1.1793],\n",
      "        [ 2.0975, -0.3608, -0.3750]])\n"
     ]
    }
   ],
   "source": [
    "# Any operation that mutates a tensor in-place is post-fixed with an _. \n",
    "# For example: x.copy_(y), x.t_(), will change x.\n",
    "# adds x to y\n",
    "y.add_(x)\n",
    "print(y)"
   ]
  },
  {
   "cell_type": "code",
   "execution_count": 10,
   "metadata": {},
   "outputs": [
    {
     "name": "stdout",
     "output_type": "stream",
     "text": [
      "tensor([ 0.0580, -0.3979, -2.3193,  1.4135, -1.0824])\n"
     ]
    }
   ],
   "source": [
    "print(x[:, 1])"
   ]
  },
  {
   "cell_type": "code",
   "execution_count": null,
   "metadata": {},
   "outputs": [],
   "source": []
  }
 ],
 "metadata": {
  "kernelspec": {
   "display_name": "Python 3",
   "language": "python",
   "name": "python3"
  },
  "language_info": {
   "codemirror_mode": {
    "name": "ipython",
    "version": 3
   },
   "file_extension": ".py",
   "mimetype": "text/x-python",
   "name": "python",
   "nbconvert_exporter": "python",
   "pygments_lexer": "ipython3",
   "version": "3.7.4"
  }
 },
 "nbformat": 4,
 "nbformat_minor": 2
}
