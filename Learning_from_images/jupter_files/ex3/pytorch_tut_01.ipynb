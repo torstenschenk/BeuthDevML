{
 "cells": [
  {
   "cell_type": "code",
   "execution_count": 10,
   "metadata": {},
   "outputs": [
    {
     "name": "stdout",
     "output_type": "stream",
     "text": [
      "tensor([[-6.0123e-10,  3.0862e-41, -5.2837e-10],\n",
      "        [ 3.0862e-41,  6.4564e-33,  1.6673e-24],\n",
      "        [ 2.6685e-23,  1.7331e-24,  3.9132e-34],\n",
      "        [ 6.6490e-33,  6.8309e-21,  1.5286e-36],\n",
      "        [ 6.5038e-33,  9.1838e-41,  9.1837e-41]])\n",
      "tensor([[0.6316, 0.2185, 0.0543],\n",
      "        [0.2805, 0.8604, 0.8324],\n",
      "        [0.6745, 0.1560, 0.5398],\n",
      "        [0.3711, 0.5163, 0.8110],\n",
      "        [0.0104, 0.9116, 0.1805]])\n",
      "tensor([[0, 0, 0],\n",
      "        [0, 0, 0],\n",
      "        [0, 0, 0],\n",
      "        [0, 0, 0],\n",
      "        [0, 0, 0]])\n"
     ]
    }
   ],
   "source": [
    "from __future__ import print_function\n",
    "import torch\n",
    "\n",
    "# show plot first run\n",
    "%matplotlib inline \n",
    "# test autocompletion with tab or tab+shift\n",
    "%config IPCompleter.greedy=True \n",
    "\n",
    "x = torch.empty(5, 3)\n",
    "print(x)\n",
    "x = torch.rand(5,3)\n",
    "print(x)\n",
    "x = torch.zeros(5, 3, dtype=torch.long)\n",
    "print(x)"
   ]
  },
  {
   "cell_type": "code",
   "execution_count": 11,
   "metadata": {},
   "outputs": [
    {
     "name": "stdout",
     "output_type": "stream",
     "text": [
      "tensor([5.5000, 3.0000])\n"
     ]
    }
   ],
   "source": [
    "x = torch.tensor([5.5, 3])\n",
    "print(x)"
   ]
  },
  {
   "cell_type": "code",
   "execution_count": 12,
   "metadata": {},
   "outputs": [
    {
     "name": "stdout",
     "output_type": "stream",
     "text": [
      "tensor([[1., 1., 1.],\n",
      "        [1., 1., 1.],\n",
      "        [1., 1., 1.],\n",
      "        [1., 1., 1.],\n",
      "        [1., 1., 1.]], dtype=torch.float64)\n"
     ]
    }
   ],
   "source": [
    "x = x.new_ones(5, 3, dtype=torch.double)      # new_* methods take in sizes\n",
    "print(x)"
   ]
  },
  {
   "cell_type": "code",
   "execution_count": 13,
   "metadata": {},
   "outputs": [
    {
     "name": "stdout",
     "output_type": "stream",
     "text": [
      "tensor([[ 0.0774,  1.3426,  0.7673],\n",
      "        [-0.3943,  0.6399,  0.4318],\n",
      "        [ 0.5081, -1.9040,  2.0715],\n",
      "        [ 1.1444, -0.2831,  0.2901],\n",
      "        [ 1.6749, -0.7960,  0.6929]])\n"
     ]
    }
   ],
   "source": [
    "x = torch.randn_like(x, dtype=torch.float)    # override dtype!\n",
    "print(x)                                      # result has the same size"
   ]
  },
  {
   "cell_type": "code",
   "execution_count": 14,
   "metadata": {},
   "outputs": [
    {
     "name": "stdout",
     "output_type": "stream",
     "text": [
      "torch.Size([5, 3])\n"
     ]
    }
   ],
   "source": [
    "print(x.size())\n"
   ]
  },
  {
   "cell_type": "code",
   "execution_count": 15,
   "metadata": {},
   "outputs": [
    {
     "name": "stdout",
     "output_type": "stream",
     "text": [
      "tensor([[ 0.5522,  1.8889,  1.3795],\n",
      "        [-0.1930,  1.0557,  0.8510],\n",
      "        [ 1.4898, -1.5135,  2.9343],\n",
      "        [ 1.5639, -0.1329,  0.5640],\n",
      "        [ 2.5337, -0.4869,  1.4400]])\n"
     ]
    }
   ],
   "source": [
    "y = torch.rand(5, 3)\n",
    "# option 1 to add\n",
    "print(x + y)"
   ]
  },
  {
   "cell_type": "code",
   "execution_count": 17,
   "metadata": {},
   "outputs": [
    {
     "name": "stdout",
     "output_type": "stream",
     "text": [
      "tensor([[ 0.5522,  1.8889,  1.3795],\n",
      "        [-0.1930,  1.0557,  0.8510],\n",
      "        [ 1.4898, -1.5135,  2.9343],\n",
      "        [ 1.5639, -0.1329,  0.5640],\n",
      "        [ 2.5337, -0.4869,  1.4400]])\n"
     ]
    }
   ],
   "source": [
    "# option 2 to add\n",
    "print(torch.add(x, y))"
   ]
  },
  {
   "cell_type": "code",
   "execution_count": 19,
   "metadata": {},
   "outputs": [
    {
     "name": "stdout",
     "output_type": "stream",
     "text": [
      "tensor([[ 0.5522,  1.8889,  1.3795],\n",
      "        [-0.1930,  1.0557,  0.8510],\n",
      "        [ 1.4898, -1.5135,  2.9343],\n",
      "        [ 1.5639, -0.1329,  0.5640],\n",
      "        [ 2.5337, -0.4869,  1.4400]])\n",
      "tensor([[ 0.5522,  1.8889,  1.3795],\n",
      "        [-0.1930,  1.0557,  0.8510],\n",
      "        [ 1.4898, -1.5135,  2.9343],\n",
      "        [ 1.5639, -0.1329,  0.5640],\n",
      "        [ 2.5337, -0.4869,  1.4400]])\n"
     ]
    }
   ],
   "source": [
    "# option 3 to add\n",
    "result = torch.empty(5, 3)\n",
    "torch.add(x, y, out=result)\n",
    "print(result)\n",
    "\n",
    "result = torch.add(x, y)\n",
    "print(result)"
   ]
  },
  {
   "cell_type": "code",
   "execution_count": 20,
   "metadata": {},
   "outputs": [
    {
     "name": "stdout",
     "output_type": "stream",
     "text": [
      "tensor([[ 0.5522,  1.8889,  1.3795],\n",
      "        [-0.1930,  1.0557,  0.8510],\n",
      "        [ 1.4898, -1.5135,  2.9343],\n",
      "        [ 1.5639, -0.1329,  0.5640],\n",
      "        [ 2.5337, -0.4869,  1.4400]])\n"
     ]
    }
   ],
   "source": [
    "# adds x to y\n",
    "y.add_(x)\n",
    "print(y)"
   ]
  },
  {
   "cell_type": "code",
   "execution_count": null,
   "metadata": {},
   "outputs": [],
   "source": []
  }
 ],
 "metadata": {
  "kernelspec": {
   "display_name": "Python 3",
   "language": "python",
   "name": "python3"
  },
  "language_info": {
   "codemirror_mode": {
    "name": "ipython",
    "version": 3
   },
   "file_extension": ".py",
   "mimetype": "text/x-python",
   "name": "python",
   "nbconvert_exporter": "python",
   "pygments_lexer": "ipython3",
   "version": "3.7.4"
  }
 },
 "nbformat": 4,
 "nbformat_minor": 2
}
