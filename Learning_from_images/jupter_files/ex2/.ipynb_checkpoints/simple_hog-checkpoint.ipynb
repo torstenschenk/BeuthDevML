{
 "cells": [
  {
   "cell_type": "code",
   "execution_count": null,
   "metadata": {},
   "outputs": [],
   "source": [
    "import numpy as np\n",
    "import cv2\n",
    "import math\n",
    "import matplotlib\n",
    "matplotlib.use('TkAgg')\n",
    "import matplotlib.pyplot as plt\n",
    "\n",
    "###############################################################\n",
    "#\n",
    "# Write your own descriptor / Histogram of Oriented Gradients\n",
    "#\n",
    "###############################################################\n",
    "\n",
    "\n",
    "def plot_histogram(hist, bins):\n",
    "    width = 0.7 * (bins[1] - bins[0])\n",
    "    center = (bins[:-1] + bins[1:]) / 2\n",
    "    plt.bar(center, hist, align='center', width=width)\n",
    "    plt.show()\n",
    "\n",
    "\n",
    "def compute_simple_hog(imgcolor, keypoints):\n",
    "\n",
    "    # convert color to gray image and extract feature in gray\n",
    "\n",
    "    # compute x and y gradients (sobel kernel size 5)\n",
    "\n",
    "    # compute magnitude and angle of the gradients\n",
    "\n",
    "    # go through all keypoints and and compute feature vector\n",
    "    descr = np.zeros((len(keypoints), 8), np.float32)\n",
    "    count = 0\n",
    "    for kp in keypoints:\n",
    "        # print kp.pt, kp.size\n",
    "        # extract angle in keypoint sub window\n",
    "        # extract gradient magnitude in keypoint subwindow\n",
    "\n",
    "        # create histogram of angle in subwindow BUT only where magnitude of gradients is non zero! Why? Find an\n",
    "        # answer to that question use np.histogram\n",
    "        #(hist, bins) = np.histogram(...)\n",
    "\n",
    "        plot_histogram(hist, bins)\n",
    "\n",
    "        descr[count] = hist\n",
    "\n",
    "    return descr\n",
    "\n",
    "\n",
    "keypoints = [cv2.KeyPoint(15, 15, 11)]\n",
    "\n",
    "# test for all test images\n",
    "test = cv2.imread('./images/hog_test/diag.jpg')\n",
    "descriptor = compute_simple_hog(test, keypoints)\n",
    "\n"
   ]
  }
 ],
 "metadata": {
  "kernelspec": {
   "display_name": "Python 3",
   "language": "python",
   "name": "python3"
  },
  "language_info": {
   "codemirror_mode": {
    "name": "ipython",
    "version": 3
   },
   "file_extension": ".py",
   "mimetype": "text/x-python",
   "name": "python",
   "nbconvert_exporter": "python",
   "pygments_lexer": "ipython3",
   "version": "3.7.4"
  }
 },
 "nbformat": 4,
 "nbformat_minor": 2
}
