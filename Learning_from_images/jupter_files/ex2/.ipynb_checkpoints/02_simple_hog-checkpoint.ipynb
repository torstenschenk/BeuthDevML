{
 "cells": [
  {
   "cell_type": "code",
   "execution_count": 3,
   "metadata": {
    "scrolled": true
   },
   "outputs": [
    {
     "name": "stdout",
     "output_type": "stream",
     "text": [
      "111\n"
     ]
    },
    {
     "data": {
      "image/png": "[encoded data removed]",
      "text/plain": [
       "<Figure size 432x288 with 1 Axes>"
      ]
     },
     "metadata": {
      "needs_background": "light"
     },
     "output_type": "display_data"
    }
   ],
   "source": [
    "import numpy as np\n",
    "import cv2\n",
    "import math\n",
    "import matplotlib\n",
    "matplotlib.use('TkAgg')\n",
    "import matplotlib.pyplot as plt\n",
    "\n",
    "# show plot first run\n",
    "%matplotlib inline \n",
    "# test autocompletion with tab or tab+shift\n",
    "%config IPCompleter.greedy=True \n",
    "\n",
    "###############################################################\n",
    "#\n",
    "# Write your own descriptor / Histogram of Oriented Gradients\n",
    "#\n",
    "###############################################################\n",
    "\n",
    "def im2double(im):\n",
    "    \"\"\"\n",
    "    Converts uint image (0-255) to double image (0.0-1.0) and generalizes\n",
    "    this concept to any range.\n",
    "\n",
    "    :param im:\n",
    "    :return: normalized image\n",
    "    \"\"\"\n",
    "    min_val = np.min(im.ravel())\n",
    "    max_val = np.max(im.ravel())\n",
    "    \n",
    "    #if (max_val - min_val) == 0:\n",
    "        # create empty image!\n",
    "        \n",
    "    out = (im.astype('float') - min_val) / (max_val - min_val)\n",
    "    return out\n",
    "\n",
    "def plot_histogram(hist, bins):\n",
    "    width = 0.5 #0.7 * (bins[1] - bins[0])\n",
    "    center = (bins[:-1] + bins[1:]) / 2\n",
    "    plt.xlim((-0.2,2*np.pi))\n",
    "    plt.bar(center, hist, align='center', width=width)\n",
    "    plt.show()\n",
    "\n",
    "\n",
    "def compute_simple_hog(imgcolor, keypoints):\n",
    "\n",
    "    # convert color to gray image and extract feature in gray\n",
    "    gray = cv2.cvtColor(imgcolor, cv2.COLOR_BGR2GRAY)\n",
    "    imgnorm = np.float32(gray)\n",
    "    # 2. convert image to 0-1 image (see im2double)\n",
    "    #imgnorm = im2double(gray)\n",
    "    # compute x and y gradients (sobel kernel size 5)\n",
    "\n",
    "    sobelx = cv2.Sobel(imgnorm, cv2.CV_64F, 1, 0, ksize=5)\n",
    "    sobely = cv2.Sobel(imgnorm, cv2.CV_64F, 0, 1, ksize=5)\n",
    "    \n",
    "    # compute magnitude and angle of the gradients\n",
    "    phase=cv2.phase(sobelx,sobely,True)\n",
    "    # Calculate the magnitude\n",
    "    gradmag = np.sqrt(sobelx**2 + sobely**2)\n",
    "    # print(phase)\n",
    "    #cv2.imshow(\"Phase\", phase+0.5)\n",
    "    #cv2.imshow(\"Magni\",gradmag )\n",
    "    #cv2.waitKey(0) \n",
    "    #cv2.destroyAllWindows()\n",
    "\n",
    "    # go through all keypoints and and compute feature vector\n",
    "    descr = np.zeros((len(keypoints), 8), np.float32)\n",
    "    count = 0\n",
    "    for kp in keypoints:\n",
    "        #print(kp.pt, kp.size)\n",
    "        halfsize = int(kp.size/2)\n",
    "        \n",
    "        # get indices\n",
    "        sub = gradmag[int(kp.pt[0])-halfsize:int(kp.pt[0])+halfsize+1,\n",
    "                int(kp.pt[1])-halfsize:int(kp.pt[1])+halfsize+1]\n",
    "        seriell = np.ravel(sub)\n",
    "        # select valid phases\n",
    "        sub = phase[int(kp.pt[0])-halfsize:int(kp.pt[0])+halfsize+1,\n",
    "                int(kp.pt[1])-halfsize:int(kp.pt[1])+halfsize+1]\n",
    "        phaseseriell = np.ravel(sub)\n",
    "        validphase = phaseseriell[seriell>0]\n",
    "        print(len(validphase))\n",
    "        \n",
    "        # create histogram of angle in subwindow BUT only where magnitude of gradients is non zero! Why? Find an\n",
    "        # answer to that question use np.histogram\n",
    "        (hist, bins) = np.histogram(validphase,bins=8)\n",
    "\n",
    "        plot_histogram(hist, bins)\n",
    "\n",
    "        descr[count] = hist\n",
    "        count+=1\n",
    "    return descr\n",
    "\n",
    "\n",
    "keypoints = [cv2.KeyPoint(15, 15, 11)]\n",
    "#print(len(keypoints))\n",
    "\n",
    "# test for all test images\n",
    "#test = cv2.imread('./images/hog_test/circle.jpg')\n",
    "test = cv2.imread('./images/hog_test/diag.jpg')\n",
    "#test = cv2.imread('./images/hog_test/horiz.jpg')\n",
    "#test = cv2.imread('./images/hog_test/vert.jpg')\n",
    "\n",
    "descriptor = compute_simple_hog(test, keypoints)\n",
    "\n"
   ]
  },
  {
   "cell_type": "code",
   "execution_count": null,
   "metadata": {},
   "outputs": [],
   "source": []
  }
 ],
 "metadata": {
  "kernelspec": {
   "display_name": "Python 3",
   "language": "python",
   "name": "python3"
  },
  "language_info": {
   "codemirror_mode": {
    "name": "ipython",
    "version": 3
   },
   "file_extension": ".py",
   "mimetype": "text/x-python",
   "name": "python",
   "nbconvert_exporter": "python",
   "pygments_lexer": "ipython3",
   "version": "3.7.4"
  }
 },
 "nbformat": 4,
 "nbformat_minor": 2
}
