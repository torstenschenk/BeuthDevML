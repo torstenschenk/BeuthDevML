{
 "cells": [
  {
   "cell_type": "code",
   "execution_count": 2,
   "metadata": {},
   "outputs": [
    {
     "name": "stdout",
     "output_type": "stream",
     "text": [
      "(200, 2)\n"
     ]
    },
    {
     "data": {
      "text/plain": [
       "<Figure size 640x480 with 1 Axes>"
      ]
     },
     "metadata": {},
     "output_type": "display_data"
    }
   ],
   "source": [
    "import numpy as np\n",
    "import matplotlib.pyplot as plt\n",
    "\n",
    "N = 100 # number of points per class\n",
    "D = 2 # dimensionality\n",
    "K = 2 # number of classes\n",
    "X = np.zeros((N*K,D)) # data matrix (each row = single example)\n",
    "y = np.zeros(N*K, dtype='uint8') # class labels\n",
    "yc = np.zeros((N*K,2))\n",
    "for j in range(K):\n",
    "    ix = range(N*j,N*(j+1))\n",
    "    r = np.linspace(0.0,1,N) # radius\n",
    "    t = np.linspace(j*4,(j+1)*4,N) + np.random.randn(N)*0.2 # theta\n",
    "    X[ix] = np.c_[r*np.sin(t), r*np.cos(t)]\n",
    "    y[ix] = j\n",
    "    if j == 0:\n",
    "        yc[ix] = np.matrix([[1, 0]])\n",
    "    else:\n",
    "        yc[ix] = np.matrix([[0, 1]])\n",
    "# lets visualize the data:\n",
    "print(X.shape)\n",
    "plt.scatter(X[:, 0], X[:, 1], c=y, s=40, cmap=plt.cm.Spectral)\n",
    "plt.show()"
   ]
  },
  {
   "cell_type": "code",
   "execution_count": 5,
   "metadata": {},
   "outputs": [
    {
     "name": "stdout",
     "output_type": "stream",
     "text": [
      "iteration 0: cost 274.907940\n",
      "iteration 100: cost 88.810151\n",
      "iteration 200: cost 85.115844\n",
      "iteration 300: cost 84.228090\n",
      "iteration 400: cost 83.580985\n",
      "iteration 500: cost 82.812910\n",
      "iteration 600: cost 81.783566\n",
      "iteration 700: cost 81.138411\n",
      "iteration 800: cost 80.464869\n",
      "iteration 900: cost 79.905234\n",
      "iteration 1000: cost 79.681937\n",
      "iteration 1100: cost 79.438972\n",
      "iteration 1200: cost 79.514947\n",
      "iteration 1300: cost 79.137146\n",
      "iteration 1400: cost 78.303339\n",
      "iteration 1500: cost 78.066946\n",
      "iteration 1600: cost 77.550434\n",
      "iteration 1700: cost 76.441784\n",
      "iteration 1800: cost 75.349393\n",
      "iteration 1900: cost 75.111330\n",
      "iteration 2000: cost 75.043984\n",
      "iteration 2100: cost 75.233044\n",
      "iteration 2200: cost 79.278595\n",
      "iteration 2300: cost 70.800822\n",
      "iteration 2400: cost 70.265715\n",
      "iteration 2500: cost 74.985114\n",
      "iteration 2600: cost 71.257835\n",
      "iteration 2700: cost 98.970976\n",
      "iteration 2800: cost 202.666437\n",
      "iteration 2900: cost 70.294073\n",
      "iteration 3000: cost 70.999707\n",
      "iteration 3100: cost 69.151836\n",
      "iteration 3200: cost 72.310073\n",
      "iteration 3300: cost 70.701553\n",
      "iteration 3400: cost 69.644964\n",
      "iteration 3500: cost 1131.665430\n",
      "iteration 3600: cost 70.510100\n",
      "iteration 3700: cost 1044.422129\n",
      "iteration 3800: cost 69.784710\n",
      "iteration 3900: cost 79.893836\n",
      "iteration 4000: cost 69.663047\n",
      "iteration 4100: cost 71.788826\n",
      "iteration 4200: cost 77.598580\n",
      "iteration 4300: cost 69.996832\n",
      "iteration 4400: cost 72.466913\n",
      "iteration 4500: cost 69.317925\n",
      "iteration 4600: cost 583.000902\n",
      "iteration 4700: cost 70.120977\n",
      "iteration 4800: cost 81.291039\n",
      "iteration 4900: cost 69.767150\n",
      "training accuracy: 0.76\n"
     ]
    }
   ],
   "source": [
    "h = 1000\n",
    "W1 = 0.1 * np.random.randn(D, h)\n",
    "W2 = 0.1 * np.random.randn(h, K)\n",
    "\n",
    "learning_rate = 1e-4\n",
    "\n",
    "def relu(x):\n",
    "    return np.maximum(0.0,x)\n",
    "\n",
    "def relu_derivative(output):\n",
    "    output[output <= 0] = 0\n",
    "    output[output>0] = 1\n",
    "    return output\n",
    "\n",
    "\n",
    "for i in range(5000):\n",
    "    \n",
    "    m1 = np.dot(X, W1)\n",
    "    a1 = relu(m1)\n",
    "    \n",
    "    m2 = np.dot(a1, W2)\n",
    "    cost = np.sum((m2 - yc)**2)\n",
    "    if i % 100 == 0:\n",
    "        print(\"iteration %d: cost %f\" % (i, cost))\n",
    "        \n",
    "    dCostdm2 = 2*(m2 - yc)\n",
    "    dm2da1 = W2\n",
    "    dm2dW2 = a1\n",
    "    da1dm1 = relu_derivative(a1)\n",
    "    \n",
    "    dm1dW1 = X\n",
    "    \n",
    "    tmp1 = np.dot(dCostdm2, dm2da1.T)\n",
    "    tmp2 = tmp1 * da1dm1\n",
    "    \n",
    "    dCostdW1 = np.dot(dm1dW1.T, tmp2)\n",
    "    \n",
    "    dCostdW2 = np.dot(dm2dW2.T, dCostdm2)\n",
    "    \n",
    "    W1 -= learning_rate * dCostdW1\n",
    "    W2 -= learning_rate * dCostdW2\n",
    "    \n",
    "# evaluate training set accuracy\n",
    "hidden_layer = np.maximum(0, np.dot(X, W1))\n",
    "scores = np.dot(hidden_layer, W2)\n",
    "# print(scores)\n",
    "predicted_class = np.argmax(scores, axis=1)\n",
    "print('training accuracy: %.2f' % (np.mean(predicted_class == y)))\n",
    "    "
   ]
  },
  {
   "cell_type": "code",
   "execution_count": 6,
   "metadata": {},
   "outputs": [
    {
     "data": {
      "text/plain": [
       "(-1.905854696231461, 1.654145303768542)"
      ]
     },
     "execution_count": 6,
     "metadata": {},
     "output_type": "execute_result"
    },
    {
     "data": {
      "image/png": "[encoded data removed]",
      "text/plain": [
       "<Figure size 432x288 with 1 Axes>"
      ]
     },
     "metadata": {},
     "output_type": "display_data"
    }
   ],
   "source": [
    "# plot the resulting classifier\n",
    "h = 0.02\n",
    "x_min, x_max = X[:, 0].min() - 1, X[:, 0].max() + 1\n",
    "y_min, y_max = X[:, 1].min() - 1, X[:, 1].max() + 1\n",
    "xx, yy = np.meshgrid(np.arange(x_min, x_max, h),\n",
    "                     np.arange(y_min, y_max, h))\n",
    "Z = np.dot(np.maximum(0, np.dot(np.c_[xx.ravel(), yy.ravel()], W1)), W2)\n",
    "Z = np.argmax(Z, axis=1)\n",
    "Z = Z.reshape(xx.shape)\n",
    "fig = plt.figure()\n",
    "plt.contourf(xx, yy, Z, cmap=plt.cm.Spectral, alpha=0.8)\n",
    "plt.scatter(X[:, 0], X[:, 1], c=y, s=40, cmap=plt.cm.Spectral)\n",
    "plt.xlim(xx.min(), xx.max())\n",
    "plt.ylim(yy.min(), yy.max())\n",
    "#fig.savefig('spiral_net.png')"
   ]
  }
 ],
 "metadata": {
  "kernelspec": {
   "display_name": "Python 3",
   "language": "python",
   "name": "python3"
  },
  "language_info": {
   "codemirror_mode": {
    "name": "ipython",
    "version": 3
   },
   "file_extension": ".py",
   "mimetype": "text/x-python",
   "name": "python",
   "nbconvert_exporter": "python",
   "pygments_lexer": "ipython3",
   "version": "3.6.5"
  }
 },
 "nbformat": 4,
 "nbformat_minor": 2
}
