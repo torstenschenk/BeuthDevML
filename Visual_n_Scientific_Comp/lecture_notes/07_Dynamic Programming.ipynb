{
 "cells": [
  {
   "cell_type": "markdown",
   "metadata": {},
   "source": [
    "#### Knapsack Problem \n",
    "\n",
    "Dieses Problem kann man mit Dynamischer Programmierung gut lösen, da es sich gut in Teilprobleme aufteilen lässt. Siehe Erklärung in den Folien."
   ]
  },
  {
   "cell_type": "code",
   "execution_count": 2,
   "metadata": {},
   "outputs": [
    {
     "name": "stdout",
     "output_type": "stream",
     "text": [
      "0\n",
      "1\n",
      "2\n",
      "3\n",
      "[[ 0.  0.  0.  0.  0.]\n",
      " [ 0.  0.  0.  0.  0.]\n",
      " [16. 16. 16. 16.  0.]\n",
      " [16. 19. 19. 19.  0.]\n",
      " [16. 19. 23. 23.  0.]\n",
      " [16. 35. 35. 35.  0.]\n",
      " [16. 35. 39. 39.  0.]\n",
      " [16. 35. 42. 44.  0.]]\n",
      "bag is worth: 0.0\n",
      "selected items: [(28, 5)]\n"
     ]
    }
   ],
   "source": [
    "import sys\n",
    "import numpy as np\n",
    "\n",
    "def knapsack1d(items, maxweight):\n",
    "    \"\"\"\n",
    "    1D Knapsack (an item with a specific weight and only a single value). \n",
    "    A lookup table is created of maxweight+1 rows for the capacity and len(items+1) cols \n",
    "    for the number of possible items. \n",
    "    \"\"\"\n",
    "    \n",
    "    \n",
    "    lookup = np.zeros((maxweight+1, len(items)+1))\n",
    "\n",
    "    # Enumerate through the items and fill in the lookup table\n",
    "    # i => columns - number of items\n",
    "    for i, (value, weight) in enumerate(items):\n",
    "        \n",
    "        # the first column is filled with zeros so we can skip it\n",
    "        i += 1\n",
    "        # iterate over rows\n",
    "        for capacity in range(maxweight + 1):\n",
    "            \n",
    "            # Handle the case where the weight of the current item is greater\n",
    "            # than the \"running capacity\" - we can't add it to the knapsack\n",
    "            if weight > capacity:\n",
    "                lookup[capacity, i] = lookup[capacity, i - 1]\n",
    "            else:\n",
    "                # Otherwise, we must choose between two possible candidate values:\n",
    "                # 1) the value of \"running capacity\" as it stands with the last item\n",
    "                #    that was computed; if this is larger, then we skip the current item\n",
    "                # 2) the value of the current item plus the value of a previously computed\n",
    "                #    set of items, constrained by the amount of capacity that would be left\n",
    "                #    in the knapsack (running capacity - item's weight)\n",
    "                candidateA = lookup[capacity, i - 1]\n",
    "                candidateB = lookup[capacity - weight, i - 1] + value\n",
    "                \n",
    "                # Just take the maximum of the two candidates; by doing this, we are\n",
    "                # in effect \"setting in stone\" the best value so far for a particular\n",
    "                # prefix of the items, and for a particular \"prefix\" of knapsack capacities\n",
    "                lookup[capacity, i] = max(candidateA, candidateB)\n",
    "\n",
    "    # Reconstruction\n",
    "    # Iterate through the values table, and check\n",
    "    # to see which of the two candidates were chosen. See slides\n",
    "    selection = []\n",
    "    i = len(items)\n",
    "    j = maxweight\n",
    "    while i > 0:\n",
    "        # start last row and last column\n",
    "        # if values are not the same - take the item\n",
    "        if lookup[j, i] != lookup[j, i - 1]:\n",
    "            selection.append(items[i - 1])\n",
    "            j -= items[i - 1][1]\n",
    "        i -= 1\n",
    "\n",
    "    # Reverse the selection list, so that it is presented\n",
    "    # in the order that it was given\n",
    "    selection.reverse()\n",
    "    \n",
    "    print(lookup)\n",
    "    # Return the best value, and the reconstruction list\n",
    "    return lookup[maxweight, len(items)], selection\n",
    "\n",
    "\n",
    "maxweight = 7\n",
    "items = [(16,2),(19,3),(23,4),(28,5)]\n",
    "value, selected_items = knapsack1d(items, maxweight)\n",
    "print(\"bag is worth:\", value)\n",
    "print(\"selected items:\", selected_items)\n",
    "# TODO sum over all"
   ]
  },
  {
   "cell_type": "code",
   "execution_count": null,
   "metadata": {},
   "outputs": [],
   "source": []
  }
 ],
 "metadata": {
  "kernelspec": {
   "display_name": "Python 3",
   "language": "python",
   "name": "python3"
  },
  "language_info": {
   "codemirror_mode": {
    "name": "ipython",
    "version": 3
   },
   "file_extension": ".py",
   "mimetype": "text/x-python",
   "name": "python",
   "nbconvert_exporter": "python",
   "pygments_lexer": "ipython3",
   "version": "3.7.4"
  }
 },
 "nbformat": 4,
 "nbformat_minor": 2
}
