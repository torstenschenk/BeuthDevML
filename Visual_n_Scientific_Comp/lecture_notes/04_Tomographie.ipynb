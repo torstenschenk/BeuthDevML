{
 "cells": [
  {
   "cell_type": "markdown",
   "metadata": {},
   "source": [
    "### Computertomographie\n",
    "\n",
    "__Hinweis:__ Ich habe hier absichtlich eine andere Notation gewählt als in der Vorlesung. Die Berechnung und das Gleichungssystems sind aber nach wie vor das Gleiche. Ich möchte Ihnen damit nur zeigen, dass nur die leichte Änderung der Notation das Problem nicht schwieriger wird. \n",
    "\n",
    "Bei der Computertomographie soll die Dichteverteilung innerhalb eines Objektes bestimmen werden, ohne das Objekt zu zerschneiden. Das Objekt wird dazu mit einer Vielzahl von Strahlen ${S_k} {k \\in K}$ durchleuchtet\n",
    "\n",
    "![Idee der Computertomographie](./images/tomo1.png)\n",
    "\n",
    "und für jeden Strahl $S_k$ wird der Intensitätsverlust bestimmt, welcher beim Durchdringen des Objektes auftritt. Aus den Intensitätsverlusten lässt sich dann die Dichteverteilung im Objekt rekonstruieren.\n",
    "\n",
    "Grundlage der Rekonstruktion ist die folgende Gleichung, welche Dichte $\\rho(x)$ und Intensitätsverlust $I_0(k)/I_1(k)$ in Zusammenhang setzt:\n",
    "\n",
    "$$\n",
    "log\\left( \\frac{I_0^{(k)}}{I_1^{(k)}} \\right) = \\int_{S_k} \\rho(s) ds\t\n",
    "$$\n",
    "\n",
    "Die rechte Seite der Gleichung bestimmt den Intensitätsverlust entlang des Strahles $S_k$ durch das Integral über die Dichte, welche proportional zur Absorption ist. Die linke Seite ist der logarithmierte Intensitätsverlust zwischen Anfang und Ende eines Strahls. Die Intensitäten $I_0^{(k)}$ und $I_1^{(k)}$ sind experimentell bestimmbare Größen, was die Voraussetzung für die Rekonstruktion der Dichte $\\rho(x)$ im Objekt ist. Die obige Gleichung bekommt eine besonders einfache Form, wenn die Dichte innerhalb des Objektes stückweise konstant ist (wie z.B. in Abbildung 2(a)). Ein Strahl $S_k$ lässt sich dann in mehrere Segmente $\\lambda_1 . . . \\lambda_n$ mit Länge $|\\lambda_i|$ unterteilen, über welchen die Dichte $\\rho(x)$ einen konstanten Wert $\\rho_i$ hat. Für Gleichung 1 gilt dann\n",
    "\n",
    "![Idee der Computertomographie](./images/tomo2.png)\n",
    "\n",
    "$$\n",
    "log\\left( \\frac{I_0^{(k)}}{I_1^{(k)}} \\right) = \\int_{S_k} \\rho(s) ds = \\sum_{i=1}^n \\int_{\\lambda_i} \\rho(s) ds = \\sum_{i=1}^n |\\lambda_i| \\rho_i\n",
    "$$\n",
    "\n",
    "Diese Vereinfachung wird bei der Computertomographie ausgenutzt. Um die Dichteverteilung innerhalb des Objektes näherungsweise zu bestimmen, wird ein Raster über das Objekt gelegt und für jeden Quadranten des Rasters angenommen, dass die Dichte darin konstant ist. Dabei bezeichnet $Q_{ij}$ den Quadranten in der $i$-ten Zeile und $j$-ten Spalte eines $n \\times n$-Raster, $\\rho_{ij}$ die Dichte im Quadranten $Q_{ij}$ und $L_{ij}^{(k)}$ die Länge des Schnittes des Strahls $S_k$ mit dem Quadranten $Q_{ij}$. Aus der voherigen Gleichung erhalten wir dann:\n",
    "\n",
    "$$\n",
    "V_k = log\\left( \\frac{I_0}{I_1} \\right) = \\sum_{i,j=1}^n \\int_{Q_{ij} \\cap S_k} \\rho_{ij} ds = \\sum_{i,j=1}^n L_{ij}^{(k)} \\rho_{ij}\n",
    "$$\n",
    "\n",
    "In der Vorlesung hatten wir das in dieser Form hergeleitet für die Längen $\\lambda_{ij}$:  \n",
    "\n",
    "$$\n",
    "I_1 = I_0 \\cdot \\prod_{ij} e^{- \\rho_{ij} \\, {|{\\lambda_{ij}}|}}\n",
    "$$\n",
    "\n",
    "Wenn wir durch $I_0$ dividieren und logarithmieren erhalten wir\n",
    "\n",
    "$$\n",
    "log\\left( \\frac{I_0}{I_1} \\right) = - \\sum_{ij} |{\\lambda_{ij}}| \\rho_{ij}\n",
    "$$\n",
    "\n",
    "Um das Minuszeichen wegzubekommen nutzen wir eine Umstellung $-\\log( y / x) = \\log( x / y)$, unsere Abschwächungskoeffizienten werden zu unseren Unbekannten $x_{ij}$ und wir erhalten\n",
    "\n",
    "$$log\\left( \\frac{I_0}{I_1} \\right) = \\sum_{ij} x_{ij} \\, \\lambda_{ij}$$ \n",
    "\n",
    "Das sieht für einige vielleicht erstmal schlimm aus, wird aber aus dem Stoff der Vorlesung und dem vorgegebenen SourceCode hoffentlich klarer. Die Gleichung 3 ist ein lineares Gleichungssystem mit einer Gleichung für jeden Strahl und den Dichten der Quadranten als Unbekannten. In Matrixnotation $Ax = b$ lässt sich dieses Gleichungssystem folgendermaßen aufschreiben:\n",
    "\n",
    "$$\n",
    "\\underbrace{\\begin{pmatrix}\n",
    "\tL_{11}^{(1)} & L_{12}^{(1)} & \\cdots & \tL_{1n}^{(1)} & L_{21}^{(1)} & L_{22}^{(1)} & \\cdots & L_{nn}^{(1)} \\\\\n",
    "\tL_{11}^{(2)} & L_{12}^{(2)} & \\cdots & \tL_{1n}^{(2)} & L_{21}^{(2)} & L_{22}^{(2)} & \\cdots & L_{nn}^{(2)} \\\\\n",
    "\t\\vdots & \\vdots & \\cdots & \t\\vdots & \\vdots & \\vdots) & \\cdots & \\vdots \\\\\t\t\n",
    "\tL_{11}^{(K)} & L_{12}^{(K)} & \\cdots & \tL_{1n}^{(K)} & L_{21}^{(K)} & L_{22}^{(K)} & \\cdots & L_{nn}^{(K)} \t\t\t \n",
    "\\end{pmatrix}}_\\text{A} \\cdot \\underbrace{\\begin{pmatrix}\n",
    "\tx_{11} \\\\ x_{12} \\\\ \\vdots \\\\ x_{1n} \\\\ x_{21} \\\\ x_{22} \\\\ \\vdots \\\\ x_{nn} \n",
    "\\end{pmatrix}}_\\text{x} = \\underbrace{\\begin{pmatrix}\n",
    "\tV_1 \\\\ V_2 \\\\ \\\\ \\vdots \\\\ \\\\ V_K\n",
    "\\end{pmatrix}}_\\text{b}\n",
    "$$\n",
    "\n",
    "mit $A \\in \\mathbb{R}^{K \\times n^2}$, $x \\in \\mathbb{R}^{n^2}$ und $b \\in \\mathbb{R}^{K}$. In der Regel sind sinnvolle Ergebnisse nur zu erwarten, wenn die Anzahl der Gleichungen $K$ (d.h. die Anzahl der Strahlen) größer ist als die Anzahl $n^2$ der Quadranten des Rasters. Es handelt sich dann um ein überbestimmtes Gleichungssystem, welches mittels Methoden der Ausgleichsrechnung gelöst werden muss. \n",
    "\n",
    "Bei der Computertomographie werden nicht beliebige Strahlen verwendet, sondern eine Reihe von Aufnahmen mit parallelen Strahlen aus verschiedenen Winkeln gemacht (Abbildung 1). Eine Matrix, die in jeder Spalte die für eine Aufnahme ermittelten Intensitäten $I_1^{(k)}$ enthält, heißt Sinogramm (Abbildung 3 oben). Nach dem Lösen des Gleichungssystems im Least-Squares Sinne erhalten sie die rekonstruierten Ergebnisse, wie in Abbildung 3 unten zu sehen. \n",
    "\n",
    "![Sinograph und Ergebnisse](./images/result.png)\n"
   ]
  },
  {
   "cell_type": "markdown",
   "metadata": {},
   "source": [
    "#### Einfaches Beispiel:\n",
    "\n",
    "Schauen wir uns das ganze am einfachen Beispiel aus der Vorlesung an (Schauen Sie hierzu in die Tafelnotizen der Veranstaltung)."
   ]
  },
  {
   "cell_type": "code",
   "execution_count": 6,
   "metadata": {},
   "outputs": [
    {
     "name": "stdout",
     "output_type": "stream",
     "text": [
      "[[1 1 0 0]\n",
      " [0 0 1 1]\n",
      " [1 0 1 0]\n",
      " [0 0 0 1]] [[-1]\n",
      " [-5]\n",
      " [-2]\n",
      " [-3]]\n",
      "Solution: [[ 0.]\n",
      " [-1.]\n",
      " [-2.]\n",
      " [-3.]]\n"
     ]
    }
   ],
   "source": [
    "import scipy.linalg\n",
    "import numpy as np\n",
    "#L = np.matrix('1 1 0 0; 0 0 1 1; 1 0 1 0; 0 1 0 1')\n",
    "L = np.matrix('1 1 0 0; 0 0 1 1; 1 0 1 0; 0 0 0 1')\n",
    "#b = np.matrix('-1; -5; -2; -4')\n",
    "b = np.matrix('-1; -5; -2; -3')\n",
    "\n",
    "print(L, b)\n",
    "#x = scipy.linalg.solve(L,b)\n",
    "#x = solve(L,b)\n",
    "x = np.linalg.solve(L,b)\n",
    "# 2**x\n",
    "print('Solution:',x)"
   ]
  },
  {
   "cell_type": "code",
   "execution_count": null,
   "metadata": {},
   "outputs": [],
   "source": []
  }
 ],
 "metadata": {
  "kernelspec": {
   "display_name": "Python 3",
   "language": "python",
   "name": "python3"
  },
  "language_info": {
   "codemirror_mode": {
    "name": "ipython",
    "version": 3
   },
   "file_extension": ".py",
   "mimetype": "text/x-python",
   "name": "python",
   "nbconvert_exporter": "python",
   "pygments_lexer": "ipython3",
   "version": "3.7.4"
  }
 },
 "nbformat": 4,
 "nbformat_minor": 2
}
