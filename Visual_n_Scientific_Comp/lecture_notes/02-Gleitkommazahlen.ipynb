{
 "cells": [
  {
   "cell_type": "markdown",
   "metadata": {},
   "source": [
    "### Gleitkommazahlen\n",
    "\n",
    "Aufgrund endlicher Resourcen im Rechner birgt die Darstellung reeller Zahlen im Computer eine große Herausforderung. Die Dezimaldarstellung von Zahlen der Form \n",
    "$$ x_1 ... x_m, x_{m+1} ... x_n = x_1, x_2 ... x_n \\times 10^{m-1}  $$ \n",
    "zum Beispiel \n",
    "$$ 123,45678 = 1,2345678 \\times 10^2$$ \n",
    "\n",
    "ist zwar für eine Abbildung im Computer geeignet, da es ausreicht die Zahlenfolge $x_1, ... x_n$ und die Position des Kommas zu speichern. Durch die endliche Menge von Speicher im Rechner, können irrationale Zahlen wie $\\pi$ und rationale Zahlen mit einer \"sehr langen\" Dezimaldarstellung nicht exakt abgebildet werden. \n",
    "Es existieren verschiedene Ansätze für die Darstellung solcher Zahlen bei denen immer versucht wird den Approximationsfehler sowohl für die Darstellung von Zahlen als auch für den entstehenden Folgefehler beim Rechnen mit diesen Zahlen möglichst gering zu halten. Diese können aber nie verhindert werden. Die wichtigsten Lektion hierbei ist zu wissen, dass es hierbei Gefahren gibt und dass diese zu Fehlern in der Berechnung führen können, wie an folgenden Beispielen deutlich wird:\n"
   ]
  },
  {
   "cell_type": "code",
   "execution_count": 2,
   "metadata": {},
   "outputs": [
    {
     "data": {
      "text/plain": [
       "2.0000000000000004"
      ]
     },
     "execution_count": 2,
     "metadata": {},
     "output_type": "execute_result"
    }
   ],
   "source": [
    "import numpy as np\n",
    "a = np.matrix([1,1])\n",
    "np.linalg.norm(a)**2"
   ]
  },
  {
   "cell_type": "code",
   "execution_count": 10,
   "metadata": {},
   "outputs": [
    {
     "data": {
      "text/plain": [
       "False"
      ]
     },
     "execution_count": 10,
     "metadata": {},
     "output_type": "execute_result"
    }
   ],
   "source": [
    "import math\n",
    "math.sqrt(2)*math.sqrt(2) == 2.\n"
   ]
  },
  {
   "cell_type": "markdown",
   "metadata": {},
   "source": [
    "\n",
    "Eine dieser Darstellungen sind die __Gleitkommazahlen__. \n",
    "\n",
    "Bei der Gleitkommazahl wird, basierend auf der Magnitude der darzustellenden Zahl, die Position des Kommas verschoben (Im Gegensatz zur Festkommazahl). Dies führt zu einem wesentlich vergrößertem Wertebereich und damit flexibleren Einsatzmöglichkeiten.\n",
    "\n",
    "Eine Gleitkommazahl besteht aus 3 Teilen:\n",
    "+ Basis $b$: Die Basis bestimmt bezüglich welcher Basis die Zahlen dargestellt werden. Für uns Menschen ist die Basis 10 am verständlichsten (weil wir 10 Finger haben). Im Computer wird die Basis $b=2$ verwendet. \n",
    "+ Mantisse $m$: Die Mantisse $m$ enthält die Ziffern der Gleitkommazahl. Je mehr Ziffern man abspeichert, umso genauer ist die Darstellung. Dieser Gleitkommaparameter wird entweder direkt angegeben oder auch in Form der kleinsten Zahl $ \\epsilon$ beschrieben, die zu 1 addiert werden kann und ein von 1 verschiedenes Ergebnis liefert $1+\\epsilon >1$.\n",
    "+ Exponent $e$: Der Exponent speichtert die Position des Kommas und damit der Größenordnung der Zahl. \n",
    "\n",
    "Damit stellt man die Gleitkommazahl wie folgt dar:\n",
    "\n",
    "$$ m_0, m_1 ... m_n \\times b^e $$\n",
    "\n",
    "Bei der Darstellung einer Gleitkommazahl im Computer wird immer die Basis b = 2 verwendet und muss deshalb nicht explizit gespeichert werden. Die Darstellung einer Gleitkommazahl im Computer ist damit (hier eine IEEE 64-Bit Gleitkommazahl):\n",
    "\n",
    "+ 1 Bit für das Vorzeichen\n",
    "+ 11-Bit für den Exponenten \n",
    "+ 52-Bit für die Mantisse\n",
    "\n",
    "Der Fehler, welcher bei der Abbildung einer beliebigen reellen Zahl in ein Gleitkommazahl-Format mit Mantisse, Basis und Exponent entsteht, hängt offensichtlich (oder zumindest intuitiv) von diesen gewählten Parametern ab. \n",
    "\n",
    "Wie bei der Rundung üblich tritt der maximale Fehler, welcher durch Rundung auf die nächste Gleitkommazahl entstehen kann genau dann auf, wenn man in der Mitte zwischen zwei benachbarten Gleitkommazahlen ist, siehe Abbildung 1 in rot. \n",
    "\n",
    "![Maximaler Rundungsfehler zwischen zwei darstellbaren Gleitkommazahlen.](./images/floating_point_1.png)\n",
    "\n",
    "Um den maximalen Rundungsfehler zu verstehen, müssen wir also den Abstand zweier Gleitkommazahlen\n",
    "bestimmen. Abbildung 2 zeigt Ihnen die darstellbaren Gleitkommazahlen in Abhängigkeit der Größe der Zahl und der Mantissenlänge. \n",
    "\n",
    "![Abstände von Gleitkommazahlen](https://upload.wikimedia.org/wikipedia/de/thumb/0/0b/Gleitkommazahlen.svg/500px-Gleitkommazahlen.svg.png)\n",
    "\n",
    "Diese Abhängig des Abstandes von Gleitkommazahlen und des Rundungsfehlers bei der Abbildung ist nicht zufällig, sondern stellt einen Kompromiss dar zwischen der Abdeckung eines großen Wertebereiches (für 64-bit Gleitkommazahlen hat man xˆmin ≈ 2.2251 × 10−308 und xˆmax = 1.7977 × 10308) in R und einer fest und nicht von der Größe der Zahl abhängigen Anzahl von Bits zur Darstellung einer Zahl. Der Kompromiss basiert dabei auf der Beobachtung, dass in sehr vielen Anwendungen der tolerierbare Fehler von der Magnitude der Ergebnisse abhängt. Zum Beispiel, wenn die darzustellende Zahl 6.0 ist und man stellt diese als 10 dar, dann ist der Fehler für die allermeisten Anwendungen vollkommen inakzeptabel. Will man jedoch 100000003.0 darstellen und dies wird als 100000000.0 abgebildet, so ist dies in vielen Fällen verwendbar. Diese Abhängigkeit des Fehlers von der Größenordnung einer Zahl wird im relativen Fehler formalisiert.\n",
    "\n",
    "\n",
    "#### Genauigkeit von Gleitkommazahlen\n",
    "\n",
    "Die maximale Genauigkeit einer Gleitkommazahldarstellung wird Maschinengenauigkeit $\\epsilon$ genannt (obwohl sie heutzutage nicht mehr von der Maschine, d.h. der Hardware, abhängig ist, sondern lediglich von der für die Anzahl der zur Computerdarstellung verwendeten Bits). \n",
    "\n",
    "Die Maschinengenauigkeit ist (zwei Mal) die kleinste Zahl $\\delta$, so dass (1 + $\\delta$) nicht wieder auf 1 gerundet wird, d.h. $$ \\epsilon = \\frac{1}{2} \\min_{\\delta} (1+\\delta) > 1$$\n",
    "\n",
    "\n",
    "In Python kann man sich die Machinengenauigkeit für jeden Datentypen ausgeben lassen:\n"
   ]
  },
  {
   "cell_type": "code",
   "execution_count": 70,
   "metadata": {},
   "outputs": [
    {
     "data": {
      "text/plain": [
       "2.2204460492503131e-16"
      ]
     },
     "execution_count": 70,
     "metadata": {},
     "output_type": "execute_result"
    }
   ],
   "source": [
    "np.finfo(np.float64).eps"
   ]
  },
  {
   "cell_type": "markdown",
   "metadata": {},
   "source": [
    "Zwei Zahlen die eigentlich nicht gleich sein können, werden dann als gleiche Zahlen im Rechner interpretiert."
   ]
  },
  {
   "cell_type": "code",
   "execution_count": 77,
   "metadata": {},
   "outputs": [
    {
     "data": {
      "text/plain": [
       "1.0"
      ]
     },
     "execution_count": 77,
     "metadata": {},
     "output_type": "execute_result"
    }
   ],
   "source": [
    "1+1e-16"
   ]
  },
  {
   "cell_type": "markdown",
   "metadata": {},
   "source": [
    "umgekehrtes Beispiel. Hier wissen wir, dass zwei Zahlen eigentlich gleich sein sollte, aber sie werden als solche nicht erkannt. "
   ]
  },
  {
   "cell_type": "code",
   "execution_count": 9,
   "metadata": {},
   "outputs": [
    {
     "data": {
      "text/plain": [
       "True"
      ]
     },
     "execution_count": 9,
     "metadata": {},
     "output_type": "execute_result"
    }
   ],
   "source": [
    "a = 1e12\n",
    "b = 1e-6\n",
    "a + b == a - b"
   ]
  },
  {
   "cell_type": "markdown",
   "metadata": {},
   "source": [
    "#### Auslöchung\n",
    "\n",
    "Einfaches Beispiel für den Effekt der Auslöschung anhand der Berechnung des numerischen Gradienten einer Funktion $$f'(x) = \\lim\\limits_{h \\rightarrow 0} \\frac{f(x+h) - f(x)}{h}$$\n",
    "\n",
    "Die Ursache für die Auslöschung liegt in den verschiedenen Größenordnungen von Minuend bzw. Subtrahend und Differenz. In der Gleitkomma-Darstellung ist dieser Unterschied erkennbar. Die Subtraktion löscht alle Ziffern am Anfang der Mantisse $m$ aus, welche für Minuend und Subtrahend gleich sind. Die Genauigkeit des Ergebnisses wird damit nur durch die Ziffern bestimmt, in welchen sich die Terme unterscheiden. Durch den Unterschied in der Größenordnung von Eingabe und Ausgabe der Subtraktion können sich jedoch nur wenige Ziffern am Ende unterscheiden (ansonsten wäre das Ergebnis nicht wesentlich kleiner als Minuend und Subtrahend). \n",
    "\n",
    "Im folgenden Beispiel gehen uns durch die Subtraktion von $f(i+eps)$ und $f(i)$ Ziffern verloren. Wir sehen also, dass Auslöschung immer dann auftritt, wenn zwei relativ zum Ergebnis große Zahlen subtrahiert werden, welche sich nur geringfügig unterscheiden, d.h. wenn die Differenz wesentlich kleiner ist, als die Zahlen selbst. Interessanter Weise tritt bei keiner anderen der verbleibenden grundlegenden arithmetischen Operationen, Addition, Multiplikation und Division, eine vergleichbare Potenzierung des relativen Fehlers auf.\n",
    "\n",
    "Hier ein Beispiel für die numerische Ableitung einer einfachen Funktion $f(x) = 10^6x$"
   ]
  },
  {
   "cell_type": "code",
   "execution_count": 11,
   "metadata": {},
   "outputs": [
    {
     "name": "stdout",
     "output_type": "stream",
     "text": [
      "[1000000.0, 999999.9998835847, 1000000.0002328306, 1000000.0, 1000000.0, 1000000.0, 1000000.0, 1000000.0, 999999.9990686774, 1000000.0, 1000000.0, 1000000.0, 1000000.0, 1000000.0, 1000000.0, 1000000.0, 1000000.0018626451, 1000000.0, 1000000.0, 1000000.0, 1000000.0, 1000000.0, 1000000.0, 1000000.0, 1000000.0, 1000000.0, 1000000.0, 1000000.0, 1000000.0, 1000000.0, 1000000.0, 1000000.0, 999999.9962747097, 999999.9962747097, 1000000.0, 1000000.0, 1000000.0, 1000000.0, 1000000.0, 1000000.0, 1000000.0, 1000000.0, 1000000.0, 1000000.0, 1000000.0, 1000000.0, 1000000.0, 1000000.0, 1000000.0, 1000000.0, 1000000.0, 1000000.0, 1000000.0, 1000000.0, 1000000.0, 1000000.0, 1000000.0, 1000000.0, 1000000.0, 1000000.0, 1000000.0, 1000000.0, 1000000.0, 1000000.0, 1000000.0, 1000000.0, 1000000.0, 1000000.0, 1000000.0, 1000000.0, 1000000.0, 1000000.0, 1000000.0, 1000000.0, 1000000.0, 1000000.0, 1000000.0, 1000000.0, 1000000.0, 1000000.0, 1000000.0, 1000000.0, 1000000.0, 1000000.0, 1000000.0, 1000000.0, 1000000.0, 1000000.0, 1000000.0, 1000000.0, 1000000.0, 1000000.0, 1000000.0, 1000000.0, 1000000.0, 1000000.0, 1000000.0, 1000000.0, 1000000.0, 1000000.0]\n"
     ]
    },
    {
     "data": {
      "image/png": "[encoded data removed]",
      "text/plain": [
       "<matplotlib.figure.Figure at 0x111046780>"
      ]
     },
     "metadata": {},
     "output_type": "display_data"
    }
   ],
   "source": [
    "import matplotlib.pyplot as plt\n",
    "\n",
    "def f(x):\n",
    "    return 10**6*x\n",
    "#     return 10**6*x*x\n",
    "\n",
    "eps = 1e-6\n",
    "grad = []\n",
    "for i in range(100):\n",
    "    grad.append((f(i+eps) - f(i)) / eps)\n",
    "    #grad.append( 10**6*2*i - ((f(i+eps) - f(i)) / eps))\n",
    "\n",
    "print(grad)\n",
    "plt.plot(grad)\n",
    "plt.show()"
   ]
  },
  {
   "cell_type": "markdown",
   "metadata": {},
   "source": [
    "Unterhaltsames Beispiel - Populationsmodell:\n",
    "\n",
    "Ein Populationsmodell wird benutzt, um sich zu überlegen, wie sich eine Population entwickelt. Ein sehr einfaches Modell ist das folgende. Eine Population $x$ liegt immer zwischen $x \\in [0,1]$. Sie fängt mit irgendeinem Wert an $x_0$. Die Population in der nächsten Generation wird dann modelliert als:\n",
    "$$\n",
    "r \\cdot x_i \\cdot (1-x_i)\n",
    "$$\n",
    "Die Idee dabei ist, dass wenn die Population zu groß wird stirbt sie aus, weil sie nicht mehr genug Resourcen hat. Wenn sie zu klein wird auch (Faktor $x_i$). Das Modell hier ist stark vereinfacht. Es geht aber auch eher darum, was für überraschende Effekte es liefert. Das Verhalten des Modells ist nur abhängig von $r$ und nicht vom Startwert. \n",
    "\n",
    "Schauen wir uns damit mal folgende Beispielwerte an - und deren nicht wirklich überraschende Ergebnisse:\n",
    "Es gibt da einige stationäre Werte - 2.0, Werte die gegen 0 gehen - 1.0. Es gibt allerdings auch Werte die in eine 2er-Periode übergehen (ab ~3.0). Hier findet dann zunächst für größere Werte auch eine Periodenverdopplung statt. Diese endet dann aber im Chaos. \n",
    "\n",
    "Hier hat man in den ersten computergenerierten Implementierungen geglaubt, es gäbe ein Problem mit den Gleitkommazahlen, das ist aber nicht der Fall ;)"
   ]
  },
  {
   "cell_type": "code",
   "execution_count": 17,
   "metadata": {},
   "outputs": [
    {
     "name": "stdout",
     "output_type": "stream",
     "text": [
      "0.75\n",
      "0.5625\n",
      "0.73828125\n",
      "0.5796661376953125\n",
      "0.7309599195141345\n",
      "0.5899725467340735\n",
      "0.7257148225025549\n"
     ]
    }
   ],
   "source": [
    "x = 0.5\n",
    "r = 3.0 # 1.0, 2.0, 3.0\n",
    "x = r * x * (1-x)\n",
    "print(x)\n",
    "x = r * x * (1-x)\n",
    "print(x)\n",
    "x = r * x * (1-x)\n",
    "print(x)\n",
    "x = r * x * (1-x)\n",
    "print(x)\n",
    "x = r * x * (1-x)\n",
    "print(x)\n",
    "x = r * x * (1-x)\n",
    "print(x)\n",
    "x = r * x * (1-x)\n",
    "print(x)"
   ]
  },
  {
   "cell_type": "code",
   "execution_count": 18,
   "metadata": {},
   "outputs": [
    {
     "data": {
      "image/png": "[encoded data removed]",
      "text/plain": [
       "<matplotlib.figure.Figure at 0x1162f4a90>"
      ]
     },
     "metadata": {},
     "output_type": "display_data"
    }
   ],
   "source": [
    "import numpy as np\n",
    "n = 1000\n",
    "r = np.linspace(2.5,4.0,n)\n",
    "iterations = 100\n",
    "last = 10\n",
    "x = 1e-5*np.ones(n)\n",
    "plt.figure(figsize=(16,16))\n",
    "plt.subplot(211)\n",
    "for i in range(iterations):\n",
    "    x = r*x*(1-x)\n",
    "    if i>=(iterations-last):\n",
    "        plt.plot(r,x,',k')\n",
    "\n",
    "plt.xlim(2.5,4)\n",
    "plt.title(\"Bifurcation diagram\")\n",
    "\n",
    "plt.show()"
   ]
  }
 ],
 "metadata": {
  "kernelspec": {
   "display_name": "Python 3",
   "language": "python",
   "name": "python3"
  },
  "language_info": {
   "codemirror_mode": {
    "name": "ipython",
    "version": 3
   },
   "file_extension": ".py",
   "mimetype": "text/x-python",
   "name": "python",
   "nbconvert_exporter": "python",
   "pygments_lexer": "ipython3",
   "version": "3.6.5"
  }
 },
 "nbformat": 4,
 "nbformat_minor": 2
}
