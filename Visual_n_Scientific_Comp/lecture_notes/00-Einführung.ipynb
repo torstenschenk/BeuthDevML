{
 "cells": [
  {
   "cell_type": "markdown",
   "metadata": {},
   "source": [
    "### Visual and Scientific Computing\n",
    "\n",
    "Für den Kurs 'Visual and Scientific Computing' werden wir unterschiedliche kleine Miniprojekte betrachten und in der notwendigen technischen Tiefe erarbeiten und implementieren. \n",
    "Dafür werden wir die Programmiersprache [Python](https://docs.python.org/3/) nutzen, die uns im Prinzip als netter programmierbarer Taschenrechner dienen wird. \n",
    "Wir brauchen keine Objektorientierung, keine aufwendige Systemarchtiktur, man muss nur etwas programmieren können.\n",
    "Zudem werden wir Numpy/Scipy eine wertvolle Bibliothek die viele nützliche Funktionen aus der Linearen Algebra enthält. Später mehr...\n",
    "In diesem Kurs wollen wir uns auf die inhaltlichen Dinge konzentieren und uns nicht mit syntaktischen oder Compilerfehlern ärgern. \n"
   ]
  },
  {
   "cell_type": "code",
   "execution_count": 1,
   "metadata": {},
   "outputs": [
    {
     "data": {
      "text/plain": [
       "matrix([[0]])"
      ]
     },
     "execution_count": 1,
     "metadata": {},
     "output_type": "execute_result"
    }
   ],
   "source": [
    "import numpy as np\n",
    "a = np.matrix([1,1])\n",
    "b = np.matrix([1,-1]).T\n",
    "a * b"
   ]
  },
  {
   "cell_type": "code",
   "execution_count": 3,
   "metadata": {
    "scrolled": false
   },
   "outputs": [
    {
     "data": {
      "text/plain": [
       "2.0000000000000004"
      ]
     },
     "execution_count": 3,
     "metadata": {},
     "output_type": "execute_result"
    }
   ],
   "source": [
    "np.linalg.norm(b)**2"
   ]
  },
  {
   "cell_type": "markdown",
   "metadata": {},
   "source": [
    "Wie bestimmen wir die Determinante einer Matrix?\n",
    "$$ A = np.array([[-0.5,-0.25], [0.25,-1.5]]) $$\n",
    "$$ A = np.array([[-1.5,-0.25], [0.25,-1.5]]) $$"
   ]
  },
  {
   "cell_type": "code",
   "execution_count": 16,
   "metadata": {},
   "outputs": [
    {
     "name": "stdout",
     "output_type": "stream",
     "text": [
      "[[-0.5  -0.25]\n",
      " [ 0.25 -1.5 ]]\n"
     ]
    },
    {
     "data": {
      "text/plain": [
       "0.3163909912109375"
      ]
     },
     "execution_count": 16,
     "metadata": {},
     "output_type": "execute_result"
    }
   ],
   "source": [
    "A = np.array([[-0.5,-0.25], [0.25,-1.5]])\n",
    "print(A)\n",
    "#print(np.linalg.det(A)*np.linalg.det(A))\n",
    "Z = np.zeros((11,11))\n",
    "d = np.linalg.det(A*A*A*A)\n",
    "\n",
    "\n",
    "d"
   ]
  },
  {
   "cell_type": "markdown",
   "metadata": {},
   "source": [
    "Systematische Betrachtung des obigen Beispiels über das Verhalten der Aufmultiplizieren von Determinanten.\n",
    "Uns interessiert das Verhalten der Zahlen. Wir wissen, dass für einige Determinanten die Werte plötzlich sehr groß werden und für andere nicht. Welche sind das?"
   ]
  },
  {
   "cell_type": "code",
   "execution_count": 300,
   "metadata": {},
   "outputs": [
    {
     "name": "stdout",
     "output_type": "stream",
     "text": [
      "[[ 1.  2.  2. ...,  2.  2.  2.]\n",
      " [ 2.  2.  2. ...,  2.  2.  2.]\n",
      " [ 2.  2.  2. ...,  2.  2.  2.]\n",
      " ..., \n",
      " [ 2.  2.  2. ...,  2.  2.  2.]\n",
      " [ 2.  2.  2. ...,  2.  2.  2.]\n",
      " [ 2.  2.  2. ...,  2.  2.  2.]]\n"
     ]
    },
    {
     "data": {
      "image/png": "[encoded data removed]",
      "text/plain": [
       "<matplotlib.figure.Figure at 0x116df3ef0>"
      ]
     },
     "metadata": {},
     "output_type": "display_data"
    }
   ],
   "source": [
    "import matplotlib.pyplot as plt\n",
    "\n",
    "size = 150\n",
    "Z = np.zeros((size,size))\n",
    "max_count = 64\n",
    "C = np.matrix([[-1.5,-0.25], [0.25,-1.5]])\n",
    "for i in range(0,size):\n",
    "    for j in range(0,size):\n",
    "        fx = (-1.5 + i / (size) * 2.0)\n",
    "        fy = (-1.0 + j / (size) * 2.0)\n",
    "        R = np.matrix([[fx,-fy],[fy,fx]])\n",
    "        C = R\n",
    "        iteration = 0\n",
    "        while np.linalg.det(R) < 4.0 and iteration < max_count:\n",
    "            R = R*R + C\n",
    "            iteration += 1            \n",
    "        Z[j,i] = iteration\n",
    "\n",
    "print(Z)\n",
    "\n",
    "plt.pcolor(Z)\n",
    "plt.show()"
   ]
  }
 ],
 "metadata": {
  "kernelspec": {
   "display_name": "Python 3",
   "language": "python",
   "name": "python3"
  },
  "language_info": {
   "codemirror_mode": {
    "name": "ipython",
    "version": 3
   },
   "file_extension": ".py",
   "mimetype": "text/x-python",
   "name": "python",
   "nbconvert_exporter": "python",
   "pygments_lexer": "ipython3",
   "version": "3.6.5"
  }
 },
 "nbformat": 4,
 "nbformat_minor": 2
}
