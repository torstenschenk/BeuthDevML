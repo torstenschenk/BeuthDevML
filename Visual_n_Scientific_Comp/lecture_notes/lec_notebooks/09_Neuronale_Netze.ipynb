{
 "cells": [
  {
   "cell_type": "markdown",
   "metadata": {},
   "source": [
    "### Wie kann eine Kostenfunktion/Fehlerfunktion aussehen?\n",
    "\n",
    "Eine Fehlerfunktion gibt prinzipiell die Abweichung eines gegebenen Ausgabevektors von einem\n",
    "gegebenen erwarteten Ausgabevektor an."
   ]
  },
  {
   "cell_type": "code",
   "execution_count": 4,
   "metadata": {},
   "outputs": [
    {
     "data": {
      "image/png": "[encoded data removed]",
      "text/plain": [
       "<Figure size 432x288 with 1 Axes>"
      ]
     },
     "metadata": {},
     "output_type": "display_data"
    }
   ],
   "source": [
    "import numpy as np \n",
    "import matplotlib.pyplot as plt\n",
    "\n",
    "# Wir definieren 20 Zufallszahlen zwischen 0 und 1\n",
    "x = np.random.uniform(0, 1, 20)\n",
    "\n",
    "# Wir definieren eine Funktion (in dem Fall eine Gerade) über die Punkte x -> f(x) = 2x\n",
    "def f(x): return x * 2\n",
    "\n",
    "# Wir erzeugen etwas normalverteiltes Rauschen mit gewisser Variance\n",
    "noise_variance = 0.2  \n",
    "noise = np.random.randn(x.shape[0]) * noise_variance\n",
    "# und fügen den Punkte etwas Rauschen hinzu \n",
    "t = f(x) + noise\n",
    "\n",
    "# Wir plotten die Punkte mit Rauschen und die Funktion\n",
    "plt.plot(x, t, 'o', label='t')\n",
    "\n",
    "plt.plot([0, 1], [f(0), f(1)], 'b-', label='f(x)')\n",
    "plt.xlabel('$x$', fontsize=15)\n",
    "plt.ylabel('$t$', fontsize=15)\n",
    "plt.ylim([0,2])\n",
    "plt.title('inputs (x) vs targets (t)')\n",
    "plt.grid()\n",
    "plt.legend(loc=2)\n",
    "plt.show()"
   ]
  },
  {
   "cell_type": "code",
   "execution_count": null,
   "metadata": {
    "collapsed": true
   },
   "outputs": [],
   "source": []
  },
  {
   "cell_type": "markdown",
   "metadata": {},
   "source": [
    "Wir optimieren dieses Model $\\mathbf{y} = \\mathbf{x} * w$ durch optimieren des Parameters $w$ so, dass die [squared error cost](http://en.wikipedia.org/wiki/Euclidean_distance#Squared_Euclidean_distance) über alle Datenpunkte minimiert wird (siehe Least-Squares). Der quadratische Fehler ist definiert als $\\theta = \\sum_{i=1}^{N} \\Vert t_i - y_i \\Vert ^2$, wobei $N$ die Anzahl der Datenpunkte im Trainingsdatensatz ist. Ziel der Optimierung ist daher:  $\\underset{w}{\\text{argmin}} \\sum_{i=1}^{N} \\Vert t_i - y_i \\Vert^2$.   \n",
    "Hinweis: Wir nehmen hier die Summe der Fehler über alle Datenpunkte - das bezeichnet man auch als Batch-Training. Man könnte den Parameter auch immer nach einem einzelnen Datenpunkte anpassen. \n",
    "Hinweis: Hier wird der quadratische Fehler als Kostenfunktion genutzt. In der Hausaufgabe nutzen wir dafür die Kreuz-entropie Fehlerfunktion (cross-entropie cost function) - siehe unten.\n",
    "\n",
    "Die Fehlerfunktion für die Variable $w$ lässt sich - wie unten dargestellt - auch darstellen. Wobei $w=2$ das Minimum der Funktion ist. \n",
    "\n",
    "Angenommen unser neuronales Netz ist im Moment nur die Darstellung von $w *x + b$ - also der lineare Klassifikator, dann lässt sich diese wie folgt implementieren: `nn(x, w)` mit der Kostenfunktion (Fehlerfunktion) `cost(y, t)`."
   ]
  },
  {
   "cell_type": "code",
   "execution_count": 5,
   "metadata": {},
   "outputs": [
    {
     "data": {
      "image/png": "[encoded data removed]",
      "text/plain": [
       "<Figure size 432x288 with 1 Axes>"
      ]
     },
     "metadata": {},
     "output_type": "display_data"
    }
   ],
   "source": [
    "# Beispiel eines SEHR einfachen Neuronales Netzwerkes y = x * w\n",
    "def nn(x, w): return x * w\n",
    "\n",
    "# Definition der Kostenfunktion\n",
    "def cost(y, t): return ((t - y)**2).sum()\n",
    "\n",
    "# Plotten des Fehlers (Kosten) gegeben eines Gewichtes w\n",
    "# ws = np.linspace(-2, 4, num=100)  # Gewichte\n",
    "# func = np.vectorize(lambda w: cost(nn(x, w) , t))\n",
    "# cost_ws = func(ws)  # Kosten an der Stelle der Gewichte\n",
    "\n",
    "ws = np.linspace(0, 4, num=100)  # weight values\n",
    "cost_ws = np.vectorize(lambda w: cost(nn(x, w) , t))(ws)  # cost for each weight in ws\n",
    "\n",
    "\n",
    "# Plot\n",
    "plt.plot(ws, cost_ws, 'r-')\n",
    "plt.xlabel('$w$', fontsize=15)\n",
    "plt.ylabel('$\\\\theta$', fontsize=15)\n",
    "plt.title('cost vs. weight')\n",
    "plt.grid()\n",
    "plt.show()"
   ]
  },
  {
   "cell_type": "markdown",
   "metadata": {},
   "source": [
    "### Optimierung der Fehlerfunktion\n",
    "\n",
    "Für eine einfache Kostenfunktion wie diese können wir schon sehen, wo die optimale Gewichtung $w$ liegen sollte. Aber die Oberfläche der Fehlerfunktion kann sehr komplex werden und mit jedem weiteren Parameter erhöht sich die Dimension der Oberfläche. Deswegen nutzen wir hier Methoden der Mathematischen Optimierung ([optimization techniques](https://en.wikipedia.org/wiki/Mathematical_optimization)) um das Minimum der Funktion zu finden.\n",
    "\n",
    "### Gradientabstiegsverfahren\n",
    "\n",
    "Ein Optimierungsverfahren, dass beim Trainieren von Neuronalen Netzes häufig eingesetzt wird nennt sich Gradientabstiegsverfahren ([gradient descent](http://en.wikipedia.org/wiki/Gradient_descent)). Dabei nutzt man den Gradienten der Fehlerfunktion $\\theta$ bezüglich der Parameter an einer bestimmten Stelle der Kostenfunktion und optimiert die Parameter in Richtung des negativen Gradienten (Richtung zum Minimum). Der Parameter $w$ wird dabei iterativ angepasst:\n",
    "\n",
    "$$w(k+1) = w(k) - \\Delta w(k)$$\n",
    "\n",
    "$w(k)$ ist der Wert $w$ in der Iteration $k$ während des Gradientenabstiegs.  \n",
    "$\\Delta w$ ist definiert als:\n",
    "\n",
    "$$\\Delta w = \\mu \\frac{\\partial \\theta}{\\partial w}$$\n",
    "\n",
    "$\\mu$ ist die Lernrate, also wie groß der Schritt in Richtung des Gradienten ist, und ${\\partial \\theta}/{\\partial w}$ ist der Gradient der Fehlerfunktion $\\theta$ bezüglich $w$. Für jeden Datenpunkt $i$ kann man den Gradienten  etnsprechend der [Kettenregel](http://en.wikipedia.org/wiki/Chain_rule) aufteilen:\n",
    "\n",
    "$$\\frac{\\partial \\theta_i}{\\partial w} = \\frac{\\partial y_i}{\\partial w} \\frac{\\partial \\theta_i}{\\partial y_i}$$\n",
    "\n",
    "wobei $\\theta_i$ die quadratische Fehlerfunktion ist, also kann man ${\\partial \\theta_i}/{\\partial y_i}$ auch als:\n",
    "\n",
    "$$\\frac{\\partial \\theta_i}{\\partial y_i} = \\frac{\\partial (t_i - y_i)^2}{\\partial y_i} = - 2 (t_i - y_i) = 2 (y_i - t_i)$$\n",
    "\n",
    "schreiben. Da gilt: $y_i = x_i * w$ können wir auch schreiben ${\\partial y_i}/{\\partial w}$:\n",
    "\n",
    "$$\\frac{\\partial y_i}{\\partial w} = \\frac{\\partial (x_i * w)}{\\partial w} = x_i $$\n",
    "\n",
    "Daraus folgt, dass $w$ durch $\\Delta w$ für jeden Datenpunkt $i$ angepasst wird:\n",
    "\n",
    "$$\\Delta w = \\mu * \\frac{\\partial \\theta_i}{\\partial w} = \\mu * 2 x_i (y_i - t_i)$$\n",
    "\n",
    "In der Batch-Verarbeitung addieren wir die Gradienten für alle Datenpunkte einfach auf:\n",
    "\n",
    "$$\\Delta w = \\mu * 2 * \\sum_{i=1}^{N} x_i (y_i - t_i)$$\n",
    "\n",
    "Das Gradientenabstiegsverfahren wird typischerweise mit zufälligen Parametern initialisiert und solange interiert, $\\Delta w$ sich nicht mehr ändert. Die Lernrate wird dann separat als Hyperparameter angepasst. \n",
    "\n",
    "Der Gradient ${\\partial \\theta}/{\\partial w}$ kann als Funktion `gradient(w, x, t)` implementiert werden. $\\Delta w$ wird über `delta_w(w_k, x, t, learning_rate)` berechnet. Hier werden 10 Iterationen des Gradientenabstiegs durchgeführt und Parameter und Kosten ausgegeben.\n",
    "\n",
    "Mehr zu dem Gradientabstieg und der Rückführung von Fehlern (Backpropagation) dann in der kommenden Veranstaltung.\n"
   ]
  },
  {
   "cell_type": "code",
   "execution_count": 6,
   "metadata": {},
   "outputs": [
    {
     "name": "stdout",
     "output_type": "stream",
     "text": [
      "w(0): 0.1000 \t cost: 20.4340\n",
      "w(1): 2.2840 \t cost: 1.0516\n",
      "w(2): 1.8749 \t cost: 0.3714\n",
      "w(3): 1.9516 \t cost: 0.3475\n",
      "w(4): 1.9372 \t cost: 0.3467\n",
      "w(5): 1.9399 \t cost: 0.3467\n",
      "w(6): 1.9394 \t cost: 0.3467\n",
      "w(7): 1.9395 \t cost: 0.3467\n",
      "w(8): 1.9395 \t cost: 0.3467\n",
      "w(9): 1.9395 \t cost: 0.3467\n",
      "w(10): 1.9395 \t cost: 0.3467\n"
     ]
    }
   ],
   "source": [
    "# Gradientenfunktion - Zur Erinnerung: y = nn(x, w) = x * w\n",
    "def gradient(w, x, t): \n",
    "    return 2 * x * (nn(x, w) - t)\n",
    "\n",
    "# Die Updatefunktion delta w\n",
    "def delta_w(w_k, x, t, learning_rate):\n",
    "    return learning_rate * gradient(w_k, x, t).sum()\n",
    "\n",
    "# Initialer Gewichtungsparameter\n",
    "w = 0.1\n",
    "# Lernrate\n",
    "learning_rate = 0.1\n",
    "\n",
    "# Gradientabstieg für 10 Iterationen\n",
    "num_iterations = 10  \n",
    "w_cost = [(w, cost(nn(x, w), t))]\n",
    "\n",
    "for i in range(num_iterations):\n",
    "    dw = delta_w(w, x, t, learning_rate)  \n",
    "    w = w - dw  # Update der Parameter\n",
    "    w_cost.append((w, cost(nn(x, w), t)))  \n",
    "\n",
    "# Print the final w, and cost\n",
    "for i in range(0, len(w_cost)):\n",
    "    print('w({}): {:.4f} \\t cost: {:.4f}'.format(i, w_cost[i][0], w_cost[i][1]))"
   ]
  },
  {
   "cell_type": "code",
   "execution_count": 7,
   "metadata": {},
   "outputs": [
    {
     "data": {
      "image/png": "[encoded data removed]",
      "text/plain": [
       "<Figure size 432x288 with 1 Axes>"
      ]
     },
     "metadata": {},
     "output_type": "display_data"
    }
   ],
   "source": [
    "# Plotten der Parameter\n",
    "plt.plot(ws, cost_ws, 'r-')  # Plot the error curve\n",
    "# Plot the updates\n",
    "for i in range(0, len(w_cost)-2):\n",
    "    w1, c1 = w_cost[i]\n",
    "    w2, c2 = w_cost[i+1]\n",
    "    plt.plot(w1, c1, 'bo')\n",
    "    plt.plot([w1, w2],[c1, c2], 'b-')\n",
    "    plt.text(w1, c1+0.5, '$w({})$'.format(i)) \n",
    "# Show figure\n",
    "plt.xlabel('$w$', fontsize=15)\n",
    "plt.ylabel('$\\\\theta$', fontsize=15)\n",
    "plt.title('Gradientabstieg über dem Paramter w')\n",
    "plt.grid()\n",
    "plt.show()"
   ]
  },
  {
   "cell_type": "code",
   "execution_count": 8,
   "metadata": {},
   "outputs": [
    {
     "data": {
      "image/png": "[encoded data removed]",
      "text/plain": [
       "<Figure size 432x288 with 1 Axes>"
      ]
     },
     "metadata": {},
     "output_type": "display_data"
    }
   ],
   "source": [
    "w = 0\n",
    "# Start performing the gradient descent updates\n",
    "nb_of_iterations = 10  # number of gradient descent updates\n",
    "for i in range(nb_of_iterations):\n",
    "    dw = delta_w(w, x, t, learning_rate)  # get the delta w update\n",
    "    w = w - dw  # update the current weight parameter\n",
    "    \n",
    "# Plot the fitted line agains the target line\n",
    "# Plot the target t versus the input x\n",
    "plt.plot(x, t, 'o', label='t')\n",
    "# Plot the initial line\n",
    "plt.plot([0, 1], [f(0), f(1)], 'b-', label='f(x)')\n",
    "# plot the fitted line\n",
    "plt.plot([0, 1], [0*w, 1*w], 'r-', label='fitted line')\n",
    "plt.xlabel('input x')\n",
    "plt.ylabel('target t')\n",
    "plt.ylim([0,2])\n",
    "plt.title('input vs. target')\n",
    "plt.grid()\n",
    "plt.legend(loc=2)\n",
    "plt.show()"
   ]
  },
  {
   "cell_type": "markdown",
   "metadata": {},
   "source": [
    "### Softmax Klassifikator\n",
    "\n",
    "Die Softmax-Funktion $\\varsigma$ transformiert einen $K$-dimensionalen Vektor $\\mathbf{z}$ in einen $K$-dimensionalen Vektor $\\mathbf{y}$ mit Werten zwischen $0$ und $1$. Die Funktion ist eine normalisierte Exponentialfunktion und definiert als:\n",
    "\n",
    "$$ y_k = \\varsigma(\\mathbf{z})_k = \\frac{e^{z_k}}{\\sum_{d=1}^K e^{z_d}} \\quad \\text{für} \\; k = 1 \\cdots K$$\n",
    "\n",
    "Der Nenner $\\sum_{d=1}^K e^{z_d}$ stellt sicher, dass $\\sum_{k=1}^K y_k = 1$. Die Ausgabe eines neuronalen Netzes kann durch die Softmax-Funktion als Layer mit $K$ Neuronen dargestellt werden.\n",
    "\n",
    "Es lässt sich auch herleiten, dass $P(t=k | \\mathbf{z})$ die Wahrscheinlichkeit ist, die die Klasse $k$ hat gegeben der Eingabe $\\mathbf{z}$.\n",
    "\n",
    "$$ \n",
    "\\begin{bmatrix} \n",
    "P(t=1 | \\mathbf{z}) \\\\\n",
    "\\vdots \\\\\n",
    "P(t=K | \\mathbf{z}) \\\\\n",
    "\\end{bmatrix}\n",
    "= \n",
    "\\begin{bmatrix} \n",
    "\\varsigma(\\mathbf{z})_1 \\\\\n",
    "\\vdots \\\\\n",
    "\\varsigma(\\mathbf{z})_K \\\\\n",
    "\\end{bmatrix}\n",
    "= \\frac{1}{\\sum_{d=1}^K e^{z_d}}\n",
    "\\begin{bmatrix} \n",
    "e^{z_1} \\\\\n",
    "\\vdots \\\\\n",
    "e^{z_K} \\\\\n",
    "\\end{bmatrix}\n",
    "$$\n",
    "\n",
    "Daraus kann man dann folgende Fehlerfunktion ableiten (die sogenannte Kreuzentropie-Fehlerfunktion):\n",
    "$$\n",
    "\\theta = -\\log ( \\frac{e^{z_k}}{\\sum_{d=1}^K e^{z_d}} )\n",
    "$$\n"
   ]
  },
  {
   "cell_type": "code",
   "execution_count": 9,
   "metadata": {},
   "outputs": [
    {
     "name": "stdout",
     "output_type": "stream",
     "text": [
      "[[0.63097524 0.17897867 0.19004609]]\n",
      "1.7204886541090711\n"
     ]
    }
   ],
   "source": [
    "import numpy as np\n",
    "import math\n",
    "# f = np.array([123, 456, 789]) # Beispiel hier mit 3 Klassen kann manchmal zu numerischen Problemen führen\n",
    "# p = np.exp(f) / np.sum(np.exp(f)) # Bad: Numeric problem, potential blowup\n",
    "\n",
    "# Deshalb verschiebt man alle Werte von f so, dass der grösste Wert 0 ist\n",
    "\n",
    "def softmax(f):\n",
    "    f -= np.max(f) # f becomes [-666, -333, 0]\n",
    "    return np.exp(f) / np.sum(np.exp(f)) # safe to do, gives the correct answer\n",
    "\n",
    "\n",
    "f = np.matrix('0.5 -0.76 -0.7')\n",
    "probabilities = softmax(f)\n",
    "print(probabilities)\n",
    "# print(\"probs\", probabilities.shape, scores.shape)\n",
    "# average cross-entropy loss\n",
    "y = 1\n",
    "logprobs = -np.log(probabilities[0, y])\n",
    "print(logprobs)"
   ]
  },
  {
   "cell_type": "markdown",
   "metadata": {},
   "source": [
    "### Wie feuert ein einzelnes Neuron (Forward-Pass)?\n",
    "\n",
    "\n",
    "Nehmen wir uns eine kurzes Beispiel anhand des Katzenbildes aus der Vorlesung und definieren ein Neuron mit einer vorgegebenen Gewichtungsmatrix. \n",
    "\n",
    "\n",
    "Der Vorwärtsschritt in einem Neuronalen Netz rechnet dann das Skalarprodukt der Eingabe in das Neuron mit der Gewichtungsmatrix."
   ]
  },
  {
   "cell_type": "code",
   "execution_count": 10,
   "metadata": {},
   "outputs": [
    {
     "name": "stdout",
     "output_type": "stream",
     "text": [
      "[[ 0.2 -0.5  0.1  2.   1.1]] (5, 1)\n",
      "[[-96.8]]\n",
      "[[0.]]\n"
     ]
    }
   ],
   "source": [
    "class Neuron(object):\n",
    "    def __init__(self):\n",
    "#         self.weights = np.matrix('0.2 -0.5 0.1 2.0 1.1; 1.5 1.3 2.1 0.0 3.2; 0 0.25 0.2 -0.3 -1.2')\n",
    "        self.weights = np.matrix('0.2 -0.5 0.1 2.0 1.1')\n",
    "\n",
    "    def forward(self, inputs):\n",
    "        \"\"\"Vorwärtsschritt - Bias ist in der Gewichtungsmatrix enthalten.\"\"\"\n",
    "        \n",
    "        print(self.weights, inputs.shape)\n",
    "        cell_body_sum = np.dot(self.weights, inputs)\n",
    "        print(cell_body_sum)\n",
    "#         firing_rate = 1.0 / (1.0 + math.exp(-cell_body_sum)) # sigmoid activation function\n",
    "        firing_rate = np.maximum(0.0, cell_body_sum)\n",
    "        return firing_rate\n",
    "\n",
    "\n",
    "n = Neuron()\n",
    "input = np.matrix('56; 231; 24; 2; 1')\n",
    "\n",
    "activation = n.forward(input)\n",
    "print(activation)"
   ]
  },
  {
   "cell_type": "code",
   "execution_count": 13,
   "metadata": {},
   "outputs": [
    {
     "name": "stdout",
     "output_type": "stream",
     "text": [
      "(1, 10)\n",
      "cor [[2.30259042]] [[0.09999988 0.10000051 0.09999947 0.09999995 0.10000004 0.10000044\n",
      "  0.0999999  0.10000056 0.09999978 0.09999948]] [[0.09999947]]\n",
      "2.3025904186966106\n"
     ]
    }
   ],
   "source": [
    "class TwoLayerNeuralNet:\n",
    "\n",
    "    def __init__(self, input_size, hidden_size, output_size, std=1e-4):\n",
    "        \n",
    "        self.W1 = std * np.random.randn(input_size, hidden_size) \n",
    "        self.b1 = np.zeros(hidden_size)\n",
    "        self.W2 = std * np.random.randn(hidden_size, output_size)\n",
    "        self.b2 = np.zeros(output_size)\n",
    "\n",
    "    def softmax(self, z):\n",
    "        z -= np.max(z)\n",
    "        return np.exp(z) / np.sum(np.exp(z), axis=1)\n",
    "\n",
    "\n",
    "    def loss(self, X, y=None, reg=0.0):\n",
    "        N, D = X.shape\n",
    "        scores = None\n",
    "        \n",
    "        weights1 = np.dot(X, self.W1) + self.b1\n",
    "        # ReLU\n",
    "        activation1 = np.maximum(0.0, weights1)\n",
    "        scores = np.dot(activation1, self.W2) + self.b2\n",
    "        print(scores.shape)\n",
    "        probabilities = self.softmax(scores)\n",
    "        correct_logprobs = -np.log(probabilities[range(N), y])\n",
    "        print(\"cor\", correct_logprobs, probabilities, probabilities[range(N), y])\n",
    "        loss = np.sum(correct_logprobs) / N\n",
    "        \n",
    "        return loss\n",
    "    \n",
    "input = np.matrix('56 231 24 2')\n",
    "y = np.matrix('2')\n",
    "\n",
    "input_size = 4\n",
    "hidden_size = 3\n",
    "num_classes = 10\n",
    "net = TwoLayerNeuralNet(input_size, hidden_size, num_classes)\n",
    "loss = net.loss(input, y)\n",
    "print(loss)\n"
   ]
  }
 ],
 "metadata": {
  "kernelspec": {
   "display_name": "Python 3",
   "language": "python",
   "name": "python3"
  },
  "language_info": {
   "codemirror_mode": {
    "name": "ipython",
    "version": 3
   },
   "file_extension": ".py",
   "mimetype": "text/x-python",
   "name": "python",
   "nbconvert_exporter": "python",
   "pygments_lexer": "ipython3",
   "version": "3.6.5"
  }
 },
 "nbformat": 4,
 "nbformat_minor": 2
}
