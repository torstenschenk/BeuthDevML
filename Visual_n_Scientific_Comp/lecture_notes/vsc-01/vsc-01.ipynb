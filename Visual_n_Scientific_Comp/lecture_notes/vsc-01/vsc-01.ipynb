{
 "cells": [
  {
   "cell_type": "markdown",
   "metadata": {},
   "source": [
    "<h1 style=\"font-size:2.5em;text-align:center\">Visual and Scientific Computing</h1>\n",
    "<h2 style=\"text-align:center\">Basics</h2>\n",
    "<h3 style=\"text-align:center\">WiSe 2019/20</h3>\n",
    "<p style=\"text-align:justify\">Das Lernziel dieser Übungsaufgabe ist mit der Programmiersprache Python und der Bibliothek Numpy vertraut zu werden, um diese dann als Werkzeug in den weiteren Übungen einzusetzen. Machen Sie sich deshalb bitte so gut es geht damit vertraut und nutzen Sie dafür auch bitte Online-Resourcen wie <a href=\"https://docs.scipy.org/doc/numpy-1.13.0/reference/\">https://docs.scipy.org/doc/numpy-1.13.0/reference/</a> und <a href=\"https://docs.python.org/3/\">https://docs.python.org/3/</a>.</p>"
   ]
  },
  {
   "cell_type": "markdown",
   "metadata": {},
   "source": [
    "## Aufgabe 1: Python Einführung (5 Punkte)\n",
    "\n",
    "<ol style=\"list-style: lower-alpha\"><li>Um sich mit der Programmiersprache Python vertraut zu machen, implementieren Sie einen einfachen Bubblesort-Algorithmus. Eine beispielhafte Eingabe und Ausgabe könnte so aussehen:</li></ol>\n",
    "<pre>Eingabe: [ 5 14 10  7  2 13  1 12  6  9  0  3  8 11  4]\n",
    "Ausgabe: [ 0  1  2  3  4  5  6  7  8  9 10 11 12 13 14]</pre>"
   ]
  },
  {
   "cell_type": "code",
   "execution_count": 67,
   "metadata": {},
   "outputs": [],
   "source": [
    "def bubblesort(liste:list) -> (list):\n",
    "    \"\"\"\n",
    "    Implements Bubblesort using an list as input and\n",
    "    returning a sorted list\n",
    "\n",
    "    :param list\n",
    "    :return: list\n",
    "    \"\"\"\n",
    "    \n",
    "    liste.sort()\n",
    "    print(liste)\n",
    "    \n",
    "    # TODO: Implement Bubblesort\n",
    "    tmp = []\n",
    "    \n",
    "    for backIdx in range(len(liste),-1,-1):\n",
    "        for frontIdx in range(1,backIdx):\n",
    "            print('frontIdx:',frontIdx, 'backIdx:',backIdx)\n",
    "            print('frontIdx-1:',frontIdx-1, 'elem:',liste[frontIdx-1], 'frontIdx:',frontIdx, 'elem:',liste[frontIdx])\n",
    "            if (liste[frontIdx-1] > liste[frontIdx]):\n",
    "                tmp = liste[frontIdx-1]\n",
    "                liste[frontIdx-1] = liste[frontIdx]\n",
    "                liste[frontIdx] = tmp\n",
    "                print('is bigger')\n",
    "                \n",
    "  #  for idx, z in liste:\n",
    "  #  for (n=A.size; n>1; --n){\n",
    "  #  for (i=0; i<n-1; ++i){\n",
    "  #    if (A[i] > A[i+1]){\n",
    "  #      A.swap(i, i+1)\n",
    "  #    } // Ende if\n",
    "  #  } // Ende innere for-Schleife\n",
    "  #} // Ende äußere for-Schleife\n",
    "    \n",
    "    \n",
    "    \n",
    "    return liste"
   ]
  },
  {
   "cell_type": "code",
   "execution_count": 68,
   "metadata": {},
   "outputs": [
    {
     "name": "stdout",
     "output_type": "stream",
     "text": [
      "[13, 15, 18, 22, 31, 36, 52, 61, 65, 86]\n",
      "frontIdx: 1 backIdx: 10\n",
      "frontIdx-1: 0 elem: 13 frontIdx: 1 elem: 15\n",
      "frontIdx: 2 backIdx: 10\n",
      "frontIdx-1: 1 elem: 15 frontIdx: 2 elem: 18\n",
      "frontIdx: 3 backIdx: 10\n",
      "frontIdx-1: 2 elem: 18 frontIdx: 3 elem: 22\n",
      "frontIdx: 4 backIdx: 10\n",
      "frontIdx-1: 3 elem: 22 frontIdx: 4 elem: 31\n",
      "frontIdx: 5 backIdx: 10\n",
      "frontIdx-1: 4 elem: 31 frontIdx: 5 elem: 36\n",
      "frontIdx: 6 backIdx: 10\n",
      "frontIdx-1: 5 elem: 36 frontIdx: 6 elem: 52\n",
      "frontIdx: 7 backIdx: 10\n",
      "frontIdx-1: 6 elem: 52 frontIdx: 7 elem: 61\n",
      "frontIdx: 8 backIdx: 10\n",
      "frontIdx-1: 7 elem: 61 frontIdx: 8 elem: 65\n",
      "frontIdx: 9 backIdx: 10\n",
      "frontIdx-1: 8 elem: 65 frontIdx: 9 elem: 86\n",
      "frontIdx: 1 backIdx: 9\n",
      "frontIdx-1: 0 elem: 13 frontIdx: 1 elem: 15\n",
      "frontIdx: 2 backIdx: 9\n",
      "frontIdx-1: 1 elem: 15 frontIdx: 2 elem: 18\n",
      "frontIdx: 3 backIdx: 9\n",
      "frontIdx-1: 2 elem: 18 frontIdx: 3 elem: 22\n",
      "frontIdx: 4 backIdx: 9\n",
      "frontIdx-1: 3 elem: 22 frontIdx: 4 elem: 31\n",
      "frontIdx: 5 backIdx: 9\n",
      "frontIdx-1: 4 elem: 31 frontIdx: 5 elem: 36\n",
      "frontIdx: 6 backIdx: 9\n",
      "frontIdx-1: 5 elem: 36 frontIdx: 6 elem: 52\n",
      "frontIdx: 7 backIdx: 9\n",
      "frontIdx-1: 6 elem: 52 frontIdx: 7 elem: 61\n",
      "frontIdx: 8 backIdx: 9\n",
      "frontIdx-1: 7 elem: 61 frontIdx: 8 elem: 65\n",
      "frontIdx: 1 backIdx: 8\n",
      "frontIdx-1: 0 elem: 13 frontIdx: 1 elem: 15\n",
      "frontIdx: 2 backIdx: 8\n",
      "frontIdx-1: 1 elem: 15 frontIdx: 2 elem: 18\n",
      "frontIdx: 3 backIdx: 8\n",
      "frontIdx-1: 2 elem: 18 frontIdx: 3 elem: 22\n",
      "frontIdx: 4 backIdx: 8\n",
      "frontIdx-1: 3 elem: 22 frontIdx: 4 elem: 31\n",
      "frontIdx: 5 backIdx: 8\n",
      "frontIdx-1: 4 elem: 31 frontIdx: 5 elem: 36\n",
      "frontIdx: 6 backIdx: 8\n",
      "frontIdx-1: 5 elem: 36 frontIdx: 6 elem: 52\n",
      "frontIdx: 7 backIdx: 8\n",
      "frontIdx-1: 6 elem: 52 frontIdx: 7 elem: 61\n",
      "frontIdx: 1 backIdx: 7\n",
      "frontIdx-1: 0 elem: 13 frontIdx: 1 elem: 15\n",
      "frontIdx: 2 backIdx: 7\n",
      "frontIdx-1: 1 elem: 15 frontIdx: 2 elem: 18\n",
      "frontIdx: 3 backIdx: 7\n",
      "frontIdx-1: 2 elem: 18 frontIdx: 3 elem: 22\n",
      "frontIdx: 4 backIdx: 7\n",
      "frontIdx-1: 3 elem: 22 frontIdx: 4 elem: 31\n",
      "frontIdx: 5 backIdx: 7\n",
      "frontIdx-1: 4 elem: 31 frontIdx: 5 elem: 36\n",
      "frontIdx: 6 backIdx: 7\n",
      "frontIdx-1: 5 elem: 36 frontIdx: 6 elem: 52\n",
      "frontIdx: 1 backIdx: 6\n",
      "frontIdx-1: 0 elem: 13 frontIdx: 1 elem: 15\n",
      "frontIdx: 2 backIdx: 6\n",
      "frontIdx-1: 1 elem: 15 frontIdx: 2 elem: 18\n",
      "frontIdx: 3 backIdx: 6\n",
      "frontIdx-1: 2 elem: 18 frontIdx: 3 elem: 22\n",
      "frontIdx: 4 backIdx: 6\n",
      "frontIdx-1: 3 elem: 22 frontIdx: 4 elem: 31\n",
      "frontIdx: 5 backIdx: 6\n",
      "frontIdx-1: 4 elem: 31 frontIdx: 5 elem: 36\n",
      "frontIdx: 1 backIdx: 5\n",
      "frontIdx-1: 0 elem: 13 frontIdx: 1 elem: 15\n",
      "frontIdx: 2 backIdx: 5\n",
      "frontIdx-1: 1 elem: 15 frontIdx: 2 elem: 18\n",
      "frontIdx: 3 backIdx: 5\n",
      "frontIdx-1: 2 elem: 18 frontIdx: 3 elem: 22\n",
      "frontIdx: 4 backIdx: 5\n",
      "frontIdx-1: 3 elem: 22 frontIdx: 4 elem: 31\n",
      "frontIdx: 1 backIdx: 4\n",
      "frontIdx-1: 0 elem: 13 frontIdx: 1 elem: 15\n",
      "frontIdx: 2 backIdx: 4\n",
      "frontIdx-1: 1 elem: 15 frontIdx: 2 elem: 18\n",
      "frontIdx: 3 backIdx: 4\n",
      "frontIdx-1: 2 elem: 18 frontIdx: 3 elem: 22\n",
      "frontIdx: 1 backIdx: 3\n",
      "frontIdx-1: 0 elem: 13 frontIdx: 1 elem: 15\n",
      "frontIdx: 2 backIdx: 3\n",
      "frontIdx-1: 1 elem: 15 frontIdx: 2 elem: 18\n",
      "frontIdx: 1 backIdx: 2\n",
      "frontIdx-1: 0 elem: 13 frontIdx: 1 elem: 15\n",
      "[13, 15, 18, 22, 31, 36, 52, 61, 65, 86]\n"
     ]
    }
   ],
   "source": [
    "sorted_list = bubblesort([52, 18, 65, 61, 31, 86, 36, 15, 22, 13])\n",
    "\n",
    "print(sorted_list)"
   ]
  },
  {
   "cell_type": "markdown",
   "metadata": {},
   "source": [
    "## Aufgabe 2: Numpy Einführung (5 Punkte)\n",
    "\n",
    "<p style=\"margin-left:2em\">Die Bibliothek <em>Numpy</em> ist sehr umfangreich und wir werden auch nicht jede Funktionalität brauchen, aber es ist wichtig mit den grundlegenden Datenstrukturen vertraut zu sein. Ich habe hier eine Liste vonkleinen Aufgaben zusammengestellt, die Sie in der Datei <em>numpy_basic.py</em> beantworten sollen. <strong>Suchen Sie sich insgesamt 14 (von 23) Sterne zusammen und implementieren Sie diese</strong>. Das ist häufig ein Einzeiler oder Zweizeiler. Die Musterlösung benötigt in jeder Teilaufgabe maximal drei Zeilen. Es muss aber nicht krampfhaft versucht werden diese Vorgabe zu erreichen, dies soll nur ein Hinweis darauf sein, dass Sie keinen langen Code schreiben müssen. Lesen Sie sich selbstständig in die Dokumentation ein und versuchen Sie die Fragen mit den notwendigen Numpy-Funktionen zu beantworten. Sollten Sie keine Funktion finden, implementieren Sie eine Lösung selbst in einer kleinen Funktion. Sie können auch im Kursforum nach Hilfe suchen. <strong>Bitten geben Sie die Lösung jeweils auf der Konsole aus (mittels print)</strong>. Hinweis: die print Anweisung zählt nicht zu dem Einzeiler oder Zweizeiler, wenn im Hinweis also steht <i>geht in einer Zeile</i> muss in dieser nicht auch noch die print Anweisung kommen.</p>"
   ]
  },
  {
   "cell_type": "code",
   "execution_count": 3,
   "metadata": {},
   "outputs": [],
   "source": [
    "import numpy as np"
   ]
  },
  {
   "cell_type": "markdown",
   "metadata": {},
   "source": [
    "<p style=\"margin-left:2em\">a) (*) Erzeugen Sie einen Vektor a mit Nullen der Länge 10 (10 Elemente) und setzen den Wert des 5. Elementes auf eine 1.</p>"
   ]
  },
  {
   "cell_type": "code",
   "execution_count": 4,
   "metadata": {},
   "outputs": [],
   "source": [
    "# Erzeugen Sie einen Vektor mit Nullen der Länge 10 und setzen den Wert des 5. Elementes auf eine 1.\n",
    "# YOUR CODE HERE"
   ]
  },
  {
   "cell_type": "markdown",
   "metadata": {},
   "source": [
    "<p style=\"margin-left:2em\">b) (*) Erzeugen Sie einen Vektor b mit Ganzahl-Werten von 10 bis 49 (geht in einer Zeile).</p>"
   ]
  },
  {
   "cell_type": "code",
   "execution_count": 5,
   "metadata": {},
   "outputs": [],
   "source": [
    "# Erzeugen Sie einen Vektor mit Ganzzahl-Werten von 10 bis 49 (geht in einer Zeile).\n",
    "# YOUR CODE HERE"
   ]
  },
  {
   "cell_type": "markdown",
   "metadata": {},
   "source": [
    "<p style=\"margin-left:2em\">c) (*) Erzeugen Sie einen Vektor mit 8 Einträgen zwischen -1 und 1 bei dem alle Werte die gleichen Abstände habe und sowohl -1 als auch 1 enthalten sind (geht in einer Zeile).</p>"
   ]
  },
  {
   "cell_type": "code",
   "execution_count": 6,
   "metadata": {},
   "outputs": [],
   "source": [
    "# Erzeugen Sie einen Vektor mit 8 Einträgen zwischen -1 und 1 bei dem alle Werte die gleichen Abstände habe und sowohl -1 als auch 1 enthalten sind (geht in einer Zeile). Hinweis: guckt euch den Unterschied zwischen numpy.arange und numpy.linspace welche Funktion passt besser?.\n",
    "# YOUR CODE HERE"
   ]
  },
  {
   "cell_type": "markdown",
   "metadata": {},
   "source": [
    "<p style=\"margin-left:2em\">d) (*) Geben Sie nur das Stück (slice) von Vektor b) aus, das die Zahlen 21 bis 38 (Stellen 11 bis 28) beinhaltet (geht in einer Zeile).</p>"
   ]
  },
  {
   "cell_type": "code",
   "execution_count": 7,
   "metadata": {},
   "outputs": [],
   "source": [
    "# Geben Sie nur das Stück (slice) von Vektor b) aus, das die Zahlen 21 bis 38 (Stellen 11 bis 28) beinhaltet (geht in einer Zeile).\n",
    "# YOUR CODE HERE"
   ]
  },
  {
   "cell_type": "markdown",
   "metadata": {},
   "source": [
    "<p style=\"margin-left:2em\">e) (*) Ändern Sie den Vektor b) indem sie das Stück (slice) von Stelle 15 bis <strong>einschließlich</strong> Stelle 25 mit den Werten negierten Werten von Stelle 1 bis <strong>einschließlich</strong> Stelle 11 überschreiben (geht in einer Zeile).</p>"
   ]
  },
  {
   "cell_type": "code",
   "execution_count": 8,
   "metadata": {},
   "outputs": [],
   "source": [
    "# Ändern Sie den Vektor b) indem sie das Stück (slice) von Stelle 15 bis einschließlich Stelle 25 mit den Werten negierten Werten von Stelle 1 bis einschließlich Stelle 11 überschreiben (geht in einer Zeile).\n",
    "# YOUR CODE HERE"
   ]
  },
  {
   "cell_type": "markdown",
   "metadata": {},
   "source": [
    "<p style=\"margin-left:2em\">f) (*) Drehen Sie die Werte des Vektors aus b) oder a) um (geht in einer Zeile).</p>"
   ]
  },
  {
   "cell_type": "code",
   "execution_count": 9,
   "metadata": {},
   "outputs": [],
   "source": [
    "# Drehen Sie die Werte des Vektors aus a) oder b) um (geht in einer Zeile).\n",
    "# YOUR CODE HERE"
   ]
  },
  {
   "cell_type": "markdown",
   "metadata": {},
   "source": [
    "<p style=\"margin-left:2em\">g) (*) Summieren Sie alle Werte in einem Array (geht in einer Zeile).</p>"
   ]
  },
  {
   "cell_type": "code",
   "execution_count": 10,
   "metadata": {},
   "outputs": [],
   "source": [
    "# Summieren Sie alle Werte in einem Array.\n",
    "# YOUR CODE HERE"
   ]
  },
  {
   "cell_type": "markdown",
   "metadata": {},
   "source": [
    "<p style=\"margin-left:2em\">h) (*) Erzeugen Sie eine 4x4 Matrix mit den Werte 0 (links oben) bis 15 (rechts unten) (geht in einer Zeile).</p>"
   ]
  },
  {
   "cell_type": "code",
   "execution_count": 11,
   "metadata": {},
   "outputs": [],
   "source": [
    "# Erzeugen Sie eine 4x4 Matrix mit den Werte 0 (links oben) bis 15 (rechts unten) (geht in einer Zeile). Tip: Schauen Sie sich numpy.reshape an\n",
    "# YOUR CODE HERE"
   ]
  },
  {
   "cell_type": "markdown",
   "metadata": {},
   "source": [
    "<p style=\"margin-left:2em\">i) (*) Erzeugen Sie eine 5x3 Matrix mit Zufallswerteintegers zwischen 0-100 (geht in einer Zeile).</p>"
   ]
  },
  {
   "cell_type": "code",
   "execution_count": 12,
   "metadata": {},
   "outputs": [],
   "source": [
    "# Erzeugen Sie eine 5x3 Matrix mit Zufallswerteintegers zwischen 0-100 (geht in einer Zeile).\n",
    "# YOUR CODE HERE"
   ]
  },
  {
   "cell_type": "markdown",
   "metadata": {},
   "source": [
    "<p style=\"margin-left:2em\">j) (*) Multiplizieren Sie eine 4x3 Matrix mit einer 3x2 Matrix (geht zwar in einer Zeile, aber benutzen Sie lieber Hilfsvariablen und drei Zeilen).</p>"
   ]
  },
  {
   "cell_type": "code",
   "execution_count": 13,
   "metadata": {},
   "outputs": [],
   "source": [
    "# Multiplizieren Sie eine 4x3 Matrix mit einer 3x2 Matrix (geht zwar in einer Zeile, aber benutzen Sie lieber Hilfsvariablen und drei Zeilen).\n",
    "# YOUR CODE HERE"
   ]
  },
  {
   "cell_type": "markdown",
   "metadata": {},
   "source": [
    "<p style=\"margin-left:2em\">k) (*) Erzeugen Sie eine 5x5 Matrix und geben Sie jeweils die geraden und die ungeraden Zeile aus (geht jeweils in einer Zeile).</p>"
   ]
  },
  {
   "cell_type": "code",
   "execution_count": 14,
   "metadata": {},
   "outputs": [],
   "source": [
    "# Erzeugen Sie eine 5x5 Matrix und geben Sie jeweils die geraden und die ungeraden Zeile aus (geht jeweils in einer Zeile).\n",
    "# YOUR CODE HERE"
   ]
  },
  {
   "cell_type": "markdown",
   "metadata": {},
   "source": [
    "<p style=\"margin-left:2em\">l) (**) Erzeuge eine 5x5 Matrix mit Zufallswerteintegers zwischen 0-100 und finde deren Maximum und Minimum und normalisieren Sie die Werte (sodass alle Werte zwischen 0 und 1 liegen - ein Wert wird 1 (max) sein und einer 0 (min)).</p>"
   ]
  },
  {
   "cell_type": "code",
   "execution_count": 15,
   "metadata": {},
   "outputs": [],
   "source": [
    "# Erzeuge eine 5x5 Matrix mit Zufallsintegers zwischen 0-100 und finde deren Maximum und Minimum und normalisieren Sie die Werte (sodass alle Werte zwischen 0 und 1 liegen - ein Wert wird 1 (max) sein und einer 0 (min)).\n",
    "# Hinweis: D.h. Sie muessen die Werte normalisieren (R - R_min) / (R_max - R_min)\n",
    "# YOUR CODE HERE"
   ]
  },
  {
   "cell_type": "markdown",
   "metadata": {},
   "source": [
    "<p style=\"margin-left:2em\">m) (**) Extrahieren Sie den Integer-Anteil eine Arrays von zufälliger Zahlen zwischen 0-10 auf 3 verschiedene Arten.</p>"
   ]
  },
  {
   "cell_type": "code",
   "execution_count": 16,
   "metadata": {},
   "outputs": [],
   "source": [
    "# Extrahieren Sie den Integer-Anteil eine Arrays von zufälliger Zahlen zwischen 0-10 auf 3 verschiedene Arten.\n",
    "# YOUR CODE HERE"
   ]
  },
  {
   "cell_type": "markdown",
   "metadata": {},
   "source": [
    "<p style=\"margin-left:2em\">n) (**) Erzeugen Sie eine Matrix M der Größe 4x3 und einen Vektor v mit Länge 3. Multiplizieren Sie jeden Spalteneintrag aus mit der kompletten Spalte aus M. Nutzen Sie dafür Broadcasting.</p>"
   ]
  },
  {
   "cell_type": "code",
   "execution_count": 17,
   "metadata": {},
   "outputs": [],
   "source": [
    "# Erzeugen Sie eine Matrix $M$ der Größe 4x3 und einen Vektor $v$ mit Länge 3. Multiplizieren Sie jeden Spalteneintrag aus $v$ mit der kompletten Spalte aus $M$. Nutzen Sie dafür Broadcasting.\n",
    "# YOUR CODE HERE"
   ]
  },
  {
   "cell_type": "markdown",
   "metadata": {},
   "source": [
    "<p style=\"margin-left:2em\">o) (***) Erzeugen Sie einen Zufallsmatrix der Größe 10x2, die Sie als Kartesische Koordinateninterpretieren können ([[x0, y0],[x1, y1],[x2, y2]]). Konvertieren Sie diese in Polarkoordinaten <a href=\"https://de.wikipedia.org/wiki/Polarkoordinaten\">https://de.wikipedia.org/wiki/Polarkoordinaten</a>.</p>"
   ]
  },
  {
   "cell_type": "code",
   "execution_count": 18,
   "metadata": {},
   "outputs": [],
   "source": [
    "# Erzeugen Sie einen Zufallsmatrix der Größe 10x2, die Sie als Kartesische Koordinaten interpretieren können ([[x0, y0],[x1, y1],[x2, y2]]).\n",
    "# Konvertieren Sie diese in Polarkoordinaten \\url{https://de.wikipedia.org/wiki/Polarkoordinaten}.\n",
    "# Hinweis: nutzen Sie fuer die Berechnung des Winkel np.arctan2 und geben Sie jeweils Radius und Winkel als Vektor aus\n",
    "# YOUR CODE HERE"
   ]
  },
  {
   "cell_type": "markdown",
   "metadata": {},
   "source": [
    "<p style=\"margin-left:2em\">p) (***) Erzeugen Sie einen Matrix der Größe 6x2, die Sie als Kartesische Koordinaten interpretieren können ([[x0, y0],[x1, y1],[x2, y2]]). Schreiben Sie eine Funktion, die alle Punkt-Punkt Abstände berechnet und in einer 6x6 Matrix ausgibt.</p>"
   ]
  },
  {
   "cell_type": "code",
   "execution_count": 19,
   "metadata": {},
   "outputs": [],
   "source": [
    "# Erzeugen Sie einen Matrix der Größe 6x2, die Sie als Kartesische Koordinaten interpretieren können ([[x0, y0],[x1, y1],[x2, y2]]).\n",
    "# Schreiben Sie eine Funktion, die alle Punkt-Punkt Abstände berechnet.\n",
    "# YOUR CODE HERE"
   ]
  }
 ],
 "metadata": {
  "kernelspec": {
   "display_name": "Python 3",
   "language": "python",
   "name": "python3"
  },
  "language_info": {
   "codemirror_mode": {
    "name": "ipython",
    "version": 3
   },
   "file_extension": ".py",
   "mimetype": "text/x-python",
   "name": "python",
   "nbconvert_exporter": "python",
   "pygments_lexer": "ipython3",
   "version": "3.7.3"
  }
 },
 "nbformat": 4,
 "nbformat_minor": 2
}
