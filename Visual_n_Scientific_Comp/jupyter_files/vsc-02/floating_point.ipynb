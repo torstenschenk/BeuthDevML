{
 "cells": [
  {
   "cell_type": "code",
   "execution_count": 1,
   "metadata": {
    "scrolled": true
   },
   "outputs": [
    {
     "name": "stdout",
     "output_type": "stream",
     "text": [
      "<class 'numpy.float32'>\n",
      "<class 'numpy.float64'>\n",
      "Type |   i  |       2^(-i)     |  1 + 2^(-i) \n",
      "----------------------------------------\n",
      "fl32 |   53 |   1.11022302e-16 | ungleich 1\n",
      "fl64 |   53 |   1.11022302e-16 | ungleich 1\n"
     ]
    }
   ],
   "source": [
    "import numpy as np\n",
    "from math import sqrt, fabs, pi\n",
    "import matplotlib.pyplot as plt\n",
    "\n",
    "# now its rendered the first run!\n",
    "%matplotlib inline\n",
    "\n",
    "# Aufgabe 1 (a)\n",
    "# i ist hier die Anzahl der Iterationen\n",
    "# In jeder Iteration soll ein epsilon auf 1.0 addiert werden und mit der\n",
    "# Floating-Point Darstellung von np.float64(1) bzw. np.float(32) verglichen werden.\n",
    "# Starten Sie dabei mit Epsilon=1.0 und halbieren Sie den Wert in jeder Iteration (wie an der Ausgabe 2^(-i) zu sehen)\n",
    "# Stoppen Sie die Iterationen, wenn np.float32(1) + epsi != np.float32(1) ist.\n",
    "# Hinweis: Ja - in diesem Fall dürfen Sie Floating-Point Werte vergleichen ;)\n",
    "\n",
    "eps32 = np.float32(1)\n",
    "eps64 = np.float64(1)\n",
    "i_32 = 0\n",
    "i_64 = 0\n",
    "\n",
    "print(type(eps32))\n",
    "print(type(eps64))\n",
    "\n",
    "# Print Anweisung vor dem Loop\n",
    "print('Type |   i  |       2^(-i)     |  1 + 2^(-i) ')\n",
    "print('----------------------------------------')\n",
    "\n",
    "##\n",
    "#  YOUR CODE HERE\n",
    "while True:\n",
    "    if np.float32(1)+eps32==np.float32(1):\n",
    "        break\n",
    "        \n",
    "    eps32/=2.0\n",
    "    i_32+=1\n",
    "\n",
    "# optional structure\n",
    "while np.float64(1)+eps64!=np.float64(1):\n",
    "    eps64*=0.5\n",
    "    i_64+=1\n",
    "\n",
    "# Print Anweisung in / nach dem Loop\n",
    "print('fl32 | {0:4.0f} | {1:16.8e} | ungleich 1'.format(i_32, eps32))\n",
    "print('fl64 | {0:4.0f} | {1:16.8e} | ungleich 1'.format(i_64, eps64))"
   ]
  },
  {
   "cell_type": "code",
   "execution_count": 2,
   "metadata": {},
   "outputs": [
    {
     "name": "stdout",
     "output_type": "stream",
     "text": [
      "Größte Genauigkeit (~10^-9) bei genau 15 Wiederholungen, danach ungenauer!\n"
     ]
    },
    {
     "data": {
      "image/png": "[encoded data removed]",
      "text/plain": [
       "<Figure size 432x288 with 1 Axes>"
      ]
     },
     "metadata": {
      "needs_background": "light"
     },
     "output_type": "display_data"
    }
   ],
   "source": [
    "# Aufgabe 1 (b)\n",
    "# Werten Sie 30 Iterationen aus und speichern Sie den Fehler in einem\n",
    "# Fehlerarray err\n",
    "N = 30\n",
    "err = []\n",
    "# sqrt(2) kann vorberechnet werden (Startwert)\n",
    "sn = sqrt(2)\n",
    "\n",
    "U = 2 * np.pi\n",
    "\n",
    "for n in range(2, N):\n",
    "    # 1. Umfang u berechnen\n",
    "    # 2. Fehler en berechnen und in err speichern\n",
    "    # Fehler ausgeben print('{0:2d}\\t{1:1.20f}\\t{2:1.20e}'.format(n, u, en))\n",
    "    # YOUR CODE HERE\n",
    "    u = sn* 2**n\n",
    "    en = np.abs(U - u)\n",
    "    #print('{0:2d}\\t{1:1.20f}\\t{2:1.20e}'.format(n, u, en))\n",
    "    err.append(en)\n",
    "    sn = np.sqrt( 2 - np.sqrt(4 - sn**2) ) \n",
    "\n",
    "# cast to array needed ? no, problem were negative values!\n",
    "#err = np.array(err)\n",
    "\n",
    "print('Größte Genauigkeit (~10^-9) bei genau 15 Wiederholungen, danach ungenauer!')\n",
    "# Plotten Sie den Fehler\n",
    "plt.figure(figsize=(6.0, 4.0))\n",
    "plt.semilogy(range(2, N), err, 'rx') # abs value only!\n",
    "plt.xlim(2, N-1)\n",
    "plt.ylim(1e-16, 10)\n",
    "plt.show()"
   ]
  },
  {
   "cell_type": "code",
   "execution_count": 3,
   "metadata": {
    "scrolled": true
   },
   "outputs": [
    {
     "name": "stdout",
     "output_type": "stream",
     "text": [
      "Weitaus höhere Genauigkeit (~10^-14) nach 25++ Wiederholungen.\n"
     ]
    },
    {
     "data": {
      "image/png": "[encoded data removed]",
      "text/plain": [
       "<Figure size 432x288 with 1 Axes>"
      ]
     },
     "metadata": {
      "needs_background": "light"
     },
     "output_type": "display_data"
    }
   ],
   "source": [
    "# Aufgabe 1 (c)\n",
    "# Löschen des Arrays und wir fangen mit der Berechnung von vorn an.\n",
    "# Nur diesmal mit der leicht veranderten Variante\n",
    "err = []\n",
    "# sqrt(2) kann vorberechnet werden (Startwert)\n",
    "sn = sqrt(2)\n",
    "\n",
    "for n in range(2, N):\n",
    "    # 1. Umfang u berechnen\n",
    "    # 2. Fehler en berechnen und in err speichern\n",
    "    # Fehler ausgeben print('{0:2d}\\t{1:1.20f}\\t{2:1.20e}'.format(n, u, en))\n",
    "    # YOUR CODE HERE\n",
    "    u = sn* 2**n\n",
    "    en = np.abs(U - u)\n",
    "    #print('{0:2d}\\t{1:1.20f}\\t{2:1.20e}'.format(n, u, en))\n",
    "    err.append(en)\n",
    "    sn = sn / np.sqrt( 2 + np.sqrt(4 - sn**2) ) \n",
    "\n",
    "print('Weitaus höhere Genauigkeit (~10^-14) nach 25++ Wiederholungen.')\n",
    "plt.figure(figsize=(6.0, 4.0))\n",
    "plt.semilogy(range(2, N), err, 'rx')\n",
    "plt.xlim(2, N - 1)\n",
    "plt.ylim(1e-16, 10)\n",
    "plt.show()"
   ]
  },
  {
   "cell_type": "code",
   "execution_count": null,
   "metadata": {},
   "outputs": [],
   "source": []
  }
 ],
 "metadata": {
  "kernelspec": {
   "display_name": "Python 3",
   "language": "python",
   "name": "python3"
  },
  "language_info": {
   "codemirror_mode": {
    "name": "ipython",
    "version": 3
   },
   "file_extension": ".py",
   "mimetype": "text/x-python",
   "name": "python",
   "nbconvert_exporter": "python",
   "pygments_lexer": "ipython3",
   "version": "3.7.4"
  }
 },
 "nbformat": 4,
 "nbformat_minor": 2
}
