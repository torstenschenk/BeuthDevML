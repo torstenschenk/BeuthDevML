{
 "cells": [
  {
   "cell_type": "code",
   "execution_count": 3,
   "metadata": {},
   "outputs": [
    {
     "name": "stdout",
     "output_type": "stream",
     "text": [
      "Angle in deg: 74.47°\n",
      "Aufgabe b: Vector x:\n",
      " [[ 0.3]\n",
      " [-0.4]\n",
      " [ 0.5]]\n",
      "Self made matrix mult:\n",
      " [[22. 22.]\n",
      " [-8.  2.]\n",
      " [32. 26.]]\n",
      "[[1 2]\n",
      " [3 4]\n",
      " [5 6]] [[2 0]\n",
      " [0 2]]\n",
      "[[22. 22.]\n",
      " [-8.  2.]\n",
      " [32. 26.]]\n"
     ]
    }
   ],
   "source": [
    "import numpy as np\n",
    "import math\n",
    "\n",
    "\n",
    "# (a) Berechnen Sie den Winkel $\\alpha$ in Grad zwischen den folgenden beiden Vektoren $a=[1.,1.77]$ und $b=[1.5,1.5]$\n",
    "a = np.array([-1.,1.77])\n",
    "b = np.array([1.5,1.5])\n",
    "# YOUR CODE HERE\n",
    "#print(np.dot(a,b))\n",
    "c = np.dot(a,b)/ (np.linalg.norm(a)*np.linalg.norm(b)) # -> cosine of the angle\n",
    "#print(c)\n",
    "#angle = np.arccos(c) # out of range?!\n",
    "angle = np.arccos(np.clip(c, -1, 1)) # if you really want the angle\n",
    "print('Angle in deg: {0:.2f}°'.format(np.degrees(angle)))\n",
    "\n",
    "# (b) Gegeben ist die quadratische regulaere Matrix A und ein Ergbnisvektor b. Rechnen Sie unter Nutzung der Inversen die Loesung x des Gleichungssystems Ax = b aus.\n",
    "# YOUR CODE HERE\n",
    "M1 = np.matrix('2 3 4; 3 -2 -1; 5 4 3')\n",
    "M2 = np.matrix('1.4; 1.2; 1.4')\n",
    "x = np.linalg.inv(M1)*M2\n",
    "print('Aufgabe b: Vector x:\\n',x)\n",
    "\n",
    "# (c) Schreiben Sie eine Funktion die das Matrixprodukt berechnet. Nutzen Sie dafür nicht die Numpy Implementierung.\n",
    "# Hinweis: Fangen Sie bitte mögliche falsche Eingabegroessen in der Funktion ab und werfen einen AssertionError\n",
    "# assert Expression[, Arguments]\n",
    "\n",
    "def matmult(M1, M2):\n",
    "    # YOUR CODE HERE\n",
    "    assert (M1.shape[1]==M2.shape[0]), \"Matrix dimensions don't fit\"\n",
    "    assert (len(M1.shape)==2 and len(M2.shape)==2), \"Matrix must have 2dim\"\n",
    "    # create result matrix\n",
    "    Mres = np.zeros((M1.shape[0],M2.shape[1]))\n",
    "    \n",
    "    for r in range(M1.shape[0]):\n",
    "        for c in range(M2.shape[1]):\n",
    "            Mres[r,c] = M1[r,:]*M2[:,c]\n",
    "            \n",
    "    return Mres\n",
    "    \n",
    "\n",
    "M3 = np.matrix('1 2 3; 3 -2 -1; 5 4 3')\n",
    "M4 = np.matrix('1 2; 3 -2; 5 8')\n",
    "M5 = matmult(M3, M4)\n",
    "print('Self made matrix mult:\\n',M5)\n",
    "\n",
    "M1 = np.matrix('1 2; 3 4; 5 6')\n",
    "M2 = np.matrix('2 0; 0 2')\n",
    "print(M1, M2)\n",
    "M_res = matmult(M3, M4)\n",
    "print(M_res)"
   ]
  },
  {
   "cell_type": "code",
   "execution_count": null,
   "metadata": {},
   "outputs": [],
   "source": []
  }
 ],
 "metadata": {
  "kernelspec": {
   "display_name": "Python 3",
   "language": "python",
   "name": "python3"
  },
  "language_info": {
   "codemirror_mode": {
    "name": "ipython",
    "version": 3
   },
   "file_extension": ".py",
   "mimetype": "text/x-python",
   "name": "python",
   "nbconvert_exporter": "python",
   "pygments_lexer": "ipython3",
   "version": "3.7.4"
  }
 },
 "nbformat": 4,
 "nbformat_minor": 2
}
