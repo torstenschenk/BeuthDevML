{
 "cells": [
  {
   "cell_type": "code",
   "execution_count": 7,
   "metadata": {},
   "outputs": [
    {
     "name": "stdout",
     "output_type": "stream",
     "text": [
      "Angle in deg: 74.47°\n",
      "[[ 2  3  4]\n",
      " [ 3 -2 -1]\n",
      " [ 5  4  3]] [[1.4]\n",
      " [1.2]\n",
      " [1.4]]\n",
      "[[ 0.3]\n",
      " [-0.4]\n",
      " [ 0.5]]\n"
     ]
    }
   ],
   "source": [
    "import numpy as np\n",
    "import math\n",
    "\n",
    "\n",
    "# (a) Berechnen Sie den Winkel $\\alpha$ in Grad zwischen den folgenden beiden Vektoren $a=[1.,1.77]$ und $b=[1.5,1.5]$\n",
    "a = np.array([-1.,1.77])\n",
    "b = np.array([1.5,1.5])\n",
    "# YOUR CODE HERE\n",
    "#print(np.dot(a,b))\n",
    "c = np.dot(a,b)/ (np.linalg.norm(a)*np.linalg.norm(b)) # -> cosine of the angle\n",
    "#print(c)\n",
    "#angle = np.arccos(c) # out of range?!\n",
    "angle = np.arccos(np.clip(c, -1, 1)) # if you really want the angle\n",
    "print('Angle in deg: {0:.2f}°'.format(np.degrees(angle)))\n",
    "\n",
    "# (b) Gegeben ist die quadratische regulaere Matrix A und ein Ergbnisvektor b. Rechnen Sie unter Nutzung der Inversen die Loesung x des Gleichungssystems Ax = b aus.\n",
    "# YOUR CODE HERE\n",
    "\n",
    "# (c) Schreiben Sie eine Funktion die das Matrixprodukt berechnet. Nutzen Sie dafür nicht die Numpy Implementierung.\n",
    "# Hinweis: Fangen Sie bitte mögliche falsche Eingabegroessen in der Funktion ab und werfen einen AssertionError\n",
    "# assert Expression[, Arguments]\n",
    "\n",
    "def matmult(M1, M2):\n",
    "    # YOUR CODE HERE\n",
    "    assert (M1.shape[0]==M2.shape[0]), \"Matrix dimensions don't fit\"\n",
    "    assert (M1.shape[0]==M1.shape[1]), \"Matrix not square\"\n",
    "    assert (np.linalg.matrix_rank(M1)==M1.shape[0]), \"Matrix is not full rank\"\n",
    "    # or determinant is 0 if linear dependent\n",
    "    #assert (np.linalg.det(M1)!=0),     \"Matrix determinate == 0\"\n",
    "    \n",
    "    return np.linalg.inv(M1)*M2\n",
    "\n",
    "M1 = np.matrix('2 3 4; 3 -2 -1; 5 4 3')\n",
    "M2 = np.matrix('1.4; 1.2; 1.4')\n",
    "\n",
    "print(M1, M2)\n",
    "\n",
    "M_res = matmult(M1, M2)\n",
    "print(M_res)\n",
    "\n",
    "#Test\n",
    "#print(M1*M_res)"
   ]
  },
  {
   "cell_type": "code",
   "execution_count": null,
   "metadata": {},
   "outputs": [],
   "source": []
  },
  {
   "cell_type": "code",
   "execution_count": null,
   "metadata": {},
   "outputs": [],
   "source": []
  }
 ],
 "metadata": {
  "kernelspec": {
   "display_name": "Python 3",
   "language": "python",
   "name": "python3"
  },
  "language_info": {
   "codemirror_mode": {
    "name": "ipython",
    "version": 3
   },
   "file_extension": ".py",
   "mimetype": "text/x-python",
   "name": "python",
   "nbconvert_exporter": "python",
   "pygments_lexer": "ipython3",
   "version": "3.7.4"
  }
 },
 "nbformat": 4,
 "nbformat_minor": 2
}
