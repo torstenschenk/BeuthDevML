{
 "cells": [
  {
   "cell_type": "markdown",
   "metadata": {},
   "source": [
    "### Visual and Scientific Computing\n",
    "\n",
    "Für den Kurs 'Visual and Scientific Computing' werden wir unterschiedliche kleine Miniprojekte betrachten und in der notwendigen technischen Tiefe erarbeiten und implementieren. \n",
    "Dafür werden wir die Programmiersprache [Python](https://docs.python.org/3/) nutzen, die uns im Prinzip als netter programmierbarer Taschenrechner dienen wird. \n",
    "Wir brauchen keine Objektorientierung, keine aufwendige Systemarchtiktur, man muss nur etwas programmieren können.\n",
    "Zudem werden wir Numpy/Scipy eine wertvolle Bibliothek die viele nützliche Funktionen aus der Linearen Algebra enthält. Später mehr...\n",
    "In diesem Kurs wollen wir uns auf die inhaltlichen Dinge konzentieren und uns nicht mit syntaktischen oder Compilerfehlern ärgern. \n"
   ]
  },
  {
   "cell_type": "code",
   "execution_count": 8,
   "metadata": {},
   "outputs": [
    {
     "name": "stdout",
     "output_type": "stream",
     "text": [
      "a*b: [[0]]\n",
      "a: (1, 2)\n",
      "b: (2, 1)\n"
     ]
    }
   ],
   "source": [
    "import numpy as np\n",
    "a = np.matrix([1,1])\n",
    "b = np.matrix([1,-1]).T\n",
    "print('a*b:',a * b)\n",
    "\n",
    "print('a:',a.shape)\n",
    "print('b:',b.shape)"
   ]
  },
  {
   "cell_type": "code",
   "execution_count": 2,
   "metadata": {
    "scrolled": false
   },
   "outputs": [
    {
     "data": {
      "text/plain": [
       "2.0000000000000004"
      ]
     },
     "execution_count": 2,
     "metadata": {},
     "output_type": "execute_result"
    }
   ],
   "source": [
    "np.linalg.norm(b)**2"
   ]
  },
  {
   "cell_type": "markdown",
   "metadata": {},
   "source": [
    "Wie bestimmen wir die Determinante einer Matrix?\n",
    "$$ A = np.array([[-0.5,-0.25], [0.25,-1.5]]) $$\n",
    "$$ A = np.array([[-1.5,-0.25], [0.25,-1.5]]) $$"
   ]
  },
  {
   "cell_type": "code",
   "execution_count": 14,
   "metadata": {},
   "outputs": [
    {
     "name": "stdout",
     "output_type": "stream",
     "text": [
      "[[-0.5  -0.25]\n",
      " [ 0.25 -1.5 ]]\n"
     ]
    },
    {
     "data": {
      "text/plain": [
       "0.3163909912109375"
      ]
     },
     "execution_count": 14,
     "metadata": {},
     "output_type": "execute_result"
    }
   ],
   "source": [
    "A = np.array([[-0.5,-0.25], [0.25,-1.5]])\n",
    "print(A)\n",
    "#print(np.linalg.det(A)*np.linalg.det(A))\n",
    "Z = np.zeros((11,11))\n",
    "d = np.linalg.det(A*A*A*A)\n",
    "\n",
    "\n",
    "d"
   ]
  },
  {
   "cell_type": "markdown",
   "metadata": {},
   "source": [
    "Systematische Betrachtung des obigen Beispiels über das Verhalten der Aufmultiplizieren von Determinanten.\n",
    "Uns interessiert das Verhalten der Zahlen. Wir wissen, dass für einige Determinanten die Werte plötzlich sehr groß werden und für andere nicht. Welche sind das?"
   ]
  },
  {
   "cell_type": "code",
   "execution_count": 29,
   "metadata": {},
   "outputs": [
    {
     "name": "stdout",
     "output_type": "stream",
     "text": [
      "[[0. 0. 0. ... 3. 3. 3.]\n",
      " [0. 0. 0. ... 3. 3. 3.]\n",
      " [0. 0. 0. ... 3. 3. 3.]\n",
      " ...\n",
      " [0. 0. 0. ... 3. 3. 3.]\n",
      " [0. 0. 0. ... 3. 3. 3.]\n",
      " [0. 0. 0. ... 3. 3. 3.]]\n"
     ]
    }
   ],
   "source": [
    "import matplotlib.pyplot as plt\n",
    "\n",
    "size = 150\n",
    "Z = np.zeros((size,size))\n",
    "max_count = 64\n",
    "C = np.matrix([[-1.5,-0.25], [0.25,-1.5]])\n",
    "for i in range(0,size):\n",
    "    for j in range(0,size):\n",
    "        fx = (-1.5 + i / (size) * 2.0)\n",
    "        fy = (-1.0 + j / (size) * 2.0)\n",
    "        R = np.matrix([[fx,-fy],[fy,fx]])\n",
    "        C = R\n",
    "        iteration = 0\n",
    "        while np.linalg.det(R) < 4.0 and iteration < max_count:\n",
    "            R = R*R + C\n",
    "            iteration += 1            \n",
    "        Z[j,i] = iteration\n",
    "\n",
    "print(Z)"
   ]
  },
  {
   "cell_type": "code",
   "execution_count": 30,
   "metadata": {},
   "outputs": [
    {
     "data": {
      "image/png": "[encoded data removed]",
      "text/plain": [
       "<Figure size 432x432 with 1 Axes>"
      ]
     },
     "metadata": {
      "needs_background": "light"
     },
     "output_type": "display_data"
    }
   ],
   "source": [
    "plt.figure(figsize=(6,6))\n",
    "plt.pcolor(Z)\n",
    "plt.show()"
   ]
  },
  {
   "cell_type": "code",
   "execution_count": 18,
   "metadata": {},
   "outputs": [
    {
     "name": "stdout",
     "output_type": "stream",
     "text": [
      "(150, 150)\n"
     ]
    }
   ],
   "source": [
    "print(Z.shape)"
   ]
  },
  {
   "cell_type": "code",
   "execution_count": null,
   "metadata": {},
   "outputs": [],
   "source": []
  }
 ],
 "metadata": {
  "kernelspec": {
   "display_name": "Python 3",
   "language": "python",
   "name": "python3"
  },
  "language_info": {
   "codemirror_mode": {
    "name": "ipython",
    "version": 3
   },
   "file_extension": ".py",
   "mimetype": "text/x-python",
   "name": "python",
   "nbconvert_exporter": "python",
   "pygments_lexer": "ipython3",
   "version": "3.7.3"
  }
 },
 "nbformat": 4,
 "nbformat_minor": 2
}
