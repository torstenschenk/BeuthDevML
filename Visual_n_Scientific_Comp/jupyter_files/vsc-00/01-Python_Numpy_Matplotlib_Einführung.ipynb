{
 "cells": [
  {
   "cell_type": "markdown",
   "metadata": {},
   "source": [
    "![Einführung in Python und Numpy](./images/python_numpy.png)\n",
    "\n",
    "### Einführung in Python\n",
    "\n",
    "+ universelle, intepretierte höhrere Programmiersprache / Skriptsprache\n",
    "+ unterstützt mehrere Programmierparadigmen\n",
    "    + objektorientiert (vollständig unterstützt) und auch funktional (in einzelnen Aspekten)\n",
    "+ dynamische Typisierung, d.h. Typüberprüfungen finden zur Laufzeit statt\n"
   ]
  },
  {
   "cell_type": "markdown",
   "metadata": {},
   "source": [
    "#### Dynamische Typisierung in Python"
   ]
  },
  {
   "cell_type": "code",
   "execution_count": 4,
   "metadata": {},
   "outputs": [
    {
     "name": "stdout",
     "output_type": "stream",
     "text": [
      "[1 2 3]\n",
      "(3,)\n"
     ]
    }
   ],
   "source": [
    "x = 1 # a enthält durch Zuweisung eine ganze Zahl\n",
    "\n",
    "x += 0.1 # addiert die Gleitkommazahl 0.1 und legt neuen Wert (mit anderem Typ) in x ab \n",
    "# x.lower() # Failed: x ist keine Zeichenkette\n",
    "\n",
    "\n",
    "import numpy as np\n",
    "a = np.array([1, 2, 3])\n",
    "\n",
    "\n",
    "print(a)\n",
    "print(a.shape) # Zeile, Spalte"
   ]
  },
  {
   "cell_type": "code",
   "execution_count": 2,
   "metadata": {},
   "outputs": [
    {
     "name": "stdout",
     "output_type": "stream",
     "text": [
      "[[1 2 3]]\n",
      "(1, 3)\n"
     ]
    }
   ],
   "source": [
    "a = np.matrix([1, 2, 3])\n",
    "print(a)\n",
    "print(a.shape) # Zeile, Spalte"
   ]
  },
  {
   "cell_type": "code",
   "execution_count": 3,
   "metadata": {},
   "outputs": [
    {
     "name": "stdout",
     "output_type": "stream",
     "text": [
      "[[1 2 3]\n",
      " [4 5 6]]\n",
      "(2, 3)\n",
      "<class 'numpy.matrix'>\n",
      "[[14 32]\n",
      " [32 77]]\n"
     ]
    }
   ],
   "source": [
    "a = np.matrix([[1, 2, 3],[4, 5, 6]])\n",
    "b = np.matrix([[1, 2, 3],[4, 5, 6]])\n",
    "print(a)\n",
    "print(a.shape) # Zeile, Spalte\n",
    "print(type(a))\n",
    "\n",
    "c = a* b.T # transpose second matrix so multi works\n",
    "print(c)"
   ]
  },
  {
   "cell_type": "code",
   "execution_count": 4,
   "metadata": {},
   "outputs": [
    {
     "name": "stdout",
     "output_type": "stream",
     "text": [
      "1.1\n",
      "foobar\n"
     ]
    }
   ],
   "source": [
    "print(x) # gibt den Wert von a aus 1.1\n",
    "x = \"FOOBAR\"\n",
    "# x += 1 # Failed: Inhalt von x ist jetzt ein String \n",
    "print(x.lower())\n"
   ]
  },
  {
   "cell_type": "markdown",
   "metadata": {},
   "source": [
    "#### Datentypen in Python\n",
    "\n",
    "+ Integer, Float, Boolean, Complex\n",
    "+ String und Stringoperationen\n",
    "+ In Python ist alles ein Objekt\n",
    "+ Duck-Typing Prinzip\n",
    "+ Vergleichsoperator"
   ]
  },
  {
   "cell_type": "code",
   "execution_count": 5,
   "metadata": {},
   "outputs": [
    {
     "name": "stdout",
     "output_type": "stream",
     "text": [
      "<class 'int'>\n",
      "3\n",
      "4\n",
      "2\n",
      "6\n",
      "9\n",
      "4\n",
      "4\n",
      "<class 'float'>\n",
      "2.5 3.5 5.0 6.25\n"
     ]
    }
   ],
   "source": [
    "x = 3 \n",
    "print(type(x)) # Ausgabe: \"<type 'int'>\" \n",
    "print(x) # Ausgabe: \"3\" \n",
    "print(x + 1) # Addition; prints \"4\" \n",
    "print(x - 1) # Subtraktion; prints \"2\" \n",
    "print(x * 2) # Multiplikation; prints \"6\" \n",
    "print(x ** 2) # Exponentiation; prints \"9\" \n",
    "x += 1\n",
    "y = 2.5 \n",
    "print(x) # Ausgabe: \"4\" x *= 2 \n",
    "print(x) # Ausgabe: \"8\" y = 2.5 \n",
    "print(type(y)) # Ausgabe: \"<type 'float'>\" \n",
    "print(y, y + 1, y * 2, y ** 2) # Ausgabe: \"2.5 3.5 5.0 6.25\"\n"
   ]
  },
  {
   "cell_type": "code",
   "execution_count": 6,
   "metadata": {},
   "outputs": [
    {
     "name": "stdout",
     "output_type": "stream",
     "text": [
      "hello\n",
      "5\n",
      "hello world\n",
      "hello world 12\n"
     ]
    }
   ],
   "source": [
    "### String Operationen ###\n",
    "\n",
    "hello = 'hello' # String literals can use single quotes \n",
    "\n",
    "world = \"world\" # or double quotes; it does not matter. \n",
    "\n",
    "print(hello) # Prints \"hello\" \n",
    "\n",
    "print(len(hello)) # String length; prints \"5\" \n",
    "\n",
    "hw = hello + ' ' + world # String concatenation \n",
    "\n",
    "print(hw) # prints \"hello world\" \n",
    "\n",
    "hw12 = '%s %s %d' % (hello, world, 12) # sprintf style string formatting \n",
    "print(hw12) # prints \"hello world 12\"\n"
   ]
  },
  {
   "cell_type": "code",
   "execution_count": 7,
   "metadata": {},
   "outputs": [
    {
     "name": "stdout",
     "output_type": "stream",
     "text": [
      "False\n",
      "True\n"
     ]
    }
   ],
   "source": [
    "### Vergleichsoperatoren ###\n",
    "\n",
    "\n",
    "a = [1,2,3]\n",
    "b = [1,2,3]\n",
    "print(a is b) # compare references\n",
    "print(a == b)\n"
   ]
  },
  {
   "cell_type": "code",
   "execution_count": 8,
   "metadata": {},
   "outputs": [
    {
     "name": "stdout",
     "output_type": "stream",
     "text": [
      "Hello\n",
      "HELLO\n",
      "  hello\n",
      " hello \n",
      "he(ell)(ell)o\n",
      "world\n",
      "hel\n"
     ]
    }
   ],
   "source": [
    "### Nützliche Stringoperationen ###\n",
    "\n",
    "s = \"hello\" \n",
    "print(s.capitalize()) # Capitalize a string; Ausgabe: # \"Hello\" \n",
    "print(s.upper()) # Convert a string to uppercase; Ausgabe: \"HELLO\" \n",
    "\n",
    "print(s.rjust(7)) # Right-justify a string, padding with spaces;# Ausgabe: \" hello\" \n",
    "print(s.center(7)) # Center a string, padding with spaces; Ausgabe:\"# hello \" \n",
    "\n",
    "print(s.replace('l', '(ell)')) # Replace all instances of one# substring with another; \n",
    "# Ausgabe: \"he(ell)(ell)o\" \n",
    "\n",
    "print(' world '.strip()) # Strip leading and trailing whitespace;# Ausgabe: \"world”\n",
    "\n",
    "print(s[0:3]) # Ausgabe: ‘hel’\n"
   ]
  },
  {
   "cell_type": "markdown",
   "metadata": {},
   "source": [
    "#### Container in Python / Listen"
   ]
  },
  {
   "cell_type": "code",
   "execution_count": 9,
   "metadata": {},
   "outputs": [
    {
     "name": "stdout",
     "output_type": "stream",
     "text": [
      "[3, 1, 2] 2\n",
      "2\n",
      "[3, 1, 'foo']\n",
      "[3, 1, 'foo', 'bar']\n",
      "bar [3, 1, 'foo']\n"
     ]
    }
   ],
   "source": [
    "xs = [3, 1, 2] # Liste erzeugen\n",
    "print(xs, xs[2]) # Ausgabe:\"[3, 1, 2] 2\" \n",
    "print(xs[-1]) # Negative indices count from the end of the list; prints \"2\" \n",
    "xs[2] = 'foo' # Lists can contain elements of different types \n",
    "print(xs) # Prints \"[3, 1, 'foo']\" \n",
    "xs.append('bar') # Add a new element to the end of the list \n",
    "print(xs) # Prints \"[3, 1, 'foo', 'bar']\" \n",
    "x = xs.pop() # Remove and return the last element of the list \n",
    "print(x, xs) # Prints \"bar [3, 1, 'foo']\"\n"
   ]
  },
  {
   "cell_type": "code",
   "execution_count": 10,
   "metadata": {},
   "outputs": [
    {
     "name": "stdout",
     "output_type": "stream",
     "text": [
      "test: [0, 1, 2, 3, 4]\n",
      "[2, 3]\n",
      "[2, 3, 4]\n",
      "[0, 1]\n",
      "[0, 1, 2, 3, 4]\n",
      "[0, 1, 2, 3]\n",
      "[0, 1, 8, 9, 4]\n"
     ]
    }
   ],
   "source": [
    "#### Listenzugriffe, Zugriff auf Unterlisten aka Slicing (start:stop:step) ####\n",
    "\n",
    "nums = list(range(5)) # range is a built-in function that # creates a list of integers \n",
    "print(\"test:\",nums) # Ausgabe \"[0, 1, 2, 3, 4]\" \n",
    "print(nums[2:4]) # Get a slice from index 2 to 4 (exclusive); \n",
    "# Ausgabe: \"[2, 3]\" \n",
    "print(nums[2:]) # Get a slice from index 2 to the end; \n",
    "# Ausgabe: \"[2, 3, 4]\" \n",
    "print(nums[:2]) # Get a slice from the start to index 2 (exclusive); # Ausgabe: prints \"[0, 1]\" \n",
    "print(nums[:]) # Get a slice of the whole list; \n",
    "# prints [\"0, 1, 2, 3, 4]\" \n",
    "print(nums[:-1]) # Slice indices can be negative; \n",
    "# prints [\"0, 1, 2, 3]\" \n",
    "nums[2:4] = [8, 9] # Assign a new sublist to a slice \n",
    "print(nums) # Prints \"[0, 1, 8, 9, 4]\"\n",
    "\n"
   ]
  },
  {
   "cell_type": "markdown",
   "metadata": {},
   "source": [
    "#### Loops"
   ]
  },
  {
   "cell_type": "code",
   "execution_count": 11,
   "metadata": {},
   "outputs": [
    {
     "name": "stdout",
     "output_type": "stream",
     "text": [
      "cat\n",
      "dog\n",
      "monkey\n"
     ]
    }
   ],
   "source": [
    "animals = ['cat', 'dog', 'monkey'] \n",
    "for animal in animals: \n",
    "    print(animal)\n",
    "# Prints \"cat\", \"dog\", \"monkey\", each on its own line.\n"
   ]
  },
  {
   "cell_type": "code",
   "execution_count": 12,
   "metadata": {},
   "outputs": [
    {
     "name": "stdout",
     "output_type": "stream",
     "text": [
      "#1: cat\n",
      "#2: dog\n",
      "#3: monkey\n"
     ]
    }
   ],
   "source": [
    "animals = ['cat', 'dog', 'monkey'] \n",
    "for idx, animal in enumerate(animals): \n",
    "    print('#%d: %s' % (idx + 1, animal))\n",
    "# Prints \"#1: cat\", \"#2: dog\", \"#3: monkey\", each on its own line\n"
   ]
  },
  {
   "cell_type": "code",
   "execution_count": 13,
   "metadata": {},
   "outputs": [
    {
     "name": "stdout",
     "output_type": "stream",
     "text": [
      "#1: cat\n",
      "#2: dog\n",
      "#3: monkey\n"
     ]
    }
   ],
   "source": [
    "animals = ['cat', 'dog', 'monkey'] \n",
    "for idx in range(0, len(animals)): \n",
    "    print('#%d: %s' % (idx + 1, animals[idx]))\n",
    "# Prints \"#1: cat\", \"#2: dog\", \"#3: monkey\", each on its own line"
   ]
  },
  {
   "cell_type": "markdown",
   "metadata": {},
   "source": [
    "#### Funktionen und Loops\n",
    "\n",
    "(siehe Folien / __Online Python Tutor__)"
   ]
  },
  {
   "cell_type": "code",
   "execution_count": 14,
   "metadata": {},
   "outputs": [
    {
     "name": "stdout",
     "output_type": "stream",
     "text": [
      "Hello, Bob\n",
      "HELLO, FRED!\n"
     ]
    }
   ],
   "source": [
    "# Funktionen mit optionalen Parametern\n",
    "def hello(name, loud=False): \n",
    "    if loud: \n",
    "        print('HELLO, %s!' % name.upper())\n",
    "    else: \n",
    "        print('Hello, %s' % name)\n",
    "        \n",
    "hello('Bob') # Prints \"Hello, Bob\" \n",
    "hello('Fred', loud=True) # Prints \"HELLO, FRED!\"\n"
   ]
  },
  {
   "cell_type": "code",
   "execution_count": 15,
   "metadata": {},
   "outputs": [
    {
     "name": "stdout",
     "output_type": "stream",
     "text": [
      "[4, 16]\n"
     ]
    }
   ],
   "source": [
    "# Funktionsdefinition: def <funktionsname>(param1, param2…)\n",
    "def squares_simple(nums):\n",
    "    sqs = []\n",
    "    for x in nums:\n",
    "        sqs.append(x**2)\n",
    "    return sqs\n",
    "\n",
    "def squares_comprehension(nums):\n",
    "    return [x ** 2 for x in nums]\n",
    "\n",
    "def even_squares_comprehension(nums):\n",
    "    # diese können auch if-Anweisungen enthalten\n",
    "    return [x ** 2 for x in nums if x % 2 == 0]\n",
    "\n",
    "\n",
    "lst = [1,2,3,4]\n",
    "#sqs = squares_simple(lst)\n",
    "#sqs = squares_comprehension(lst)\n",
    "sqs = even_squares_comprehension(lst)\n",
    "print(sqs)"
   ]
  },
  {
   "cell_type": "code",
   "execution_count": null,
   "metadata": {},
   "outputs": [],
   "source": []
  },
  {
   "cell_type": "markdown",
   "metadata": {},
   "source": [
    "#### Dictionaries\n",
    "\n",
    "Dictionaries sind einfache (key, value) Stores ähnlich wie eine Map in Java oder ein Object in Javascript."
   ]
  },
  {
   "cell_type": "code",
   "execution_count": 16,
   "metadata": {},
   "outputs": [
    {
     "name": "stdout",
     "output_type": "stream",
     "text": [
      "cute\n",
      "True\n",
      "wet\n",
      "N/A\n",
      "wet\n",
      "N/A\n"
     ]
    }
   ],
   "source": [
    "d = {'cat': 'cute', 'dog': 'furry'} # Ein dictionary erzeugen\n",
    "print(d['cat']) # Dictionary eintrag Ausgabe: \"cute\" \n",
    "print('cat' in d) # Gibt es den Key ’cat’? Ausgabe: \"True\" \n",
    "\n",
    "d['fish'] = 'wet' # Value zum Key setzen\n",
    "print(d['fish']) # Ausgabe:\"wet\" \n",
    "# print d['monkey'] # Fehler: KeyError: 'monkey' not a key of d \n",
    "\n",
    "print(d.get('monkey', 'N/A')) # Element mit Defaultwert lesen, Ausgabe: \"N/A\" \n",
    "print(d.get('fish', 'N/A')) # Ausgabe: \"wet\" ?\n",
    "\n",
    "del d['fish'] # Element aus Dictionary löschen\n",
    "print(d.get('fish', 'N/A')) # ‘fish' ist kein Key -  Ausgabe: \"N/A\"\n"
   ]
  },
  {
   "cell_type": "code",
   "execution_count": 17,
   "metadata": {},
   "outputs": [
    {
     "name": "stdout",
     "output_type": "stream",
     "text": [
      "A person has 2 legs\n",
      "A cat has 4 legs\n",
      "A spider has 8 legs\n",
      "A person has 2 legs\n",
      "A cat has 4 legs\n",
      "A spider has 8 legs\n",
      "{0: 0, 2: 4, 4: 16}\n"
     ]
    }
   ],
   "source": [
    "#### Loops über Dictionaries (über die Schlüssel) ####\n",
    "\n",
    "d = {'person': 2, 'cat': 4, 'spider': 8} \n",
    "for animal in d: \n",
    "    legs = d[animal] \n",
    "    print('A %s has %d legs' % (animal, legs))\n",
    "# Ausgabe: \"A person has 2 legs\", \"A spider has 8 legs\", \"A cat has 4 legs\"\n",
    "\n",
    "\n",
    "#### Loops über Dictionaries (über die Schlüssel + deren Werte) ####\n",
    "\n",
    "d = {'person': 2, 'cat': 4, 'spider': 8} \n",
    "for animal, legs in d.items(): \n",
    "    print('A %s has %d legs' % (animal, legs))\n",
    "# Ausgabe: \"A person has 2 legs\", \"A spider has 8 legs\", \"A cat has 4 legs\"\n",
    "\n",
    "\n",
    "#### Comprehensions über Dictionaries ####\n",
    "\n",
    "nums = [0, 1, 2, 3, 4] \n",
    "even_num_to_square = {x: x ** 2 for x in nums if x % 2 == 0} \n",
    "print(even_num_to_square) # Ausgabe: \"{0: 0, 2: 4, 4: 16}\"\n",
    "\n"
   ]
  },
  {
   "cell_type": "markdown",
   "metadata": {},
   "source": [
    "#### Sets\n",
    "\n",
    "Ein Set ist eine ungeordnete Liste von Elementen."
   ]
  },
  {
   "cell_type": "code",
   "execution_count": 18,
   "metadata": {},
   "outputs": [
    {
     "name": "stdout",
     "output_type": "stream",
     "text": [
      "True\n",
      "False\n",
      "True\n",
      "3\n",
      "3\n",
      "2\n"
     ]
    }
   ],
   "source": [
    "animals = {'cat', 'dog'} \n",
    "print('cat' in animals) # Ist Element in Set? Ausgabe: \"True\" \n",
    "print('fish' in animals) # Ausgabe: \"False\" \n",
    "animals.add('fish') # Element hinzufügen\n",
    "print('fish' in animals) # Ausgabe: \"True\" \n",
    "print(len(animals)) # Anzahl der Elemente im Set, Ausgabe: \"3\" \n",
    "animals.add('cat') # Element, dass es schon gibt hinzufügen, tut gar nichts\n",
    "print(len(animals)) # Ausgabe: \"3\" \n",
    "animals.remove('cat') # Element aus Set löschen\n",
    "print(len(animals)) # Ausgabe: \"2\"\n"
   ]
  },
  {
   "cell_type": "markdown",
   "metadata": {},
   "source": [
    "Loops über Sets verhalten sich wie Arrays. Man kann aber keine Annahme über die Abarbeitung machen."
   ]
  },
  {
   "cell_type": "code",
   "execution_count": 19,
   "metadata": {},
   "outputs": [
    {
     "name": "stdout",
     "output_type": "stream",
     "text": [
      "#1: dog\n",
      "#2: cat\n",
      "#3: fish\n"
     ]
    }
   ],
   "source": [
    "animals = {'cat', 'dog', 'fish'} \n",
    "for idx, animal in enumerate(animals): \n",
    "    print('#%d: %s' % (idx + 1, animal)) \n",
    "# Ausgabe: \"#1: fish\", \"#2: dog\", \"#3: cat\""
   ]
  },
  {
   "cell_type": "markdown",
   "metadata": {},
   "source": [
    "#### Tuples\n",
    "\n",
    "+ Tuples sind eine geordnete Liste von Elementen\n",
    "+ Unterschied zu Listen: \n",
    "    + Tuples können als Schlüssel in Dictionaries und als Elemente in Sets verwendet werden – Listen nicht!"
   ]
  },
  {
   "cell_type": "code",
   "execution_count": 20,
   "metadata": {},
   "outputs": [
    {
     "name": "stdout",
     "output_type": "stream",
     "text": [
      "<class 'tuple'>\n",
      "5\n",
      "1\n"
     ]
    }
   ],
   "source": [
    "d = {(x, x + 1): x for x in range(10)} \n",
    "# Ein Dictionary mit einem Tuple als Schlüssel erzeugen\n",
    "t = (5, 6) # Tuple erzeugen\n",
    "print(type(t)) # Ausgabe: \"<type 'tuple'>\" \n",
    "print(d[t]) # Ausgabe: \"5\" \n",
    "print(d[(1, 2)]) # Ausgabe: \"1\"\n"
   ]
  },
  {
   "cell_type": "markdown",
   "metadata": {},
   "source": [
    "The Zen of Python"
   ]
  },
  {
   "cell_type": "code",
   "execution_count": 21,
   "metadata": {},
   "outputs": [
    {
     "name": "stdout",
     "output_type": "stream",
     "text": [
      "The Zen of Python, by Tim Peters\n",
      "\n",
      "Beautiful is better than ugly.\n",
      "Explicit is better than implicit.\n",
      "Simple is better than complex.\n",
      "Complex is better than complicated.\n",
      "Flat is better than nested.\n",
      "Sparse is better than dense.\n",
      "Readability counts.\n",
      "Special cases aren't special enough to break the rules.\n",
      "Although practicality beats purity.\n",
      "Errors should never pass silently.\n",
      "Unless explicitly silenced.\n",
      "In the face of ambiguity, refuse the temptation to guess.\n",
      "There should be one-- and preferably only one --obvious way to do it.\n",
      "Although that way may not be obvious at first unless you're Dutch.\n",
      "Now is better than never.\n",
      "Although never is often better than *right* now.\n",
      "If the implementation is hard to explain, it's a bad idea.\n",
      "If the implementation is easy to explain, it may be a good idea.\n",
      "Namespaces are one honking great idea -- let's do more of those!\n"
     ]
    }
   ],
   "source": [
    "import this"
   ]
  },
  {
   "cell_type": "markdown",
   "metadata": {},
   "source": [
    "### Einführung in Numpy\n",
    "#### Bibliothek für wissenschaftliches Rechnen und Datenanalyse\n",
    "\n",
    "* bietet einfache Handhabung von Vektoren und Matrizen (allg. multi-dimensionalen Arrays) effiziente Methoden für numerische Berechnungen\n",
    "* Numerik? - Was ist das?\n",
    "    * beschäftigt sich mit Algorithmen und Methoden kontinuierliche Probleme mit Hilfe von Computer näherungsweise zu lösen\n",
    "    * kontinuierlich? – wir haben hier meist diskrete Punkte/Daten oder Stichproben (Samples) \n",
    "\n",
    "\n",
    "+ Was ist das besondere an Numpy?\n",
    "    + NumPy address the slowness problem partly by providing multidimensional arrays and functions and operators that operate efficiently on arrays, requiring (re)writing some code, mostly inner loops using NumPy.\n",
    "    \n",
    "\n",
    "#### Datentypen\n",
    "\n",
    "+ Numpy array ist ein ’Gitter’ von Werte desselben Typs\n",
    "    + Achse 1: Zeile, Achse 2: Spalte \n",
    "+ Anzahl der Dimensionen des Arrays wird in Numpy als Rang bezeichnet (rank)\n",
    "+ Form des Arrays ist das Tuple der Arraygröße in jeder Dimension (shape)\n",
    "+ Numpy stellt eine Reihe von Funktionen zur Verfügung, um Arrays zu erzeugen\n",
    "\n"
   ]
  },
  {
   "cell_type": "code",
   "execution_count": 22,
   "metadata": {},
   "outputs": [
    {
     "name": "stdout",
     "output_type": "stream",
     "text": [
      "int64\n",
      "float64\n",
      "int64\n"
     ]
    }
   ],
   "source": [
    "import numpy as np # Einbinden der Numpy Bibliothek\n",
    "\n",
    "m = np.matrix([1,1]) # Numpy 2D Matrix mit standard operatoren wie *, + fuer Matrizen\n",
    "x = np.array([1, 2]) # Numpy wählt Datentyp aus\n",
    "print(x.dtype) # Ausgabe:\"int64\" \n",
    "x = np.array([1.0, 2.0]) # Numpy wählt Datentyp aus\n",
    "print(x.dtype) # Ausgabe: \"float64\" \n",
    "x = np.array([1, 2], dtype=np.int64) # Wir wählen Datentyp aus \n",
    "print(x.dtype) # Ausgabe: \"int64\""
   ]
  },
  {
   "cell_type": "code",
   "execution_count": 23,
   "metadata": {},
   "outputs": [
    {
     "name": "stdout",
     "output_type": "stream",
     "text": [
      "<class 'numpy.ndarray'>\n",
      "(3,)\n",
      "1 2 3\n",
      "[5 2 3]\n",
      "(2, 3)\n",
      "1 2 4\n"
     ]
    }
   ],
   "source": [
    "a = np.array([1, 2, 3]) # Ein ‘rank 1’ Array erzeugen\n",
    "print(type(a)) # Ausgabe: \"<type 'numpy.ndarray'>\" \n",
    "print(a.shape) # Ausgabe: \"(3,)\" \n",
    "print(a[0], a[1], a[2]) # Ausgabe: \"1 2 3\" \n",
    "a[0] = 5 # Wert eines Elementes ändern\n",
    "print(a) # Ausgabe: \"[5, 2, 3]\" \n",
    "b = np.array([[1,2,3],[4,5,6]]) # Ein ‘rank 2’ Array erzeugen\n",
    "print(b.shape) # Ausgabe: \"(2, 3)\" \n",
    "print(b[0, 0], b[0, 1], b[1, 0]) # Ausgabe: \"1 2 4\""
   ]
  },
  {
   "cell_type": "code",
   "execution_count": 24,
   "metadata": {},
   "outputs": [
    {
     "name": "stdout",
     "output_type": "stream",
     "text": [
      "[[0. 0.]\n",
      " [0. 0.]]\n",
      "[[1. 1.]]\n",
      "[[1. 0.]\n",
      " [0. 1.]]\n",
      "[[0.5276957  0.46001159]\n",
      " [0.04725687 0.58737405]]\n"
     ]
    }
   ],
   "source": [
    "a = np.zeros((2,2)) # Erstellt ein Array von Nullen\n",
    "print(a) # Ausgabe:\"[[ 0. 0.] # [ 0. 0.]]\" \n",
    "\n",
    "b = np.ones((1,2)) # Erstellt ein Array von Einsen\n",
    "print(b) # Ausgabe: \"[[ 1. 1.]]\" \n",
    "d = np.eye(2) # Erzeugt eine 2x2 Identitätsmatrix\n",
    "print(d) # Prints \"[[ 1. 0.] # [ 0. 1.]]\" \n",
    "e = np.random.random((2,2)) # Erzeugt ein Array mit Zufallszahlen \n",
    "print(e) # eventuelle Ausgabe: \"[[ 0.91940167 0.08143941] # [ 0.68744134 0.87236687]]”\n",
    "\n",
    "# Schauen Sie sich np.arange und np.linspace an!\n"
   ]
  },
  {
   "cell_type": "markdown",
   "metadata": {},
   "source": [
    "#### Array Indexing __(sehr wichtig – üben!)__"
   ]
  },
  {
   "cell_type": "code",
   "execution_count": 25,
   "metadata": {},
   "outputs": [
    {
     "name": "stdout",
     "output_type": "stream",
     "text": [
      "2\n",
      "77\n"
     ]
    }
   ],
   "source": [
    "# Rang 2 Array der Form (3, 4) -- 3x4 Matrix\n",
    "# [[ 1 2 3 4] \n",
    "# [ 5 6 7 8] \n",
    "# [ 9 10 11 12]] \n",
    "a = np.array([[1,2,3,4], [5,6,7,8], [9,10,11,12]])\n",
    "\n",
    "# Slicing nutzen, um eine Untermatrix zu extrahieren, die die ersten beiden Zeilen und die Spalten 1 und 2 (2x2 Matrix)\n",
    "# [[2 3] \n",
    "# [6 7]] \n",
    "b = a[:2, 1:3]\n",
    "# Ein ‘Slice’ der Daten ist immer nur ein View / Reference auf die Daten – eine Modifikation ändert die Originaldaten\n",
    "print(a[0, 1]) # Ausgabe: \"2\" \n",
    "b[0, 0] = 77 # b[0, 0] sind die gleichen Daten wie a[0, 1] \n",
    "print(a[0, 1]) # Ausgabe: \"77\""
   ]
  },
  {
   "cell_type": "code",
   "execution_count": 26,
   "metadata": {},
   "outputs": [
    {
     "name": "stdout",
     "output_type": "stream",
     "text": [
      "[5 6 7 8] (4,)\n",
      "[[5 6 7 8]] (1, 4)\n",
      "[77  6 10] (3,)\n",
      "[[77]\n",
      " [ 6]\n",
      " [10]] (3, 1)\n"
     ]
    },
    {
     "data": {
      "text/plain": [
       "array([1, 3, 5])"
      ]
     },
     "execution_count": 26,
     "metadata": {},
     "output_type": "execute_result"
    }
   ],
   "source": [
    "# Es gibt zwei Wege die 1.Zeile zu extrahieren\n",
    "# 1. Mit einem Mix aus Index+Slicing (ergibt 1D Array)\n",
    "# 2. Mit Slicing (ergibt 2D Array) – gleicher Rang wie Original\n",
    "\n",
    "row_r1 = a[1, :]   # Rank 1 Ansicht von a \n",
    "row_r2 = a[1:2, :] # Rank 2 Ansicht von a \n",
    "print(row_r1, row_r1.shape) # Ausgabe: \"[5 6 7 8] (4,)\" \n",
    "print(row_r2, row_r2.shape) # Ausgabe: \"[[5 6 7 8]] (1, 4)\" \n",
    "\n",
    "# Das gleiche gilt für Spalten: \n",
    "col_r1 = a[:, 1] \n",
    "col_r2 = a[:, 1:2] \n",
    "print(col_r1, col_r1.shape) # Ausgabe: \"[ 2 6 10] (3,)\" \n",
    "print(col_r2, col_r2.shape) # Ausgabe: \"[[ 2] # [ 6] # [10]] (3, 1)”\n",
    "\n",
    "a = np.array([0, 1, 2, 3, 4, 5, 6, 7, 8, 9]) \n",
    "a[1:7:2] # Ausgabe: array([1, 3, 5])"
   ]
  },
  {
   "cell_type": "code",
   "execution_count": 27,
   "metadata": {},
   "outputs": [
    {
     "name": "stdout",
     "output_type": "stream",
     "text": [
      "[1 4 5]\n",
      "[1 4 5]\n",
      "[2 2]\n"
     ]
    }
   ],
   "source": [
    "# Ein Beispiel für Integer Indexing\n",
    "a = np.array([[1,2], [3, 4], [5, 6]]) \n",
    "# a hat die Form (shape) (3,) \n",
    "print(a[[0, 1, 2], [0, 1, 0]]) # Ausgabe \"[1 4 5]\" \n",
    "# Erzeugt das gleiche Ergebnis \n",
    "print(np.array([a[0, 0], a[1, 1], a[2, 0]])) # Ausgabe:\"[1 4 5]\" \n",
    "print(np.array([a[0, 1], a[0, 1]])) # Ausgabe: \"[2 2]\"\n"
   ]
  },
  {
   "cell_type": "code",
   "execution_count": 28,
   "metadata": {},
   "outputs": [
    {
     "name": "stdout",
     "output_type": "stream",
     "text": [
      "[[ 1  2  3]\n",
      " [ 4  5  6]\n",
      " [ 7  8  9]\n",
      " [10 11 12]]\n",
      "[ 1  6  7 11]\n",
      "[[11  2  3]\n",
      " [ 4  5 16]\n",
      " [17  8  9]\n",
      " [10 21 12]]\n"
     ]
    }
   ],
   "source": [
    "a = np.array([[1,2,3], [4,5,6], [7,8,9], [10, 11, 12]]) \n",
    "print(a) \n",
    "# Erzeuge ein Array von Indices \n",
    "b = np.array([0, 2, 0, 1]) # Selektiere ein Element pro Zeile in neuem Array b \n",
    "\n",
    "print(a[np.arange(4), b]) # Ausgabe: \"[ 1 6 7 11]\" \n",
    "# Verändere ein Element pro Zeile unter Nutzung von b \n",
    "a[np.arange(4), b] += 10 \n",
    "print(a) # Ausgabe: \"array([[11, 2, 3], # [ 4, 5, 16], # [17, 8, 9], # [10, 21, 12]])\n"
   ]
  },
  {
   "cell_type": "code",
   "execution_count": 29,
   "metadata": {},
   "outputs": [
    {
     "name": "stdout",
     "output_type": "stream",
     "text": [
      "[[False False]\n",
      " [ True  True]\n",
      " [ True  True]]\n",
      "[3 4 5 6]\n",
      "[3 4 5 6]\n"
     ]
    }
   ],
   "source": [
    "# Ein Beispiel für Boolean Indexing\n",
    "a = np.array([[1,2], [3, 4], [5, 6]]) \n",
    "bool_idx = (a > 2) # Findet ein Element größer als 2; \n",
    "\n",
    "# Erzeugt ein Numpy Array mit Booleans derselben Größe wie a, wo \n",
    "# jeder Eintrag bedeutet, ob das Element größer als 2 ist. \n",
    "print(bool_idx)\n",
    "# Ausgabe: \"[[False False] \n",
    "#[ True True] \n",
    "#[ True True]]\" \n",
    "\n",
    "# Man kann sich auf auf Basis von bool_idx ein Rang 1 Array \n",
    "# erzeugen, welches alle Werte zurückgibt, die zutreffen \n",
    "print(a[bool_idx]) # Ausgabe: \"[3 4 5 6]\" \n",
    "\n",
    "# verkürzte Darstellung\n",
    "print(a[a > 2]) # Ausgabe: \"[3 4 5 6]\"\n"
   ]
  },
  {
   "cell_type": "markdown",
   "metadata": {},
   "source": [
    "#### Mathematische Funktionen auf Arrays"
   ]
  },
  {
   "cell_type": "code",
   "execution_count": 30,
   "metadata": {},
   "outputs": [
    {
     "name": "stdout",
     "output_type": "stream",
     "text": [
      "[[ 6.  8.]\n",
      " [10. 12.]]\n",
      "[[ 6.  8.]\n",
      " [10. 12.]]\n",
      "[[-4. -4.]\n",
      " [-4. -4.]]\n",
      "[[-4. -4.]\n",
      " [-4. -4.]]\n",
      "[[ 5. 12.]\n",
      " [21. 32.]]\n",
      "[[ 5. 12.]\n",
      " [21. 32.]]\n",
      "[[0.2        0.33333333]\n",
      " [0.42857143 0.5       ]]\n",
      "[[0.2        0.33333333]\n",
      " [0.42857143 0.5       ]]\n",
      "[[1.         1.41421356]\n",
      " [1.73205081 2.        ]]\n"
     ]
    }
   ],
   "source": [
    "x = np.array([[1,2],[3,4]], dtype=np.float64) \n",
    "y = np.array([[5,6],[7,8]], dtype=np.float64) \n",
    "# Elementweise Summe [[ 6.0 8.0]  [10.0 12.0]] \n",
    "print(x + y) \n",
    "print(np.add(x, y)) \n",
    "# Elementweise Subtraktion [[-4.0 -4.0]  [-4.0 -4.0]] \n",
    "print(x - y) \n",
    "print(np.subtract(x, y)) \n",
    "# Elementweise Multiplikation [[ 5.0 12.0]  [21.0 32.0]] \n",
    "print(x * y) \n",
    "print(np.multiply(x, y)) \n",
    "# Elementweise Division [[ 0.2 0.33333333] [ 0.42857143 0.5 ]] \n",
    "print(x / y) \n",
    "print(np.divide(x, y)) \n",
    "# Elementweises Wurzelziehen [[ 1. 1.41421356]  [ 1.73205081 2. ]] \n",
    "print(np.sqrt(x))\n"
   ]
  },
  {
   "cell_type": "code",
   "execution_count": 31,
   "metadata": {},
   "outputs": [
    {
     "name": "stdout",
     "output_type": "stream",
     "text": [
      "219\n",
      "219\n",
      "[29 67]\n",
      "[29 67]\n",
      "[[19 22]\n",
      " [43 50]]\n",
      "[[19 22]\n",
      " [43 50]]\n",
      "10\n",
      "[4 6]\n",
      "[3 7]\n"
     ]
    }
   ],
   "source": [
    "x = np.array([[1,2],[3,4]]) \n",
    "y = np.array([[5,6],[7,8]]) \n",
    "v = np.array([9,10]) \n",
    "w = np.array([11, 12]) \n",
    "# Skalarprodukt (inneres Produkt) zweier Vektoren, ergibt hier 219 \n",
    "print(v.dot(w)) \n",
    "print(np.dot(v, w)) \n",
    "# Matrix-Vektor-Multiplikation; erzeugt Rang 1 Array [29 67] \n",
    "print(x.dot(v)) \n",
    "print(np.dot(x, v)) \n",
    "# Matrix-Matrix-Mult.; erzeugt Rang 2 Array [[19 22] [43 50]] \n",
    "print(x.dot(y)) \n",
    "print(np.dot(x, y))\n",
    "\n",
    "print(np.sum(x)) # Berechnet Summer aller Elemente, Ausgabe: \"10\" \n",
    "print(np.sum(x, axis=0)) # Berechnet Spaltensumme; Ausgabe:\"[4 6]\" \n",
    "print(np.sum(x, axis=1)) # Berechnet Zeilensumme; Ausgabe \"[3 7]\"\n"
   ]
  },
  {
   "cell_type": "code",
   "execution_count": 32,
   "metadata": {},
   "outputs": [
    {
     "name": "stdout",
     "output_type": "stream",
     "text": [
      "[[1 2]\n",
      " [3 4]]\n",
      "[[1 3]\n",
      " [2 4]]\n",
      "[1 2 3]\n",
      "[1 2 3]\n"
     ]
    }
   ],
   "source": [
    "x = np.array([[1,2], [3,4]]) \n",
    "print(x) # Ausgabe: \"[[1 2] [3 4]]\" \n",
    "print(x.T) # Ausgabe: \"[[1 3] [2 4]]\" \n",
    "\n",
    "# Die Transponierte eines Rang 1 Arrays macht nichts (zumindest in der Ausgabe): \n",
    "v = np.array([1,2,3]) \n",
    "print(v) # Ausgabe: \"[1 2 3]\" \n",
    "print(v.T) # Ausgabe: \"[1 2 3]”\n"
   ]
  },
  {
   "cell_type": "markdown",
   "metadata": {},
   "source": [
    "#### Broadcasting\n",
    "\n",
    "+ Mechnismus um mit unterschiedlich geformten Arrays zu arbeiten, z.B. mit das kleineren Array mehrfach mit dem größeren multiplizieren oder ähnliches\n",
    "+ Idee zum Performancegewinn:\n",
    "    + Addition von Vektor v mit jeder Zeile in Matrix x ist equivalent mit der Erzeugung von Matrix vv als Stapel von Kopien von v \n",
    "    + Dann bedarf es nur noch einer elementweisen Summe von x und vv\n",
    "+ Broadcasting erlaubt die Berechnung ohne der Erzeugung der zusätzlichen Matrix:\n",
    "\n"
   ]
  },
  {
   "cell_type": "code",
   "execution_count": 33,
   "metadata": {},
   "outputs": [
    {
     "name": "stdout",
     "output_type": "stream",
     "text": [
      "[[1 0 1]\n",
      " [1 0 1]\n",
      " [1 0 1]\n",
      " [1 0 1]]\n",
      "[[ 2  2  4]\n",
      " [ 5  5  7]\n",
      " [ 8  8 10]\n",
      " [11 11 13]]\n"
     ]
    }
   ],
   "source": [
    "# Wir addieren Vektor v zu jeder Zeile in Matrix x und speichern das Resultat in Matrix y\n",
    "x = np.array([[1,2,3], [4,5,6], [7,8,9], [10, 11, 12]]) \n",
    "v = np.array([1, 0, 1]) \n",
    "\n",
    "vv = np.tile(v, (4, 1)) \n",
    "# Stapelt 4 Kopien von v aufeinander\n",
    "print(vv) \n",
    "# Ausgabe \"[[1 0 1] [1 0 1] [1 0 1] [1 0 1]]\" \n",
    "y = x + vv # Addiere x and vv elementweise\n",
    "\n",
    "print(y) # Ausgabe\"[[ 2 2 4] [ 5 5 7] [ 8 8 10] [11 11 13]]\"\n"
   ]
  },
  {
   "cell_type": "code",
   "execution_count": 34,
   "metadata": {},
   "outputs": [
    {
     "name": "stdout",
     "output_type": "stream",
     "text": [
      "[[ 2  2  4]\n",
      " [ 5  5  7]\n",
      " [ 8  8 10]\n",
      " [11 11 13]]\n"
     ]
    }
   ],
   "source": [
    "# Wir addieren Vektor v zu jeder Zeile in Matrix x und speichern das Resultat in Matrix y\n",
    "x = np.array([[1,2,3], [4,5,6], [7,8,9], [10, 11, 12]]) \n",
    "v = np.array([1, 0, 1]) \n",
    "\n",
    "y = x + v # Addiere v auf jede Zeile von x – mit ‘broadcasting’\n",
    "\n",
    "print(y) # Ausgabe\"[[ 2 2 4] [ 5 5 7] [ 8 8 10] [11 11 13]]\"\n"
   ]
  },
  {
   "cell_type": "code",
   "execution_count": 35,
   "metadata": {},
   "outputs": [
    {
     "name": "stdout",
     "output_type": "stream",
     "text": [
      "[[ 4  5]\n",
      " [ 8 10]\n",
      " [12 15]]\n",
      "[[2 4 6]\n",
      " [5 7 9]]\n",
      "[[ 5  6  7]\n",
      " [ 9 10 11]]\n",
      "[[ 5  6  7]\n",
      " [ 9 10 11]]\n",
      "[[ 2  4  6]\n",
      " [ 8 10 12]]\n"
     ]
    }
   ],
   "source": [
    "v = np.array([1,2,3]) # v hat die Form (3,) \n",
    "w = np.array([4,5]) # w hat die Form (2,) \n",
    "\n",
    "# Um das Aussenprodukt zu berechnen muss v zunächst ein \n",
    "# Spaltenvektor sein (shape (3, 1)). Danach können wir gegen w \n",
    "# broadcasten und ein Array der Form (3,2) entsteht: das \n",
    "# Aussenprodukt von v und w  [[ 4 5]  [ 8 10]  [12 15]] \n",
    "print(np.reshape(v, (3, 1)) * w) \n",
    "\n",
    "\n",
    "x = np.array([[1,2,3], [4,5,6]]) \n",
    "# Addiere einen Vektor zu jeder Zeile. x hat die Form (2, 3) und v\n",
    "# hat die Form (3,) -> diese ‘broadcasten’ zu (2, 3), und ergeben # die folgende Matrix  [[2 4 6]  [5 7 9]] \n",
    "print(x + v)\n",
    "\n",
    "# Addiere einen Vektor auf jede Spalte der Matrix x hat die Form\n",
    "# (2, 3) and w die Form (2,). Wenn wir x transponieren hat Sie die \n",
    "# Form (3, 2) und kann gegen w gebroadcastet werden Resultat ist\n",
    "# der Form (3,2). Transponieren wir das Ergebnis kommen wir auf die\n",
    "# finale Form (2,3) – Matrix x mit einem Vektor w addiert auf jede\n",
    "# Spalte [[ 5 6 7]  [ 9 10 11]] \n",
    "print((x.T + w).T)\n",
    "\n",
    "# Eine andere Lösung ist die Umformung von w in einen Zeilenvektor\n",
    "# der Form (2,1) # Diesen können wir direkt gegen x ‘broadcasten’ – \n",
    "# mit dem gleichen Ergebnis\n",
    "print(x + np.reshape(w, (2, 1)))\n",
    "\n",
    "# Multiplikation einer Matrix mit einer Konstante. In numpy hat \n",
    "# eine Skalar die Form (). Dieser kann zusammengeführt werden – mit \n",
    "# dem Ergbnis [[ 2 4 6] [ 8 10 12]] \n",
    "print(x * 2)\n",
    "\n"
   ]
  },
  {
   "cell_type": "code",
   "execution_count": 36,
   "metadata": {},
   "outputs": [
    {
     "name": "stdout",
     "output_type": "stream",
     "text": [
      "(3,) (3, 1)\n"
     ]
    }
   ],
   "source": [
    "### Reshape \n",
    "\n",
    "a = np.array([1,2,3])\n",
    "b = a.reshape(3,1)\n",
    "print(a.shape, b.shape)"
   ]
  },
  {
   "cell_type": "markdown",
   "metadata": {},
   "source": [
    "#### Mathematische Darstellung / Plotting / Subplots / Images"
   ]
  },
  {
   "cell_type": "code",
   "execution_count": 37,
   "metadata": {},
   "outputs": [
    {
     "data": {
      "text/plain": [
       "<Figure size 640x480 with 1 Axes>"
      ]
     },
     "metadata": {},
     "output_type": "display_data"
    }
   ],
   "source": [
    "import matplotlib.pyplot as plt \n",
    "\n",
    "# Compute the x and y coordinates for points on a sine curve \n",
    "x = np.arange(0, 3 * np.pi, 0.1) \n",
    "y = np.sin(x) \n",
    "\n",
    "# Plot the points using matplotlib \n",
    "plt.plot(x, y) \n",
    "plt.show() # You must call plt.show() to make graphics appear."
   ]
  },
  {
   "cell_type": "code",
   "execution_count": 38,
   "metadata": {},
   "outputs": [
    {
     "data": {
      "image/png": "[encoded data removed]",
      "text/plain": [
       "<Figure size 432x288 with 2 Axes>"
      ]
     },
     "metadata": {
      "needs_background": "light"
     },
     "output_type": "display_data"
    }
   ],
   "source": [
    "# Compute the x and y coordinates for points on sine and cosine curves \n",
    "x = np.arange(0, 3 * np.pi, 0.1) \n",
    "y_sin = np.sin(x) \n",
    "y_cos = np.cos(x) \n",
    "# Set up a subplot grid that has height 2 and width 1, and set the first such subplot as active. \n",
    "plt.subplot(2, 1, 1) \n",
    "# Make the first plot \n",
    "plt.plot(x, y_sin) \n",
    "plt.subplot(2, 1, 2) \n",
    "plt.plot(x, y_cos) \n",
    "plt.show() # Show the figure. \n"
   ]
  },
  {
   "cell_type": "code",
   "execution_count": 10,
   "metadata": {},
   "outputs": [
    {
     "data": {
      "image/png": "[encoded data removed]",
      "text/plain": [
       "<Figure size 432x288 with 2 Axes>"
      ]
     },
     "metadata": {
      "needs_background": "light"
     },
     "output_type": "display_data"
    }
   ],
   "source": [
    "import matplotlib\n",
    "import matplotlib.pyplot as plt\n",
    "import matplotlib.image as mpimg\n",
    "\n",
    "img = mpimg.imread('Lenna.png')\n",
    "img_tinted = img * [1, 0.95, 0.9]\n",
    "# Show the original image\n",
    "plt.subplot(1, 2, 1)\n",
    "plt.imshow(img)\n",
    "# Show the tinted image\n",
    "plt.subplot(1, 2, 2)\n",
    "\n",
    "plt.imshow(np.uint8(img_tinted))\n",
    "plt.show()"
   ]
  },
  {
   "cell_type": "code",
   "execution_count": null,
   "metadata": {},
   "outputs": [],
   "source": []
  }
 ],
 "metadata": {
  "kernelspec": {
   "display_name": "Python 3",
   "language": "python",
   "name": "python3"
  },
  "language_info": {
   "codemirror_mode": {
    "name": "ipython",
    "version": 3
   },
   "file_extension": ".py",
   "mimetype": "text/x-python",
   "name": "python",
   "nbconvert_exporter": "python",
   "pygments_lexer": "ipython3",
   "version": "3.7.4"
  }
 },
 "nbformat": 4,
 "nbformat_minor": 2
}
