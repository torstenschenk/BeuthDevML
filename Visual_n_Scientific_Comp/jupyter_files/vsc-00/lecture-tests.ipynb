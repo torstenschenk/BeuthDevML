{
 "cells": [
  {
   "cell_type": "code",
   "execution_count": 2,
   "metadata": {
    "collapsed": true
   },
   "outputs": [],
   "source": [
    "import numpy as np\n",
    "import scipy as sp\n",
    "import matplotlib as pl"
   ]
  },
  {
   "cell_type": "code",
   "execution_count": 46,
   "metadata": {},
   "outputs": [
    {
     "name": "stdout",
     "output_type": "stream",
     "text": [
      "Type: <class 'numpy.ndarray'>\n",
      "Point wise mult: [[1 4 9]\n",
      " [1 4 9]]\n",
      "Now matrix multi by @:\n",
      " [[14 14]\n",
      " [14 14]]\n"
     ]
    }
   ],
   "source": [
    "A = np.array([[1,2,3],[1,2,3]])\n",
    "B = np.array([[1,2,3],[1,2,3]])\n",
    "C = A*B\n",
    "print('Type:',type(C))\n",
    "print('Point wise mult:',C)\n",
    "\n",
    "# aber works @ for array multi\n",
    "D = A @ B.T\n",
    "print('Now matrix multi by @:\\n',D)"
   ]
  },
  {
   "cell_type": "code",
   "execution_count": 47,
   "metadata": {},
   "outputs": [
    {
     "name": "stdout",
     "output_type": "stream",
     "text": [
      "Type: <class 'numpy.matrix'>\n",
      "Matrix mult:\n",
      " [[14 14]\n",
      " [14 14]]\n"
     ]
    },
    {
     "data": {
      "text/plain": [
       "matrix([[1, 4, 9],\n",
       "        [1, 4, 9]])"
      ]
     },
     "execution_count": 47,
     "metadata": {},
     "output_type": "execute_result"
    }
   ],
   "source": [
    "A = np.matrix([[1,2,3],[1,2,3]])\n",
    "B = np.matrix([[1,2,3],[1,2,3]])\n",
    "C = A * B.T\n",
    "print('Type:',type(C))\n",
    "print('Matrix mult:\\n',C)\n",
    "\n",
    "# with matrix element wise multi!!!\n",
    "D = np.multiply(A,B)\n",
    "D\n",
    "\n"
   ]
  },
  {
   "cell_type": "code",
   "execution_count": 48,
   "metadata": {},
   "outputs": [
    {
     "data": {
      "text/plain": [
       "matrix([[1, 2, 3],\n",
       "        [1, 2, 3]])"
      ]
     },
     "execution_count": 48,
     "metadata": {},
     "output_type": "execute_result"
    }
   ],
   "source": [
    "A = np.matrix('1,2,3;1,2,3')\n",
    "A"
   ]
  },
  {
   "cell_type": "code",
   "execution_count": 49,
   "metadata": {},
   "outputs": [
    {
     "name": "stdout",
     "output_type": "stream",
     "text": [
      "<class 'numpy.ndarray'>\n",
      "Mat full:\n",
      " [[ 0  1  2  3  4]\n",
      " [ 5  6  7  8  9]\n",
      " [10 11 12 13 14]\n",
      " [15 16 17 18 19]]\n",
      "Sliced:\n",
      " [[ 6  7]\n",
      " [11 12]]\n"
     ]
    }
   ],
   "source": [
    "E = np.arange(20).reshape(4,5)\n",
    "print(type(E))\n",
    "print('Mat full:\\n',E)\n",
    "print('Sliced:\\n',E[1:3,1:3])"
   ]
  },
  {
   "cell_type": "code",
   "execution_count": 50,
   "metadata": {},
   "outputs": [
    {
     "name": "stdout",
     "output_type": "stream",
     "text": [
      "[[ 1  2  3]\n",
      " [ 4  5  6]\n",
      " [ 7  8  9]\n",
      " [10 11 12]] \n",
      " [[1 0 1]\n",
      " [1 0 1]\n",
      " [1 0 1]\n",
      " [1 0 1]]\n",
      "[[ 2  2  4]\n",
      " [ 5  5  7]\n",
      " [ 8  8 10]\n",
      " [11 11 13]]\n"
     ]
    }
   ],
   "source": [
    "x = np.array([[1,2,3],[4,5,6],[7,8,9],[10,11,12]])\n",
    "v = np.array([1,0,1])\n",
    "\n",
    "vv = np.tile(v,(4,1))\n",
    "print(x,'\\n',vv)\n",
    "\n",
    "# broadcast\n",
    "print(x+v)\n",
    "\n",
    "# is equal to: # x[:] + v"
   ]
  },
  {
   "cell_type": "code",
   "execution_count": 51,
   "metadata": {},
   "outputs": [
    {
     "name": "stdout",
     "output_type": "stream",
     "text": [
      "(1, 3)\n",
      "(3, 1)\n",
      "[[1 2]\n",
      " [2 3]]\n",
      "(3, 3, 2)\n",
      "[[[0.55615317 0.8780514 ]\n",
      "  [0.31590125 0.31560144]\n",
      "  [0.22680208 0.07592859]]\n",
      "\n",
      " [[0.09790453 0.26898608]\n",
      "  [0.37924531 0.20176908]\n",
      "  [0.38877537 0.88467916]]\n",
      "\n",
      " [[0.38977594 0.44704693]\n",
      "  [0.69115398 0.56888572]\n",
      "  [0.8262351  0.3924879 ]]]\n",
      "<class 'numpy.ndarray'>\n"
     ]
    }
   ],
   "source": [
    "# floating points\n",
    "s = 1.4\n",
    "v = np.matrix('1,2,3')\n",
    "print(v.shape)\n",
    "print(v.T.shape)\n",
    "\n",
    "M = np.matrix('1,2;2,3')\n",
    "print(M)\n",
    "\n",
    "T = np.random.rand(3,3,2)\n",
    "print(T.shape)\n",
    "print(T)\n",
    "print(type(T))"
   ]
  },
  {
   "cell_type": "code",
   "execution_count": 52,
   "metadata": {},
   "outputs": [
    {
     "name": "stdout",
     "output_type": "stream",
     "text": [
      "[[14]]\n"
     ]
    }
   ],
   "source": [
    "v1 = np.matrix('1,2,3')\n",
    "v2 = np.matrix('1,2,3')\n",
    "print(v1.dot(v2.T))"
   ]
  },
  {
   "cell_type": "code",
   "execution_count": 53,
   "metadata": {},
   "outputs": [
    {
     "name": "stdout",
     "output_type": "stream",
     "text": [
      "[[14]]\n",
      "[[14]\n",
      " [14]]\n",
      "All vectors with each other:\n",
      " [[14 14]\n",
      " [14 14]]\n"
     ]
    }
   ],
   "source": [
    "v1 = np.matrix('1,2,3')\n",
    "v2 = np.matrix('1,2,3')\n",
    "print(v1.dot(v2.T))\n",
    "\n",
    "V1 = np.matrix('1,2,3;1,2,3')\n",
    "v2 = np.matrix('1,2,3')\n",
    "print(V1.dot(v2.T))\n",
    "\n",
    "V1 = np.matrix('1,2,3;1,2,3')\n",
    "V2 = np.matrix('1,2,3;1,2,3')\n",
    "print('All vectors with each other:\\n',V1.dot(V2.T))"
   ]
  },
  {
   "cell_type": "code",
   "execution_count": 66,
   "metadata": {},
   "outputs": [
    {
     "name": "stdout",
     "output_type": "stream",
     "text": [
      "[[1.]\n",
      " [2.]]\n",
      "Type: <class 'numpy.matrix'>\n"
     ]
    },
    {
     "data": {
      "text/plain": [
       "numpy.matrix"
      ]
     },
     "execution_count": 66,
     "metadata": {},
     "output_type": "execute_result"
    }
   ],
   "source": [
    "# Gleichungssystem lösen einfachens Beispiel\n",
    "# Äpfel und Birnen\n",
    "# 6 Äpfel und 12 Birnen kosten 30€\n",
    "# 3 Äpfel und 3 Birnen kosten 9€\n",
    "A = np.matrix('6 12; 3 3')\n",
    "b = np.matrix('30; 9')\n",
    "\n",
    "A_inv = np.linalg.inv(A)\n",
    "x = A_inv * b\n",
    "print(x)\n",
    "\n",
    "p = np.mat('3;4')\n",
    "print('Type:',type(p))\n",
    "type(p)"
   ]
  },
  {
   "cell_type": "code",
   "execution_count": null,
   "metadata": {
    "collapsed": true
   },
   "outputs": [],
   "source": []
  }
 ],
 "metadata": {
  "kernelspec": {
   "display_name": "Python 3",
   "language": "python",
   "name": "python3"
  },
  "language_info": {
   "codemirror_mode": {
    "name": "ipython",
    "version": 3
   },
   "file_extension": ".py",
   "mimetype": "text/x-python",
   "name": "python",
   "nbconvert_exporter": "python",
   "pygments_lexer": "ipython3",
   "version": "3.7.4"
  }
 },
 "nbformat": 4,
 "nbformat_minor": 2
}
