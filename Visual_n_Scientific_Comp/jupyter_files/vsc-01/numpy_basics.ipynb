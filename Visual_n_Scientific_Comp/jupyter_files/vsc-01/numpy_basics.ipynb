{
 "cells": [
  {
   "cell_type": "markdown",
   "metadata": {},
   "source": [
    "<h1 style=\"font-size:2.5em;text-align:center\">Visual and Scientific Computing</h1>\n",
    "<h2 style=\"text-align:center\">Basics</h2>\n",
    "<h3 style=\"text-align:center\">WiSe 2019/20</h3>\n",
    "<p style=\"text-align:justify\">Das Lernziel dieser Übungsaufgabe ist mit der Programmiersprache Python und der Bibliothek Numpy vertraut zu werden, um diese dann als Werkzeug in den weiteren Übungen einzusetzen. Machen Sie sich deshalb bitte so gut es geht damit vertraut und nutzen Sie dafür auch bitte Online-Resourcen wie <a href=\"https://docs.scipy.org/doc/numpy-1.13.0/reference/\">https://docs.scipy.org/doc/numpy-1.13.0/reference/</a> und <a href=\"https://docs.python.org/3/\">https://docs.python.org/3/</a>.</p>"
   ]
  },
  {
   "cell_type": "markdown",
   "metadata": {},
   "source": [
    "## Aufgabe 1: Python Einführung (5 Punkte)\n",
    "\n",
    "<ol style=\"list-style: lower-alpha\"><li>Um sich mit der Programmiersprache Python vertraut zu machen, implementieren Sie einen einfachen Bubblesort-Algorithmus. Eine beispielhafte Eingabe und Ausgabe könnte so aussehen:</li></ol>\n",
    "<pre>Eingabe: [ 5 14 10  7  2 13  1 12  6  9  0  3  8 11  4]\n",
    "Ausgabe: [ 0  1  2  3  4  5  6  7  8  9 10 11 12 13 14]</pre>"
   ]
  },
  {
   "cell_type": "code",
   "execution_count": 30,
   "metadata": {},
   "outputs": [],
   "source": [
    "def bubblesort(liste:list) -> (list):\n",
    "    \"\"\"\n",
    "    Implements Bubblesort using an list as input and\n",
    "    returning a sorted list\n",
    "\n",
    "    :param list\n",
    "    :return: list\n",
    "    \"\"\"\n",
    "    # liste.sort()\n",
    "    # print('Easy peasy way:', liste)\n",
    "    \n",
    "    # test arange\n",
    "    # x = np.arange(len(liste),-1,-1)\n",
    "    # print(x)\n",
    "    \n",
    "    # TODO: Implement Bubblesort\n",
    "    for backIdx in range(len(liste),-1):\n",
    "        for frontIdx in range(1,backIdx):\n",
    "            # print('frontIdx:',frontIdx, 'backIdx:',backIdx)\n",
    "            # print('frontIdx-1:',frontIdx-1, 'elem:',liste[frontIdx-1], 'frontIdx:',frontIdx, 'elem:',liste[frontIdx])\n",
    "            if (liste[frontIdx-1] > liste[frontIdx]):\n",
    "                tmp = liste[frontIdx-1]\n",
    "                liste[frontIdx-1] = liste[frontIdx]\n",
    "                liste[frontIdx] = tmp\n",
    "                # print('is bigger') \n",
    "    return liste"
   ]
  },
  {
   "cell_type": "code",
   "execution_count": 31,
   "metadata": {},
   "outputs": [
    {
     "name": "stdout",
     "output_type": "stream",
     "text": [
      "Self made bubble sort: [52, 18, 65, 61, 31, 86, 36, 15, 22, 13]\n"
     ]
    }
   ],
   "source": [
    "sorted_list = bubblesort([52, 18, 65, 61, 31, 86, 36, 15, 22, 13])\n",
    "\n",
    "print('Self made bubble sort:',sorted_list)"
   ]
  },
  {
   "cell_type": "markdown",
   "metadata": {},
   "source": [
    "## Aufgabe 2: Numpy Einführung (5 Punkte)\n",
    "\n",
    "<p style=\"margin-left:2em\">Die Bibliothek <em>Numpy</em> ist sehr umfangreich und wir werden auch nicht jede Funktionalität brauchen, aber es ist wichtig mit den grundlegenden Datenstrukturen vertraut zu sein. Ich habe hier eine Liste vonkleinen Aufgaben zusammengestellt, die Sie in der Datei <em>numpy_basic.py</em> beantworten sollen. <strong>Suchen Sie sich insgesamt 14 (von 23) Sterne zusammen und implementieren Sie diese</strong>. Das ist häufig ein Einzeiler oder Zweizeiler. Die Musterlösung benötigt in jeder Teilaufgabe maximal drei Zeilen. Es muss aber nicht krampfhaft versucht werden diese Vorgabe zu erreichen, dies soll nur ein Hinweis darauf sein, dass Sie keinen langen Code schreiben müssen. Lesen Sie sich selbstständig in die Dokumentation ein und versuchen Sie die Fragen mit den notwendigen Numpy-Funktionen zu beantworten. Sollten Sie keine Funktion finden, implementieren Sie eine Lösung selbst in einer kleinen Funktion. Sie können auch im Kursforum nach Hilfe suchen. <strong>Bitten geben Sie die Lösung jeweils auf der Konsole aus (mittels print)</strong>. Hinweis: die print Anweisung zählt nicht zu dem Einzeiler oder Zweizeiler, wenn im Hinweis also steht <i>geht in einer Zeile</i> muss in dieser nicht auch noch die print Anweisung kommen.</p>"
   ]
  },
  {
   "cell_type": "code",
   "execution_count": 40,
   "metadata": {},
   "outputs": [],
   "source": [
    "import numpy as np"
   ]
  },
  {
   "cell_type": "markdown",
   "metadata": {},
   "source": [
    "<p style=\"margin-left:2em\">a) (*) Erzeugen Sie einen Vektor a mit Nullen der Länge 10 (10 Elemente) und setzen den Wert des 5. Elementes auf eine 1.</p>"
   ]
  },
  {
   "cell_type": "code",
   "execution_count": 41,
   "metadata": {},
   "outputs": [
    {
     "name": "stdout",
     "output_type": "stream",
     "text": [
      "Print vec_a: [0. 0. 0. 0. 0. 1. 0. 0. 0. 0.]\n",
      "Has only one dim: (10,)\n"
     ]
    }
   ],
   "source": [
    "# Erzeugen Sie einen Vektor mit Nullen der Länge 10 und setzen den Wert des 5. Elementes auf eine 1.\n",
    "vec_a = np.zeros(10)\n",
    "vec_a[5] = 1\n",
    "print('Print vec_a:',vec_a)\n",
    "print('Has only one dim:',vec_a.shape)"
   ]
  },
  {
   "cell_type": "markdown",
   "metadata": {},
   "source": [
    "<p style=\"margin-left:2em\">b) (*) Erzeugen Sie einen Vektor b mit Ganzahl-Werten von 10 bis 49 (geht in einer Zeile).</p>"
   ]
  },
  {
   "cell_type": "code",
   "execution_count": 45,
   "metadata": {},
   "outputs": [
    {
     "name": "stdout",
     "output_type": "stream",
     "text": [
      "Arange vec_b: [10 11 12 13 14 15 16 17 18 19 20 21 22 23 24 25 26 27 28 29 30 31 32 33\n",
      " 34 35 36 37 38 39 40 41 42 43 44 45 46 47 48 49]\n",
      "Linspace vec_b: [10. 11. 12. 13. 14. 15. 16. 17. 18. 19. 20. 21. 22. 23. 24. 25. 26. 27.\n",
      " 28. 29. 30. 31. 32. 33. 34. 35. 36. 37. 38. 39. 40. 41. 42. 43. 44. 45.\n",
      " 46. 47. 48. 49.]\n"
     ]
    }
   ],
   "source": [
    "# Erzeugen Sie einen Vektor mit Ganzzahl-Werten von 10 bis 49 (geht in einer Zeile).\n",
    "vec_b = np.arange(10,49+1)\n",
    "print('Arange vec_b:',vec_b)\n",
    "vec_b = np.linspace(10,49,40)\n",
    "print('Linspace vec_b:',vec_b)"
   ]
  },
  {
   "cell_type": "markdown",
   "metadata": {},
   "source": [
    "<p style=\"margin-left:2em\">c) (*) Erzeugen Sie einen Vektor mit 8 Einträgen zwischen -1 und 1 bei dem alle Werte die gleichen Abstände habe und sowohl -1 als auch 1 enthalten sind (geht in einer Zeile).</p>"
   ]
  },
  {
   "cell_type": "code",
   "execution_count": 46,
   "metadata": {},
   "outputs": [
    {
     "name": "stdout",
     "output_type": "stream",
     "text": [
      "vec_c: [-1.         -0.71428571 -0.42857143 -0.14285714  0.14285714  0.42857143\n",
      "  0.71428571  1.        ]\n"
     ]
    }
   ],
   "source": [
    "# Erzeugen Sie einen Vektor mit 8 Einträgen zwischen -1 und 1 bei dem alle Werte die gleichen Abstände habe und sowohl -1 als auch 1 enthalten sind (geht in einer Zeile). Hinweis: guckt euch den Unterschied zwischen numpy.arange und numpy.linspace welche Funktion passt besser?.\n",
    "vec_c = np.linspace(-1., 1., 8)\n",
    "print('vec_c:',vec_c)"
   ]
  },
  {
   "cell_type": "markdown",
   "metadata": {},
   "source": [
    "<p style=\"margin-left:2em\">d) (*) Geben Sie nur das Stück (slice) von Vektor b) aus, das die Zahlen 21 bis 38 (Stellen 11 bis 28) beinhaltet (geht in einer Zeile).</p>"
   ]
  },
  {
   "cell_type": "code",
   "execution_count": 47,
   "metadata": {},
   "outputs": [
    {
     "name": "stdout",
     "output_type": "stream",
     "text": [
      "[21. 22. 23. 24. 25. 26. 27. 28. 29. 30. 31. 32. 33. 34. 35. 36. 37. 38.]\n"
     ]
    }
   ],
   "source": [
    "# Geben Sie nur das Stück (slice) von Vektor b) aus, das die Zahlen 21 bis 38 (Stellen 11 bis 28) beinhaltet (geht in einer Zeile).\n",
    "vec_d = vec_b[11:28+1]\n",
    "print(vec_d)"
   ]
  },
  {
   "cell_type": "markdown",
   "metadata": {},
   "source": [
    "<p style=\"margin-left:2em\">e) (*) Ändern Sie den Vektor b) indem sie das Stück (slice) von Stelle 15 bis <strong>einschließlich</strong> Stelle 25 mit den Werten negierten Werten von Stelle 1 bis <strong>einschließlich</strong> Stelle 11 überschreiben (geht in einer Zeile).</p>"
   ]
  },
  {
   "cell_type": "code",
   "execution_count": 48,
   "metadata": {},
   "outputs": [
    {
     "name": "stdout",
     "output_type": "stream",
     "text": [
      "[ 10.  11.  12.  13.  14.  15.  16.  17.  18.  19.  20.  21.  22.  23.\n",
      "  24. -11. -12. -13. -14. -15. -16. -17. -18. -19. -20. -21.  36.  37.\n",
      "  38.  39.  40.  41.  42.  43.  44.  45.  46.  47.  48.  49.]\n"
     ]
    }
   ],
   "source": [
    "# Ändern Sie den Vektor b) indem sie das Stück (slice) von Stelle 15 bis einschließlich Stelle 25 mit den Werten negierten Werten von Stelle 1 bis einschließlich Stelle 11 überschreiben (geht in einer Zeile).\n",
    "vec_b[15:25+1] = - vec_b[1:11+1]\n",
    "print(vec_b)"
   ]
  },
  {
   "cell_type": "markdown",
   "metadata": {},
   "source": [
    "<p style=\"margin-left:2em\">f) (*) Drehen Sie die Werte des Vektors aus b) oder a) um (geht in einer Zeile).</p>"
   ]
  },
  {
   "cell_type": "code",
   "execution_count": 49,
   "metadata": {},
   "outputs": [
    {
     "name": "stdout",
     "output_type": "stream",
     "text": [
      "vec_b inverse: [ 49.  48.  47.  46.  45.  44.  43.  42.  41.  40.  39.  38.  37.  36.\n",
      " -21. -20. -19. -18. -17. -16. -15. -14. -13. -12. -11.  24.  23.  22.\n",
      "  21.  20.  19.  18.  17.  16.  15.  14.  13.  12.  11.  10.]\n",
      "vec_a inverse: [0. 0. 0. 0. 1. 0. 0. 0. 0. 0.]\n"
     ]
    }
   ],
   "source": [
    "# Drehen Sie die Werte des Vektors aus a) oder b) um (geht in einer Zeile).\n",
    "vec_f = np.flip(vec_b)\n",
    "print('vec_b inverse:',vec_f)\n",
    "vec_f = np.flip(vec_a)\n",
    "print('vec_a inverse:',vec_f)"
   ]
  },
  {
   "cell_type": "markdown",
   "metadata": {},
   "source": [
    "<p style=\"margin-left:2em\">g) (*) Summieren Sie alle Werte in einem Array (geht in einer Zeile).</p>"
   ]
  },
  {
   "cell_type": "code",
   "execution_count": 53,
   "metadata": {},
   "outputs": [
    {
     "name": "stdout",
     "output_type": "stream",
     "text": [
      "Sum vec_b: 674.0\n"
     ]
    }
   ],
   "source": [
    "# Summieren Sie alle Werte in einem Array.\n",
    "val_g = np.sum(vec_b)\n",
    "print('Sum vec_b:',val_g)"
   ]
  },
  {
   "cell_type": "markdown",
   "metadata": {},
   "source": [
    "<p style=\"margin-left:2em\">h) (*) Erzeugen Sie eine 4x4 Matrix mit den Werte 0 (links oben) bis 15 (rechts unten) (geht in einer Zeile).</p>"
   ]
  },
  {
   "cell_type": "code",
   "execution_count": 61,
   "metadata": {},
   "outputs": [
    {
     "name": "stdout",
     "output_type": "stream",
     "text": [
      "Reshaped vector:\n",
      " [[ 0  1  2  3]\n",
      " [ 4  5  6  7]\n",
      " [ 8  9 10 11]\n",
      " [12 13 14 15]]\n",
      "Shape dim: (4, 4)\n"
     ]
    }
   ],
   "source": [
    "# Erzeugen Sie eine 4x4 Matrix mit den Werte 0 (links oben) bis 15 (rechts unten) (geht in einer Zeile). Tip: Schauen Sie sich numpy.reshape an\n",
    "mat_h = np.arange(0,16).reshape(4,4)\n",
    "print('Reshaped vector:\\n',mat_h)\n",
    "print('Shape dim:',mat_h.shape)"
   ]
  },
  {
   "cell_type": "markdown",
   "metadata": {},
   "source": [
    "<p style=\"margin-left:2em\">i) (*) Erzeugen Sie eine 5x3 Matrix mit Zufallswerteintegers zwischen 0-100 (geht in einer Zeile).</p>"
   ]
  },
  {
   "cell_type": "code",
   "execution_count": 70,
   "metadata": {},
   "outputs": [
    {
     "name": "stdout",
     "output_type": "stream",
     "text": [
      "mat_i shape: (5, 3)\n",
      "[[ 77  66  51]\n",
      " [ 28 100  23]\n",
      " [ 90  60  18]\n",
      " [ 63  49   7]\n",
      " [ 59  38  14]]\n"
     ]
    }
   ],
   "source": [
    "# Erzeugen Sie eine 5x3 Matrix mit Zufallswerteintegers zwischen 0-100 (geht in einer Zeile).\n",
    "mat_i = np.random.randint(low=0, high=100+1, size=3*5).reshape(5,3)\n",
    "print('mat_i shape:',mat_i.shape)\n",
    "print(mat_i)"
   ]
  },
  {
   "cell_type": "markdown",
   "metadata": {},
   "source": [
    "<p style=\"margin-left:2em\">j) (*) Multiplizieren Sie eine 4x3 Matrix mit einer 3x2 Matrix (geht zwar in einer Zeile, aber benutzen Sie lieber Hilfsvariablen und drei Zeilen).</p>"
   ]
  },
  {
   "cell_type": "code",
   "execution_count": 82,
   "metadata": {},
   "outputs": [
    {
     "name": "stdout",
     "output_type": "stream",
     "text": [
      "Casted to mat works:\n",
      " [[4666 7088]\n",
      " [4039 6882]\n",
      " [7150 9760]\n",
      " [3036 6308]]\n"
     ]
    }
   ],
   "source": [
    "# Multiplizieren Sie eine 4x3 Matrix mit einer 3x2 Matrix (geht zwar in einer Zeile, aber benutzen Sie lieber Hilfsvariablen und drei Zeilen).\n",
    "mat_0 = np.random.randint(low=0, high=100+1, size=4*3).reshape(4,3)\n",
    "# print(mat_0.shape)\n",
    "mat_1 = np.random.randint(low=0, high=100+1, size=3*2).reshape(3,2)\n",
    "# print(mat_1.shape)\n",
    "# not working: # mat_j = mat_0 * mat_1\n",
    "# print(type(mat_0)) # <class 'numpy.ndarray'>\n",
    "\n",
    "mat_j = np.mat(mat_0) * np.mat(mat_1)\n",
    "# print(mat_j.shape) \n",
    "# print(type(mat_j)) # <class 'numpy.matrix'>\n",
    "print('Casted to mat works:\\n',mat_j)"
   ]
  },
  {
   "cell_type": "markdown",
   "metadata": {},
   "source": [
    "<p style=\"margin-left:2em\">k) (*) Erzeugen Sie eine 5x5 Matrix und geben Sie jeweils die geraden und die ungeraden Zeile aus (geht jeweils in einer Zeile).</p>"
   ]
  },
  {
   "cell_type": "code",
   "execution_count": 96,
   "metadata": {},
   "outputs": [
    {
     "name": "stdout",
     "output_type": "stream",
     "text": [
      "mat_k full:\n",
      " [[ 22  60  61  93 100]\n",
      " [ 65  11  34   7  94]\n",
      " [ 52  87  34  87  18]\n",
      " [ 41  30  80  91  98]\n",
      " [ 63  31  74  51  20]]\n",
      "Gerade Zeilen 0,2,4:\n",
      " [[ 22  60  61  93 100]\n",
      " [ 52  87  34  87  18]\n",
      " [ 63  31  74  51  20]]\n",
      "Ungerade Zeilen 1,3:\n",
      " [[65 11 34  7 94]\n",
      " [41 30 80 91 98]]\n"
     ]
    }
   ],
   "source": [
    "# Erzeugen Sie eine 5x5 Matrix und geben Sie jeweils die geraden und die ungeraden Zeile aus (geht jeweils in einer Zeile).\n",
    "mat_k = np.mat(np.random.randint(low=0, high=100+1, size=5*5).reshape(5,5))\n",
    "print('mat_k full:\\n',mat_k)\n",
    "print('Gerade Zeilen 0,2,4:\\n',mat_k[::2])\n",
    "print('Ungerade Zeilen 1,3:\\n',mat_k[1::2])\n"
   ]
  },
  {
   "cell_type": "markdown",
   "metadata": {},
   "source": [
    "<p style=\"margin-left:2em\">l) (**) Erzeuge eine 5x5 Matrix mit Zufallswerteintegers zwischen 0-100 und finde deren Maximum und Minimum und normalisieren Sie die Werte (sodass alle Werte zwischen 0 und 1 liegen - ein Wert wird 1 (max) sein und einer 0 (min)).</p>"
   ]
  },
  {
   "cell_type": "code",
   "execution_count": 114,
   "metadata": {},
   "outputs": [
    {
     "name": "stdout",
     "output_type": "stream",
     "text": [
      "Normalized matrix:\n",
      " [[0.60824742 0.46391753 0.17525773 0.1443299  1.        ]\n",
      " [0.1443299  0.73195876 0.46391753 0.62886598 0.89690722]\n",
      " [0.1443299  0.09278351 0.         0.88659794 0.05154639]\n",
      " [0.69072165 0.71134021 0.53608247 0.54639175 0.53608247]\n",
      " [0.62886598 0.82474227 0.84536082 0.58762887 0.27835052]]\n"
     ]
    }
   ],
   "source": [
    "# Erzeuge eine 5x5 Matrix mit Zufallsintegers zwischen 0-100 und finde deren Maximum und Minimum und normalisieren Sie die Werte (sodass alle Werte zwischen 0 und 1 liegen - ein Wert wird 1 (max) sein und einer 0 (min)).\n",
    "# Hinweis: D.h. Sie muessen die Werte normalisieren (R - R_min) / (R_max - R_min)\n",
    "mat_l = np.mat(np.random.randint(low=0, high=100+1, size=5*5).reshape(5,5))\n",
    "# print(mat_l)\n",
    "max = mat_l.max()\n",
    "min = mat_l.min()\n",
    "diff = max - min\n",
    "# print(diff)\n",
    "mat_l = (mat_l - min)/diff\n",
    "print('Normalized matrix:\\n',mat_l)"
   ]
  },
  {
   "cell_type": "markdown",
   "metadata": {},
   "source": [
    "<p style=\"margin-left:2em\">m) (**) Extrahieren Sie den Integer-Anteil eine Arrays von zufälliger Zahlen zwischen 0-10 auf 3 verschiedene Arten.</p>"
   ]
  },
  {
   "cell_type": "code",
   "execution_count": 164,
   "metadata": {},
   "outputs": [
    {
     "name": "stdout",
     "output_type": "stream",
     "text": [
      "[3.3769461  4.34159062 1.27079861 3.77690819 2.4378837  5.83008089\n",
      " 2.63427215 4.32737535 9.38973742 4.38048155]\n",
      "Frist <floor>: [3. 4. 1. 3. 2. 5. 2. 4. 9. 4.]\n",
      "Second <math.modf>: [3. 4. 1. 3. 2. 5. 2. 4. 9. 4.]\n",
      "Third <astype>: [3 4 1 3 2 5 2 4 9 4]\n"
     ]
    }
   ],
   "source": [
    "# Extrahieren Sie den Integer-Anteil eine Arrays von zufälliger Zahlen zwischen 0-10 auf 3 verschiedene Arten.\n",
    "vec_m = 10*np.random.sample(10)\n",
    "print(vec_m)\n",
    "print('Frist <floor>:',np.floor(vec_m))\n",
    "import math\n",
    "vec_float, vec_int = np.modf(vec_m);\n",
    "print('Second <math.modf>:', vec_int) \n",
    "print('Third <astype>:',vec_m.astype(int))"
   ]
  },
  {
   "cell_type": "markdown",
   "metadata": {},
   "source": [
    "<p style=\"margin-left:2em\">n) (**) Erzeugen Sie eine Matrix M der Größe 4x3 und einen Vektor v mit Länge 3. Multiplizieren Sie jeden Spalteneintrag aus mit der kompletten Spalte aus M. Nutzen Sie dafür Broadcasting.</p>"
   ]
  },
  {
   "cell_type": "code",
   "execution_count": 17,
   "metadata": {},
   "outputs": [],
   "source": [
    "# Erzeugen Sie eine Matrix $M$ der Größe 4x3 und einen Vektor $v$ mit Länge 3. Multiplizieren Sie jeden Spalteneintrag aus $v$ mit der kompletten Spalte aus $M$. Nutzen Sie dafür Broadcasting.\n",
    "# YOUR CODE HERE"
   ]
  },
  {
   "cell_type": "markdown",
   "metadata": {},
   "source": [
    "<p style=\"margin-left:2em\">o) (***) Erzeugen Sie einen Zufallsmatrix der Größe 10x2, die Sie als Kartesische Koordinateninterpretieren können ([[x0, y0],[x1, y1],[x2, y2]]). Konvertieren Sie diese in Polarkoordinaten <a href=\"https://de.wikipedia.org/wiki/Polarkoordinaten\">https://de.wikipedia.org/wiki/Polarkoordinaten</a>.</p>"
   ]
  },
  {
   "cell_type": "code",
   "execution_count": 18,
   "metadata": {},
   "outputs": [],
   "source": [
    "# Erzeugen Sie einen Zufallsmatrix der Größe 10x2, die Sie als Kartesische Koordinaten interpretieren können ([[x0, y0],[x1, y1],[x2, y2]]).\n",
    "# Konvertieren Sie diese in Polarkoordinaten \\url{https://de.wikipedia.org/wiki/Polarkoordinaten}.\n",
    "# Hinweis: nutzen Sie fuer die Berechnung des Winkel np.arctan2 und geben Sie jeweils Radius und Winkel als Vektor aus\n",
    "# YOUR CODE HERE"
   ]
  },
  {
   "cell_type": "markdown",
   "metadata": {},
   "source": [
    "<p style=\"margin-left:2em\">p) (***) Erzeugen Sie einen Matrix der Größe 6x2, die Sie als Kartesische Koordinaten interpretieren können ([[x0, y0],[x1, y1],[x2, y2]]). Schreiben Sie eine Funktion, die alle Punkt-Punkt Abstände berechnet und in einer 6x6 Matrix ausgibt.</p>"
   ]
  },
  {
   "cell_type": "code",
   "execution_count": 19,
   "metadata": {},
   "outputs": [],
   "source": [
    "# Erzeugen Sie einen Matrix der Größe 6x2, die Sie als Kartesische Koordinaten interpretieren können ([[x0, y0],[x1, y1],[x2, y2]]).\n",
    "# Schreiben Sie eine Funktion, die alle Punkt-Punkt Abstände berechnet.\n",
    "# YOUR CODE HERE"
   ]
  }
 ],
 "metadata": {
  "kernelspec": {
   "display_name": "Python 3",
   "language": "python",
   "name": "python3"
  },
  "language_info": {
   "codemirror_mode": {
    "name": "ipython",
    "version": 3
   },
   "file_extension": ".py",
   "mimetype": "text/x-python",
   "name": "python",
   "nbconvert_exporter": "python",
   "pygments_lexer": "ipython3",
   "version": "3.7.4"
  }
 },
 "nbformat": 4,
 "nbformat_minor": 2
}
