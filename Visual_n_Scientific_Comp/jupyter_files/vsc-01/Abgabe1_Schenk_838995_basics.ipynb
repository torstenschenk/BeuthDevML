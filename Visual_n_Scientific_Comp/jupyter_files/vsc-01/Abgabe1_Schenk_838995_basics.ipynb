{
 "cells": [
  {
   "cell_type": "markdown",
   "metadata": {},
   "source": [
    "<h1 style=\"font-size:2.5em;text-align:center\">Visual and Scientific Computing</h1>\n",
    "<h2 style=\"text-align:center\">Basics</h2>\n",
    "<h3 style=\"text-align:center\">WiSe 2019/20</h3>\n",
    "<p style=\"text-align:justify\">Das Lernziel dieser Übungsaufgabe ist mit der Programmiersprache Python und der Bibliothek Numpy vertraut zu werden, um diese dann als Werkzeug in den weiteren Übungen einzusetzen. Machen Sie sich deshalb bitte so gut es geht damit vertraut und nutzen Sie dafür auch bitte Online-Resourcen wie <a href=\"https://docs.scipy.org/doc/numpy-1.13.0/reference/\">https://docs.scipy.org/doc/numpy-1.13.0/reference/</a> und <a href=\"https://docs.python.org/3/\">https://docs.python.org/3/</a>.</p>"
   ]
  },
  {
   "cell_type": "markdown",
   "metadata": {},
   "source": [
    "## Aufgabe 1: Python Einführung (5 Punkte)\n",
    "\n",
    "<ol style=\"list-style: lower-alpha\"><li>Um sich mit der Programmiersprache Python vertraut zu machen, implementieren Sie einen einfachen Bubblesort-Algorithmus. Eine beispielhafte Eingabe und Ausgabe könnte so aussehen:</li></ol>\n",
    "<pre>Eingabe: [ 5 14 10  7  2 13  1 12  6  9  0  3  8 11  4]\n",
    "Ausgabe: [ 0  1  2  3  4  5  6  7  8  9 10 11 12 13 14]</pre>"
   ]
  },
  {
   "cell_type": "code",
   "execution_count": 39,
   "metadata": {
    "collapsed": true
   },
   "outputs": [],
   "source": [
    "def bubblesort(liste:list) -> (list):\n",
    "    \"\"\"\n",
    "    Implements Bubblesort using an list as input and\n",
    "    returning a sorted list\n",
    "\n",
    "    :param list\n",
    "    :return: list\n",
    "    \"\"\"\n",
    "    # liste.sort()\n",
    "    # print('Easy peasy way:', liste)\n",
    "    \n",
    "    # test arange\n",
    "    #print(len(liste))\n",
    "    #x = np.arange(len(liste),-1,-1)\n",
    "    #print(x)\n",
    "    \n",
    "    # TODO: Implement Bubblesort\n",
    "    for backIdx in range(len(liste),-1,-1):\n",
    "        for frontIdx in range(1,backIdx):\n",
    "            #print('frontIdx:',frontIdx, 'backIdx:',backIdx)\n",
    "            #print('frontIdx-1:',frontIdx-1, 'elem:',liste[frontIdx-1], 'frontIdx:',frontIdx, 'elem:',liste[frontIdx])\n",
    "            if (liste[frontIdx-1] > liste[frontIdx]):\n",
    "                tmp = liste[frontIdx-1]\n",
    "                liste[frontIdx-1] = liste[frontIdx]\n",
    "                liste[frontIdx] = tmp\n",
    "                #print('is bigger') \n",
    "                \n",
    "    return liste"
   ]
  },
  {
   "cell_type": "code",
   "execution_count": 40,
   "metadata": {},
   "outputs": [
    {
     "name": "stdout",
     "output_type": "stream",
     "text": [
      "Self made bubble sort: [13, 15, 18, 22, 31, 36, 52, 61, 65, 86]\n"
     ]
    }
   ],
   "source": [
    "sorted_list = bubblesort([52, 18, 65, 61, 31, 86, 36, 15, 22, 13])\n",
    "\n",
    "print('Self made bubble sort:',sorted_list)"
   ]
  },
  {
   "cell_type": "markdown",
   "metadata": {},
   "source": [
    "## Aufgabe 2: Numpy Einführung (5 Punkte)\n",
    "\n",
    "<p style=\"margin-left:2em\">Die Bibliothek <em>Numpy</em> ist sehr umfangreich und wir werden auch nicht jede Funktionalität brauchen, aber es ist wichtig mit den grundlegenden Datenstrukturen vertraut zu sein. Ich habe hier eine Liste von kleinen Aufgaben zusammengestellt, die Sie in der Datei <em>numpy_basic.py</em> beantworten sollen. <strong>Suchen Sie sich insgesamt 14 (von 23) Sterne zusammen und implementieren Sie diese</strong>. Das ist häufig ein Einzeiler oder Zweizeiler. Die Musterlösung benötigt in jeder Teilaufgabe maximal drei Zeilen. Es muss aber nicht krampfhaft versucht werden diese Vorgabe zu erreichen, dies soll nur ein Hinweis darauf sein, dass Sie keinen langen Code schreiben müssen. Lesen Sie sich selbstständig in die Dokumentation ein und versuchen Sie die Fragen mit den notwendigen Numpy-Funktionen zu beantworten. Sollten Sie keine Funktion finden, implementieren Sie eine Lösung selbst in einer kleinen Funktion. Sie können auch im Kursforum nach Hilfe suchen. <strong>Bitten geben Sie die Lösung jeweils auf der Konsole aus (mittels print)</strong>. Hinweis: die print Anweisung zählt nicht zu dem Einzeiler oder Zweizeiler, wenn im Hinweis also steht <i>geht in einer Zeile</i> muss in dieser nicht auch noch die print Anweisung kommen.</p>"
   ]
  },
  {
   "cell_type": "code",
   "execution_count": 41,
   "metadata": {
    "collapsed": true
   },
   "outputs": [],
   "source": [
    "import numpy as np"
   ]
  },
  {
   "cell_type": "markdown",
   "metadata": {},
   "source": [
    "<p style=\"margin-left:2em\">a) (*) Erzeugen Sie einen Vektor a mit Nullen der Länge 10 (10 Elemente) und setzen den Wert des 5. Elementes auf eine 1.</p>"
   ]
  },
  {
   "cell_type": "code",
   "execution_count": 42,
   "metadata": {},
   "outputs": [
    {
     "name": "stdout",
     "output_type": "stream",
     "text": [
      "Print vec_a: [ 0.  0.  0.  0.  0.  1.  0.  0.  0.  0.]\n",
      "Has only one dim: (10,)\n"
     ]
    }
   ],
   "source": [
    "# Erzeugen Sie einen Vektor mit Nullen der Länge 10 und setzen den Wert des 5. Elementes auf eine 1.\n",
    "vec_a = np.zeros(10)\n",
    "vec_a[5] = 1\n",
    "print('Print vec_a:',vec_a)\n",
    "print('Has only one dim:',vec_a.shape)"
   ]
  },
  {
   "cell_type": "markdown",
   "metadata": {},
   "source": [
    "<p style=\"margin-left:2em\">b) (*) Erzeugen Sie einen Vektor b mit Ganzahl-Werten von 10 bis 49 (geht in einer Zeile).</p>"
   ]
  },
  {
   "cell_type": "code",
   "execution_count": 43,
   "metadata": {},
   "outputs": [
    {
     "name": "stdout",
     "output_type": "stream",
     "text": [
      "Arange vec_b: [10 11 12 13 14 15 16 17 18 19 20 21 22 23 24 25 26 27 28 29 30 31 32 33 34\n",
      " 35 36 37 38 39 40 41 42 43 44 45 46 47 48 49]\n"
     ]
    },
    {
     "data": {
      "text/plain": [
       "dtype('int64')"
      ]
     },
     "execution_count": 43,
     "metadata": {},
     "output_type": "execute_result"
    }
   ],
   "source": [
    "# Erzeugen Sie einen Vektor mit Ganzzahl-Werten von 10 bis 49 (geht in einer Zeile).\n",
    "\n",
    "vec_b = np.arange(10,49+1)\n",
    "print('Arange vec_b:',vec_b)\n",
    "vec_b.dtype\n",
    "\n",
    "# das hier wird float64\n",
    "#vec_b = np.linspace(10,49,40)\n",
    "#print('Linspace vec_b:',vec_b)\n",
    "#vec_b.dtype"
   ]
  },
  {
   "cell_type": "markdown",
   "metadata": {},
   "source": [
    "<p style=\"margin-left:2em\">c) (*) Erzeugen Sie einen Vektor mit 8 Einträgen zwischen -1 und 1 bei dem alle Werte die gleichen Abstände habe und sowohl -1 als auch 1 enthalten sind (geht in einer Zeile).</p>"
   ]
  },
  {
   "cell_type": "code",
   "execution_count": 44,
   "metadata": {},
   "outputs": [
    {
     "name": "stdout",
     "output_type": "stream",
     "text": [
      "vec_c: [-1.         -0.71428571 -0.42857143 -0.14285714  0.14285714  0.42857143\n",
      "  0.71428571  1.        ]\n"
     ]
    }
   ],
   "source": [
    "# Erzeugen Sie einen Vektor mit 8 Einträgen zwischen -1 und 1 bei dem alle Werte die gleichen Abstände habe und sowohl -1 als auch 1 enthalten sind (geht in einer Zeile). Hinweis: guckt euch den Unterschied zwischen numpy.arange und numpy.linspace welche Funktion passt besser?.\n",
    "vec_c = np.linspace(-1., 1., 8)\n",
    "print('vec_c:',vec_c)"
   ]
  },
  {
   "cell_type": "markdown",
   "metadata": {},
   "source": [
    "<p style=\"margin-left:2em\">d) (*) Geben Sie nur das Stück (slice) von Vektor b) aus, das die Zahlen 21 bis 38 (Stellen 11 bis 28) beinhaltet (geht in einer Zeile).</p>"
   ]
  },
  {
   "cell_type": "code",
   "execution_count": 45,
   "metadata": {},
   "outputs": [
    {
     "name": "stdout",
     "output_type": "stream",
     "text": [
      "[21 22 23 24 25 26 27 28 29 30 31 32 33 34 35 36 37 38]\n"
     ]
    }
   ],
   "source": [
    "# Geben Sie nur das Stück (slice) von Vektor b) aus, das die Zahlen 21 bis 38 (Stellen 11 bis 28) beinhaltet (geht in einer Zeile).\n",
    "vec_d = vec_b[11:28+1]\n",
    "print(vec_d)"
   ]
  },
  {
   "cell_type": "markdown",
   "metadata": {},
   "source": [
    "<p style=\"margin-left:2em\">e) (*) Ändern Sie den Vektor b) indem sie das Stück (slice) von Stelle 15 bis <strong>einschließlich</strong> Stelle 25 mit den Werten negierten Werten von Stelle 1 bis <strong>einschließlich</strong> Stelle 11 überschreiben (geht in einer Zeile).</p>"
   ]
  },
  {
   "cell_type": "code",
   "execution_count": 46,
   "metadata": {},
   "outputs": [
    {
     "name": "stdout",
     "output_type": "stream",
     "text": [
      "[ 10  11  12  13  14  15  16  17  18  19  20  21  22  23  24 -11 -12 -13\n",
      " -14 -15 -16 -17 -18 -19 -20 -21  36  37  38  39  40  41  42  43  44  45\n",
      "  46  47  48  49]\n"
     ]
    }
   ],
   "source": [
    "# Ändern Sie den Vektor b) indem sie das Stück (slice) von Stelle 15 bis einschließlich Stelle 25 mit den Werten negierten Werten von Stelle 1 bis einschließlich Stelle 11 überschreiben (geht in einer Zeile).\n",
    "vec_b[15:25+1] = - vec_b[1:11+1]\n",
    "print(vec_b)"
   ]
  },
  {
   "cell_type": "markdown",
   "metadata": {},
   "source": [
    "<p style=\"margin-left:2em\">f) (*) Drehen Sie die Werte des Vektors aus b) oder a) um (geht in einer Zeile).</p>"
   ]
  },
  {
   "cell_type": "code",
   "execution_count": 47,
   "metadata": {},
   "outputs": [
    {
     "name": "stdout",
     "output_type": "stream",
     "text": [
      "vec_b inverse: [ 49  48  47  46  45  44  43  42  41  40  39  38  37  36 -21 -20 -19 -18\n",
      " -17 -16 -15 -14 -13 -12 -11  24  23  22  21  20  19  18  17  16  15  14\n",
      "  13  12  11  10]\n"
     ]
    },
    {
     "data": {
      "text/plain": [
       "(40,)"
      ]
     },
     "execution_count": 47,
     "metadata": {},
     "output_type": "execute_result"
    }
   ],
   "source": [
    "# Drehen Sie die Werte des Vektors aus a) oder b) um (geht in einer Zeile).\n",
    "vec_f = np.flip(vec_b, axis=0)\n",
    "print('vec_b inverse:',vec_f)\n",
    "#vec_f = np.flip(vec_a, axis=0)\n",
    "#print('vec_a inverse:',vec_f)\n",
    "vec_f.shape"
   ]
  },
  {
   "cell_type": "markdown",
   "metadata": {},
   "source": [
    "<p style=\"margin-left:2em\">g) (*) Summieren Sie alle Werte in einem Array (geht in einer Zeile).</p>"
   ]
  },
  {
   "cell_type": "code",
   "execution_count": 48,
   "metadata": {},
   "outputs": [
    {
     "name": "stdout",
     "output_type": "stream",
     "text": [
      "Sum vec_b: 674\n"
     ]
    }
   ],
   "source": [
    "# Summieren Sie alle Werte in einem Array.\n",
    "val_g = np.sum(vec_b)\n",
    "print('Sum vec_b:',val_g)"
   ]
  },
  {
   "cell_type": "markdown",
   "metadata": {},
   "source": [
    "<p style=\"margin-left:2em\">h) (*) Erzeugen Sie eine 4x4 Matrix mit den Werte 0 (links oben) bis 15 (rechts unten) (geht in einer Zeile).</p>"
   ]
  },
  {
   "cell_type": "code",
   "execution_count": 49,
   "metadata": {},
   "outputs": [
    {
     "name": "stdout",
     "output_type": "stream",
     "text": [
      "Reshaped vector:\n",
      " [[ 0  1  2  3]\n",
      " [ 4  5  6  7]\n",
      " [ 8  9 10 11]\n",
      " [12 13 14 15]]\n",
      "Shape dim: (4, 4)\n"
     ]
    }
   ],
   "source": [
    "# Erzeugen Sie eine 4x4 Matrix mit den Werte 0 (links oben) bis 15 (rechts unten) (geht in einer Zeile). Tip: Schauen Sie sich numpy.reshape an\n",
    "mat_h = np.arange(0,16).reshape(4,4)\n",
    "print('Reshaped vector:\\n',mat_h)\n",
    "print('Shape dim:',mat_h.shape)"
   ]
  },
  {
   "cell_type": "markdown",
   "metadata": {},
   "source": [
    "<p style=\"margin-left:2em\">i) (*) Erzeugen Sie eine 5x3 Matrix mit Zufallswerteintegers zwischen 0-100 (geht in einer Zeile).</p>"
   ]
  },
  {
   "cell_type": "code",
   "execution_count": 50,
   "metadata": {},
   "outputs": [
    {
     "name": "stdout",
     "output_type": "stream",
     "text": [
      "mat_i shape: (5, 3)\n",
      "[[36 79 65]\n",
      " [20  9 28]\n",
      " [92 18 91]\n",
      " [93 20 33]\n",
      " [90 62 72]]\n"
     ]
    }
   ],
   "source": [
    "# Erzeugen Sie eine 5x3 Matrix mit Zufallswerteintegers zwischen 0-100 (geht in einer Zeile).\n",
    "mat_i = np.random.randint(low=0, high=100+1, size=3*5).reshape(5,3)\n",
    "print('mat_i shape:',mat_i.shape)\n",
    "print(mat_i)"
   ]
  },
  {
   "cell_type": "markdown",
   "metadata": {},
   "source": [
    "<p style=\"margin-left:2em\">j) (*) Multiplizieren Sie eine 4x3 Matrix mit einer 3x2 Matrix (geht zwar in einer Zeile, aber benutzen Sie lieber Hilfsvariablen und drei Zeilen).</p>"
   ]
  },
  {
   "cell_type": "code",
   "execution_count": 51,
   "metadata": {},
   "outputs": [
    {
     "name": "stdout",
     "output_type": "stream",
     "text": [
      "ndarray casted to matrix works with *:\n",
      " [[10227  6438]\n",
      " [14872  7818]\n",
      " [10405  7257]\n",
      " [12382  6588]]\n",
      "Or via @:\n",
      " [[10227  6438]\n",
      " [14872  7818]\n",
      " [10405  7257]\n",
      " [12382  6588]]\n"
     ]
    }
   ],
   "source": [
    "# Multiplizieren Sie eine 4x3 Matrix mit einer 3x2 Matrix (geht zwar in einer Zeile, aber benutzen Sie lieber Hilfsvariablen und drei Zeilen).\n",
    "mat_0 = np.random.randint(low=0, high=100+1, size=4*3).reshape(4,3)\n",
    "# print(mat_0.shape)\n",
    "mat_1 = np.random.randint(low=0, high=100+1, size=3*2).reshape(3,2)\n",
    "# print(mat_1.shape)\n",
    "# not working: # mat_j = mat_0 * mat_1\n",
    "# print(type(mat_0)) # <class 'numpy.ndarray'>\n",
    "\n",
    "mat_j = np.mat(mat_0) * np.mat(mat_1)\n",
    "# print(mat_j.shape) \n",
    "# print(type(mat_j)) # <class 'numpy.matrix'>\n",
    "print('ndarray casted to matrix works with *:\\n',mat_j)\n",
    "# oder\n",
    "mat_j = mat_0 @ mat_1\n",
    "print('Or via @:\\n',mat_j)\n",
    "\n",
    "# ndarray dot proct test\n",
    "#A = np.random.random((4,5))\n",
    "#B = np.random.random((5,3))\n",
    "#C = A.dot(B)\n",
    "#print (C)\n",
    "#type(A)"
   ]
  },
  {
   "cell_type": "markdown",
   "metadata": {},
   "source": [
    "<p style=\"margin-left:2em\">k) (*) Erzeugen Sie eine 5x5 Matrix und geben Sie jeweils die geraden und die ungeraden Zeile aus (geht jeweils in einer Zeile).</p>"
   ]
  },
  {
   "cell_type": "code",
   "execution_count": 52,
   "metadata": {},
   "outputs": [
    {
     "name": "stdout",
     "output_type": "stream",
     "text": [
      "mat_k full:\n",
      " [[91 53 65 26 27]\n",
      " [52 69 66  2 97]\n",
      " [17 79 41 22  4]\n",
      " [59 25 87 67 91]\n",
      " [ 3 77 86  2 20]]\n",
      "Gerade Zeilen 0,2,4:\n",
      " [[91 53 65 26 27]\n",
      " [17 79 41 22  4]\n",
      " [ 3 77 86  2 20]]\n",
      "Ungerade Zeilen 1,3:\n",
      " [[52 69 66  2 97]\n",
      " [59 25 87 67 91]]\n"
     ]
    }
   ],
   "source": [
    "# Erzeugen Sie eine 5x5 Matrix und geben Sie jeweils die geraden und die ungeraden Zeile aus (geht jeweils in einer Zeile).\n",
    "mat_k = np.mat(np.random.randint(low=0, high=100+1, size=5*5).reshape(5,5))\n",
    "print('mat_k full:\\n',mat_k)\n",
    "print('Gerade Zeilen 0,2,4:\\n',mat_k[::2])\n",
    "print('Ungerade Zeilen 1,3:\\n',mat_k[1::2])\n"
   ]
  },
  {
   "cell_type": "markdown",
   "metadata": {},
   "source": [
    "<p style=\"margin-left:2em\">l) (**) Erzeuge eine 5x5 Matrix mit Zufallswerteintegers zwischen 0-100 und finde deren Maximum und Minimum und normalisieren Sie die Werte (sodass alle Werte zwischen 0 und 1 liegen - ein Wert wird 1 (max) sein und einer 0 (min)).</p>"
   ]
  },
  {
   "cell_type": "code",
   "execution_count": 53,
   "metadata": {},
   "outputs": [
    {
     "name": "stdout",
     "output_type": "stream",
     "text": [
      "Normalized matrix:\n",
      " [[ 0.15625     0.03125     0.91666667  0.8125      0.35416667]\n",
      " [ 0.52083333  0.80208333  0.83333333  0.10416667  0.88541667]\n",
      " [ 0.5625      1.          0.54166667  0.36458333  0.02083333]\n",
      " [ 0.98958333  0.375       0.5625      0.28125     0.67708333]\n",
      " [ 0.97916667  0.          0.45833333  0.88541667  0.6875    ]]\n"
     ]
    }
   ],
   "source": [
    "# Erzeuge eine 5x5 Matrix mit Zufallsintegers zwischen 0-100 und finde deren Maximum und Minimum und normalisieren Sie die Werte (sodass alle Werte zwischen 0 und 1 liegen - ein Wert wird 1 (max) sein und einer 0 (min)).\n",
    "# Hinweis: D.h. Sie muessen die Werte normalisieren (R - R_min) / (R_max - R_min)\n",
    "mat_l = np.mat(np.random.randint(low=0, high=100+1, size=5*5).reshape(5,5))\n",
    "# print(mat_l)\n",
    "max = mat_l.max()\n",
    "min = mat_l.min()\n",
    "diff = max - min\n",
    "# print(diff)\n",
    "mat_l = (mat_l - min)/diff\n",
    "print('Normalized matrix:\\n',mat_l)"
   ]
  },
  {
   "cell_type": "markdown",
   "metadata": {},
   "source": [
    "<p style=\"margin-left:2em\">m) (**) Extrahieren Sie den Integer-Anteil eine Arrays von zufälliger Zahlen zwischen 0-10 auf 3 verschiedene Arten.</p>"
   ]
  },
  {
   "cell_type": "code",
   "execution_count": 54,
   "metadata": {},
   "outputs": [
    {
     "name": "stdout",
     "output_type": "stream",
     "text": [
      "Frist <floor>: [ 5.  1.  3.  1.  3.  2.  7.  0.  7.  9.]\n",
      "Second <math.modf>: [ 5.  1.  3.  1.  3.  2.  7.  0.  7.  9.]\n",
      "Third <astype>: [5 1 3 1 3 2 7 0 7 9]\n"
     ]
    }
   ],
   "source": [
    "# Extrahieren Sie den Integer-Anteil eine Arrays von zufälliger Zahlen zwischen 0-10 auf 3 verschiedene Arten.\n",
    "vec_m = 10*np.random.sample(10)\n",
    "#print(vec_m)\n",
    "print('Frist <floor>:',np.floor(vec_m))\n",
    "import math\n",
    "vec_float, vec_int = np.modf(vec_m);\n",
    "print('Second <math.modf>:', vec_int) \n",
    "print('Third <astype>:',vec_m.astype(int))"
   ]
  },
  {
   "cell_type": "markdown",
   "metadata": {},
   "source": [
    "<p style=\"margin-left:2em\">n) (**) Erzeugen Sie eine Matrix M der Größe 4x3 und einen Vektor v mit Länge 3. Multiplizieren Sie jeden Spalteneintrag aus mit der kompletten Spalte aus M. Nutzen Sie dafür Broadcasting.</p>"
   ]
  },
  {
   "cell_type": "code",
   "execution_count": 55,
   "metadata": {},
   "outputs": [
    {
     "name": "stdout",
     "output_type": "stream",
     "text": [
      "[[-9  0 -9]\n",
      " [-7  0 -1]\n",
      " [-1  0 -7]\n",
      " [-8  0  0]]\n"
     ]
    }
   ],
   "source": [
    "# Erzeugen Sie eine Matrix $M$ der Größe 4x3 und einen Vektor $v$ mit Länge 3. Multiplizieren Sie jeden Spalteneintrag aus $v$ mit der kompletten Spalte aus $M$. Nutzen Sie dafür Broadcasting.\n",
    "vec_n = np.random.randint(low=0, high=10+1, size=4*3).reshape(4,3)\n",
    "vec_3 = np.array([-1,0,-1])\n",
    "# print(vec_3.shape)\n",
    "vec_mult = vec_n * vec_3\n",
    "print(vec_mult)"
   ]
  },
  {
   "cell_type": "markdown",
   "metadata": {},
   "source": [
    "<p style=\"margin-left:2em\">o) (3*) Erzeugen Sie einen Zufallsmatrix der Größe 10x2, die Sie als Kartesische Koordinateninterpretieren können ([[x0, y0],[x1, y1],[x2, y2]]). Konvertieren Sie diese in Polarkoordinaten <a href=\"https://de.wikipedia.org/wiki/Polarkoordinaten\">https://de.wikipedia.org/wiki/Polarkoordinaten</a>.</p>"
   ]
  },
  {
   "cell_type": "code",
   "execution_count": 56,
   "metadata": {},
   "outputs": [
    {
     "name": "stdout",
     "output_type": "stream",
     "text": [
      "Input x,y values:\n",
      " [[-7 -4]\n",
      " [-2 -1]\n",
      " [-7  6]\n",
      " [10  9]\n",
      " [10  2]\n",
      " [-9  6]\n",
      " [-7  1]\n",
      " [ 6 10]\n",
      " [-2  8]\n",
      " [-1 -8]]\n",
      "Output polar coords in [angle,radius]:\n",
      " [[ -2.08994244   8.06225775]\n",
      " [ -2.03444394   2.23606798]\n",
      " [ -0.86217005   9.21954446]\n",
      " [  0.83798123  13.45362405]\n",
      " [  1.37340077  10.19803903]\n",
      " [ -0.98279372  10.81665383]\n",
      " [ -1.42889927   7.07106781]\n",
      " [  0.5404195   11.66190379]\n",
      " [ -0.24497866   8.24621125]\n",
      " [ -3.01723766   8.06225775]]\n"
     ]
    }
   ],
   "source": [
    "# (***) Erzeugen Sie einen Zufallsmatrix der Größe 10x2, die Sie als Kartesische Koordinaten interpretieren können ([[x0, y0],[x1, y1],[x2, y2]]).\n",
    "# Konvertieren Sie diese in Polarkoordinaten \\url{https://de.wikipedia.org/wiki/Polarkoordinaten}.\n",
    "# Hinweis: nutzen Sie fuer die Berechnung des Winkel np.arctan2 und geben Sie jeweils Radius und Winkel als Vektor aus\n",
    "vec_o = np.random.randint(low=-10, high=10+1, size=10*2).reshape(10,2)\n",
    "print('Input x,y values:\\n',vec_o)\n",
    "vec_angle = np.arctan2(vec_o[:,0],vec_o[:,1])\n",
    "vec_radius = np.linalg.norm(vec_o,axis=1)\n",
    "# concatenate 2 numpy arrays: column-wise\n",
    "mat_polar = np.column_stack((vec_angle,vec_radius))\n",
    "print('Output polar coords in [angle,radius]:\\n',mat_polar)"
   ]
  },
  {
   "cell_type": "markdown",
   "metadata": {},
   "source": [
    "<p style=\"margin-left:2em\">p) (3*) Erzeugen Sie einen Matrix der Größe 6x2, die Sie als Kartesische Koordinaten interpretieren können ([[x0, y0],[x1, y1],[x2, y2]]). Schreiben Sie eine Funktion, die alle Punkt-Punkt Abstände berechnet und in einer 6x6 Matrix ausgibt.</p>"
   ]
  },
  {
   "cell_type": "code",
   "execution_count": 57,
   "metadata": {},
   "outputs": [
    {
     "name": "stdout",
     "output_type": "stream",
     "text": [
      "Input point [x,y]:\n",
      " [[ -3   1]\n",
      " [ -8  -7]\n",
      " [ -5   9]\n",
      " [  3 -10]\n",
      " [ -2   7]\n",
      " [  5  10]]\n",
      "Output distances:\n",
      " [[  0.           9.43398113   8.24621125  12.52996409   6.08276253\n",
      "   12.04159458]\n",
      " [  9.43398113   0.          16.2788206   11.40175425  15.23154621\n",
      "   21.40093456]\n",
      " [  8.24621125  16.2788206    0.          20.61552813   3.60555128\n",
      "   10.04987562]\n",
      " [ 12.52996409  11.40175425  20.61552813   0.          17.72004515\n",
      "   20.09975124]\n",
      " [  6.08276253  15.23154621   3.60555128  17.72004515   0.           7.61577311]\n",
      " [ 12.04159458  21.40093456  10.04987562  20.09975124   7.61577311   0.        ]]\n"
     ]
    }
   ],
   "source": [
    "# (***) Erzeugen Sie einen Matrix der Größe 6x2, die Sie als Kartesische Koordinaten interpretieren können ([[x0, y0],[x1, y1],[x2, y2]]).\n",
    "# Schreiben Sie eine Funktion, die alle Punkt-Punkt Abstände berechnet.\n",
    "\n",
    "#a = np.random.randint(6, size=(5, 2))\n",
    "\n",
    "def distP(points):\n",
    "    mat_out = np.zeros(shape=(6,6))\n",
    "    #r,c = points.shape\n",
    "    for n in range(len(points)):\n",
    "        for m in range(len(points)):\n",
    "            mat_out[n,m] = np.linalg.norm(points[n]-points[m])\n",
    "            \n",
    "    return mat_out\n",
    "\n",
    "    \n",
    "vec_p = np.random.randint(low=-10, high=10+1, size=6*2).reshape(6,2)\n",
    "print('Input point [x,y]:\\n',vec_p)\n",
    "out = distP(vec_p)\n",
    "print('Output distances:\\n',out)"
   ]
  },
  {
   "cell_type": "code",
   "execution_count": null,
   "metadata": {
    "collapsed": true
   },
   "outputs": [],
   "source": []
  }
 ],
 "metadata": {
  "kernelspec": {
   "display_name": "Python 3",
   "language": "python",
   "name": "python3"
  },
  "language_info": {
   "codemirror_mode": {
    "name": "ipython",
    "version": 3
   },
   "file_extension": ".py",
   "mimetype": "text/x-python",
   "name": "python",
   "nbconvert_exporter": "python",
   "pygments_lexer": "ipython3",
   "version": "3.6.3"
  }
 },
 "nbformat": 4,
 "nbformat_minor": 2
}
