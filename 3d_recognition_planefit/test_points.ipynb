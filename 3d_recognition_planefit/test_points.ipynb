{
 "cells": [
  {
   "cell_type": "code",
   "execution_count": 1,
   "metadata": {},
   "outputs": [],
   "source": [
    "import numpy as np\n",
    "import math"
   ]
  },
  {
   "cell_type": "code",
   "execution_count": 2,
   "metadata": {},
   "outputs": [
    {
     "name": "stdout",
     "output_type": "stream",
     "text": [
      "Rx: [[ 1.         0.         0.       ]\n",
      " [ 0.         0.8660254 -0.5      ]\n",
      " [ 0.         0.5        0.8660254]]\n",
      "Ry: [[ 0.93969262  0.          0.34202014]\n",
      " [ 0.          1.          0.        ]\n",
      " [-0.34202014  0.          0.93969262]]\n",
      "Rz: [[ 0.98480775 -0.17364818  0.        ]\n",
      " [ 0.17364818  0.98480775  0.        ]\n",
      " [ 0.          0.          1.        ]]\n"
     ]
    }
   ],
   "source": [
    "thetaX = math.radians(30.0)\n",
    "thetaY = math.radians(20.0)\n",
    "thetaZ = math.radians(10.0)\n",
    "\n",
    "Rx = np.matrix([[1,0,0],[0,math.cos(thetaX),-math.sin(thetaX)],[0,math.sin(thetaX),math.cos(thetaX)]])\n",
    "print('Rx:',Rx)\n",
    "Ry = np.matrix([[math.cos(thetaY),0,math.sin(thetaY)],[0,1,0],[-math.sin(thetaY),0,math.cos(thetaY)]])\n",
    "print('Ry:',Ry)\n",
    "Rz = np.matrix([[math.cos(thetaZ),-math.sin(thetaZ),0],[math.sin(thetaZ),math.cos(thetaZ),0],[0,0,1]])\n",
    "print('Rz:',Rz)"
   ]
  },
  {
   "cell_type": "code",
   "execution_count": 3,
   "metadata": {},
   "outputs": [
    {
     "name": "stdout",
     "output_type": "stream",
     "text": [
      "[[ 0.98480775 -0.17364818  0.        ]\n",
      " [ 0.15038373  0.85286853 -0.5       ]\n",
      " [ 0.08682409  0.49240388  0.8660254 ]]\n",
      "(3, 1)\n",
      "[[-0.17364818]\n",
      " [ 0.85286853]\n",
      " [ 0.49240388]]\n"
     ]
    }
   ],
   "source": [
    "k = Rx*Rz\n",
    "print(k)\n",
    "p = np.matrix([[0],[1],[0]])\n",
    "print(p.shape)\n",
    "pneu = k*p\n",
    "print(pneu)"
   ]
  },
  {
   "cell_type": "code",
   "execution_count": 4,
   "metadata": {},
   "outputs": [
    {
     "name": "stdout",
     "output_type": "stream",
     "text": [
      "[[0.       ]\n",
      " [0.8660254]\n",
      " [0.5      ]]\n",
      "[[-0.15038373]\n",
      " [ 0.85286853]\n",
      " [ 0.5       ]]\n"
     ]
    }
   ],
   "source": [
    "k = Rx\n",
    "p = np.matrix([[0],[1],[0]])\n",
    "pneu = k*p\n",
    "print(pneu)\n",
    "\n",
    "k = Rz*Rx\n",
    "p = np.matrix([[0],[1],[0]])\n",
    "pneu = k*p\n",
    "print(pneu)\n"
   ]
  },
  {
   "cell_type": "code",
   "execution_count": null,
   "metadata": {},
   "outputs": [],
   "source": []
  }
 ],
 "metadata": {
  "kernelspec": {
   "display_name": "Python 3",
   "language": "python",
   "name": "python3"
  },
  "language_info": {
   "codemirror_mode": {
    "name": "ipython",
    "version": 3
   },
   "file_extension": ".py",
   "mimetype": "text/x-python",
   "name": "python",
   "nbconvert_exporter": "python",
   "pygments_lexer": "ipython3",
   "version": "3.7.5"
  }
 },
 "nbformat": 4,
 "nbformat_minor": 2
}
