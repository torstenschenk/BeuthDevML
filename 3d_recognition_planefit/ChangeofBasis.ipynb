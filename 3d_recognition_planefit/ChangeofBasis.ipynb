{
 "cells": [
  {
   "cell_type": "code",
   "execution_count": 1,
   "metadata": {},
   "outputs": [],
   "source": [
    "import numpy as np\n",
    "\n",
    "# show plot first run\n",
    "#%matplotlib inline \n",
    "# test autocompletion with tab or tab+shift\n",
    "%config IPCompleter.greedy=True "
   ]
  },
  {
   "cell_type": "code",
   "execution_count": 2,
   "metadata": {},
   "outputs": [],
   "source": [
    "# o: coordinates of 'o' in world coord system\n",
    "o = np.array([2.0, 2.0, 0.0])\n",
    "# coordinates of u,v in local coordinates\n",
    "u = np.array([4.0,3.0,0.0]) # x\n",
    "v = np.array([1.0,4.0,0.0]) # y"
   ]
  },
  {
   "cell_type": "code",
   "execution_count": 3,
   "metadata": {},
   "outputs": [],
   "source": [
    "e1 = (u - o) / np.linalg.norm(u-o) # x\n",
    "e2 = (v - o) / np.linalg.norm(v-o) # y\n",
    "e3 = np.cross(e1,e2) # z\n",
    "#e1 = (u ) / np.linalg.norm(u) # x\n",
    "#e2 = (v) / np.linalg.norm(v) # y\n",
    "#e3 = np.cross(e1,e2) # z"
   ]
  },
  {
   "cell_type": "code",
   "execution_count": 4,
   "metadata": {},
   "outputs": [
    {
     "name": "stdout",
     "output_type": "stream",
     "text": [
      "[0.89442719 0.4472136  0.        ] [-0.4472136   0.89442719  0.        ] [ 0. -0.  1.]\n"
     ]
    }
   ],
   "source": [
    "print(e1,e2,e3)"
   ]
  },
  {
   "cell_type": "code",
   "execution_count": 5,
   "metadata": {},
   "outputs": [
    {
     "data": {
      "text/plain": [
       "array([[ 0.89442719,  0.4472136 ,  0.        ],\n",
       "       [-0.4472136 ,  0.89442719,  0.        ],\n",
       "       [ 0.        , -0.        ,  1.        ]])"
      ]
     },
     "execution_count": 5,
     "metadata": {},
     "output_type": "execute_result"
    }
   ],
   "source": [
    "M = np.zeros((3,3))\n",
    "M[0,:3] = e1\n",
    "M[1,:3] = e2\n",
    "M[2,:3] = e3\n",
    "M"
   ]
  },
  {
   "cell_type": "code",
   "execution_count": 6,
   "metadata": {},
   "outputs": [
    {
     "name": "stdout",
     "output_type": "stream",
     "text": [
      "[[0.        ]\n",
      " [2.23606798]\n",
      " [0.        ]]\n"
     ]
    }
   ],
   "source": [
    "# from world to local coord system\n",
    "v = np.array([1.0,4.0,0.0]) # y\n",
    "v = v-o\n",
    "pneu = M * np.matrix(v).T\n",
    "print(pneu) # res: 0.0, 2.23, 0.0 : ok"
   ]
  },
  {
   "cell_type": "code",
   "execution_count": 7,
   "metadata": {},
   "outputs": [
    {
     "name": "stdout",
     "output_type": "stream",
     "text": [
      "[[0.89442719]\n",
      " [2.68328157]\n",
      " [1.        ]]\n",
      "[[-0.68328157]\n",
      " [ 1.10557281]\n",
      " [ 1.        ]]\n"
     ]
    }
   ],
   "source": [
    "ve = np.array([2,2,1]) # in world\n",
    "Minv = np.linalg.inv(M)\n",
    "pneu = Minv * np.matrix(ve).T\n",
    "#pneu = pneu + np.matrix(o).T\n",
    "print(pneu) # 2.89, 4.6, 1 ok\n",
    "\n",
    "# and back\n",
    "pneu = pneu - np.matrix(o).T\n",
    "pneu = M * np.matrix(pneu)\n",
    "print(pneu) # res: 2,2,1 : ok"
   ]
  },
  {
   "cell_type": "code",
   "execution_count": 16,
   "metadata": {},
   "outputs": [],
   "source": [
    "import tifffile\n",
    "tifffile.imsave(\"test.tiff\", rgbimg)"
   ]
  },
  {
   "cell_type": "code",
   "execution_count": 129,
   "metadata": {},
   "outputs": [
    {
     "name": "stdout",
     "output_type": "stream",
     "text": [
      "<class 'numpy.matrix'>\n",
      "float64\n"
     ]
    }
   ],
   "source": [
    "pA = np.matrix([-301.0,-253.0,1079.0])\n",
    "pB = np.matrix([277.0,-271.0,1064.0])\n",
    "pC = np.matrix([-295.0,137.0,1072.0]) #[-288.0,137.0,1072.0])\n",
    "pD = np.matrix([290.0,118.0,1060.0])\n",
    "print(type(pA))\n",
    "print(pA.dtype)"
   ]
  },
  {
   "cell_type": "code",
   "execution_count": 130,
   "metadata": {
    "scrolled": true
   },
   "outputs": [
    {
     "name": "stdout",
     "output_type": "stream",
     "text": [
      "AB: [[578. -18. -15.]] = A: [[-301. -253. 1079.]] - B: [[ 277. -271. 1064.]]\n",
      "LenAB:  578.47\n"
     ]
    }
   ],
   "source": [
    "pAB = pB-pA\n",
    "lenpAB = np.linalg.norm(pAB)\n",
    "print('AB:',pAB, '= A:',pA,'- B:',pB )\n",
    "print('LenAB: {: 0.2f}'.format(lenpAB))"
   ]
  },
  {
   "cell_type": "code",
   "execution_count": 131,
   "metadata": {},
   "outputs": [
    {
     "name": "stdout",
     "output_type": "stream",
     "text": [
      "CD: [[-585.   19.   12.]] = C: [[-295.  137. 1072.]] - D: [[ 290.  118. 1060.]]\n",
      "LenCD:  585.43\n"
     ]
    }
   ],
   "source": [
    "pCD = pC-pD\n",
    "lenpCD = np.linalg.norm(pCD)\n",
    "print('CD:',pCD, '= C:',pC,'- D:',pD )\n",
    "print('LenCD: {: 0.2f}'.format(lenpCD))"
   ]
  },
  {
   "cell_type": "code",
   "execution_count": 132,
   "metadata": {},
   "outputs": [
    {
     "name": "stdout",
     "output_type": "stream",
     "text": [
      "pAB_unit: [[ 0.999 -0.031 -0.026]]\n",
      "scalarAB: [[-5.959]]\n"
     ]
    }
   ],
   "source": [
    "pAC = pC - pA\n",
    "pAB_unit = pAB / np.linalg.norm(pAB)\n",
    "print('pAB_unit: {}'.format(pAB_unit))\n",
    "scalarAB = np.dot(pAC,pAB_unit.T)\n",
    "print('scalarAB: {}'.format(scalarAB))"
   ]
  },
  {
   "cell_type": "code",
   "execution_count": 133,
   "metadata": {},
   "outputs": [
    {
     "name": "stdout",
     "output_type": "stream",
     "text": [
      "[[-5.954  0.185  0.155]]\n"
     ]
    }
   ],
   "source": [
    "# distance of AB from A, where orthogonal vector start towards C\n",
    "posOnAB = scalarAB * pAB_unit\n",
    "print(posOnAB)"
   ]
  },
  {
   "cell_type": "code",
   "execution_count": null,
   "metadata": {},
   "outputs": [],
   "source": [
    "# test optimization for box corner points which do not lie in same plane...\n",
    "#"
   ]
  },
  {
   "cell_type": "code",
   "execution_count": null,
   "metadata": {},
   "outputs": [],
   "source": []
  }
 ],
 "metadata": {
  "kernelspec": {
   "display_name": "Python 3",
   "language": "python",
   "name": "python3"
  },
  "language_info": {
   "codemirror_mode": {
    "name": "ipython",
    "version": 3
   },
   "file_extension": ".py",
   "mimetype": "text/x-python",
   "name": "python",
   "nbconvert_exporter": "python",
   "pygments_lexer": "ipython3",
   "version": "3.7.5"
  }
 },
 "nbformat": 4,
 "nbformat_minor": 2
}
