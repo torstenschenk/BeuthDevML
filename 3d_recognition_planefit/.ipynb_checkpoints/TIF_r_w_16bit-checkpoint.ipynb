{
 "cells": [
  {
   "cell_type": "code",
   "execution_count": 22,
   "metadata": {},
   "outputs": [
    {
     "name": "stdout",
     "output_type": "stream",
     "text": [
      "3.7.5\n"
     ]
    }
   ],
   "source": [
    "from platform import python_version\n",
    "print(python_version())\n",
    "import sys\n",
    "print(sys.executable)\n",
    "print(sys.version)\n",
    "print(sys.version_info)"
   ]
  },
  {
   "cell_type": "code",
   "execution_count": 1,
   "metadata": {},
   "outputs": [],
   "source": [
    "# show plot first run\n",
    "#%matplotlib inline \n",
    "# test autocompletion with tab or tab+shift\n",
    "%config IPCompleter.greedy=True "
   ]
  },
  {
   "cell_type": "code",
   "execution_count": 4,
   "metadata": {},
   "outputs": [
    {
     "name": "stdout",
     "output_type": "stream",
     "text": [
      "[[ 0 -2 -2  4 -1  0  4  4]\n",
      " [ 4  4 -3 -3  3  2 -3 -1]\n",
      " [-3 -2  0  1 -1 -1 -4 -4]\n",
      " [-4 -4  4 -3  1 -4 -2  3]\n",
      " [ 3  2  0 -3  1  0  1 -3]\n",
      " [ 1 -1  4 -4 -2  0 -4  3]\n",
      " [-4 -3 -4  1 -1 -3 -4 -2]\n",
      " [-2 -1  2  0 -2 -3  4  0]]\n",
      "\n",
      "[[ 0 -2 -2  4 -1  0  4  4]\n",
      " [ 4  4 -3 -3  3  2 -3 -1]\n",
      " [-3 -2  0  1 -1 -1 -4 -4]\n",
      " [-4 -4  4 -3  1 -4 -2  3]\n",
      " [ 3  2  0 -3  1  0  1 -3]\n",
      " [ 1 -1  4 -4 -2  0 -4  3]\n",
      " [-4 -3 -4  1 -1 -3 -4 -2]\n",
      " [-2 -1  2  0 -2 -3  4  0]]\n"
     ]
    }
   ],
   "source": [
    "# tiffile example\n",
    "import tifffile\n",
    "import numpy as np\n",
    "\n",
    "# random array of numbers between -5 and 5\n",
    "a = np.asarray(np.random.rand(8, 8)*10-5, dtype=np.int16)\n",
    "# save array to disk and display its content\n",
    "tifffile.imsave(\"test.tiff\", a)\n",
    "print(str(a) + \"\\n\")\n",
    "# load the array back from the disk and display its content too\n",
    "b = tifffile.imread(\"test.tiff\")\n",
    "print(b)"
   ]
  },
  {
   "cell_type": "code",
   "execution_count": 1,
   "metadata": {},
   "outputs": [
    {
     "name": "stdout",
     "output_type": "stream",
     "text": [
      "(768, 1024, 3)\n"
     ]
    }
   ],
   "source": [
    "import tifffile\n",
    "import cv2 as cv\n",
    "img = cv.imread('rpm_00.tif',cv.IMREAD_ANYCOLOR | cv.IMREAD_ANYDEPTH)\n",
    "# channels swapped by opencv!\n",
    "print(img.shape)\n",
    "# opencv is [b,g,r]:[Z,Y,X] instead of [r,g,b]:[X,Y,Z]\n",
    "#imwrite(\"blue.png\",bgr[0]); //blue channel\n",
    "#imwrite(\"green.png\",bgr[1]); //green channel\n",
    "#imwrite(\"red.png\",bgr[2]); //red channel\n",
    "\n",
    "cv.imshow(\"TIF\", img)\n",
    "cv.waitKey(0)\n",
    "cv.destroyWindow(\"TIF\")"
   ]
  },
  {
   "cell_type": "code",
   "execution_count": 4,
   "metadata": {},
   "outputs": [
    {
     "name": "stdout",
     "output_type": "stream",
     "text": [
      "(768, 1024)\n",
      "old max: 1218.4336\n",
      "new max: 1.0\n"
     ]
    }
   ],
   "source": [
    "# shallow copy, normalise z!\n",
    "z =img[:,:,0]\n",
    "print(z.shape)\n",
    "print('old max:',z.max())\n",
    "z /= z.max()\n",
    "print('new max:',z.max())"
   ]
  },
  {
   "cell_type": "code",
   "execution_count": 5,
   "metadata": {},
   "outputs": [
    {
     "name": "stdout",
     "output_type": "stream",
     "text": [
      "(768, 1024, 3)\n",
      "(768, 1024, 3)\n"
     ]
    }
   ],
   "source": [
    "# swap color channels\n",
    "rgbimg = img[:,:,::-1]\n",
    "print(rgbimg.shape)\n",
    "cv.imshow(\"TIF opencv swap: rgb\", rgbimg)\n",
    "cv.waitKey(0)\n",
    "cv.destroyWindow(\"TIF opencv swap: rgb\")\n",
    "\n",
    "# Error write signed tiff with opencv!\n",
    "#cv.imwrite('Query_'+str(i)+'.tif',rgbimg)\n",
    "tifffile.imsave(\"test.tiff\", rgbimg)\n",
    "img2 = cv.imread('test.tiff',cv.IMREAD_ANYCOLOR | cv.IMREAD_ANYDEPTH)\n",
    "print(img2.shape)\n",
    "cv.imshow(\"TIF opencv: bgr\", img2)\n",
    "cv.waitKey(0)\n",
    "cv.destroyWindow(\"TIF opencv: bgr\")\n",
    "\n",
    "b = tifffile.imread(\"test.tiff\")\n",
    "cv.imshow(\"TIF tifffile: rgb\", b)\n",
    "cv.waitKey(0)\n",
    "cv.destroyWindow(\"TIF tifffile: rgb\")"
   ]
  },
  {
   "cell_type": "code",
   "execution_count": 29,
   "metadata": {},
   "outputs": [],
   "source": [
    "# Error write signed tiff with opencv!\n",
    "#i = 0\n",
    "#cv.imwrite('Query_'+str(i)+'.tiff',img,cv.IMWRITE_EXR_TYPE_FLOAT)"
   ]
  },
  {
   "cell_type": "code",
   "execution_count": 6,
   "metadata": {},
   "outputs": [
    {
     "name": "stdout",
     "output_type": "stream",
     "text": [
      "(768, 1024)\n"
     ]
    }
   ],
   "source": [
    "import tifffile\n",
    "import cv2 as cv\n",
    "import numpy as np\n",
    "\n",
    "b = tifffile.imread(\"00.tiff\")\n",
    "print(b.shape)\n",
    "cv.imshow(\"TIF tifffile: rgb\", b)\n",
    "cv.waitKey(0)\n",
    "cv.destroyWindow(\"TIF tifffile: rgb\")\n"
   ]
  },
  {
   "cell_type": "code",
   "execution_count": 18,
   "metadata": {
    "scrolled": true
   },
   "outputs": [
    {
     "name": "stdout",
     "output_type": "stream",
     "text": [
      "over full image\n",
      "42355012.0\n",
      "0.0\n",
      "1176.0127\n",
      "234.16391\n",
      "\n",
      "only px > 1.0\n",
      "42355012.0\n",
      "1056.9932\n",
      "1176.0127\n",
      "119.01953\n",
      "14.939035\n"
     ]
    }
   ],
   "source": [
    "print('over full image')\n",
    "print(np.sum(b))\n",
    "print(np.min(b))\n",
    "print(np.max(b))\n",
    "print(np.std(b))\n",
    "print('\\nonly px > 1.0')\n",
    "print(np.sum(b[b>1.0]))\n",
    "print(np.min(b[b>1.0]))\n",
    "print(np.max(b[b>1.0]))\n",
    "print(np.max(b[b>1.0])-np.min(b[b>1.0]))\n",
    "print(np.std(b[b>1.0]))"
   ]
  },
  {
   "cell_type": "code",
   "execution_count": 21,
   "metadata": {},
   "outputs": [
    {
     "name": "stdout",
     "output_type": "stream",
     "text": [
      "img size: 786432\n",
      "selpx: (39519,)\n"
     ]
    }
   ],
   "source": [
    "frame = b[b>1.0]\n",
    "print('img size:',b.shape[0]*b.shape[1])\n",
    "print('selpx:',frame.shape)\n"
   ]
  }
 ],
 "metadata": {
  "kernelspec": {
   "display_name": "Python 3",
   "language": "python",
   "name": "python3"
  },
  "language_info": {
   "codemirror_mode": {
    "name": "ipython",
    "version": 3
   },
   "file_extension": ".py",
   "mimetype": "text/x-python",
   "name": "python",
   "nbconvert_exporter": "python",
   "pygments_lexer": "ipython3",
   "version": "3.7.5"
  }
 },
 "nbformat": 4,
 "nbformat_minor": 2
}
