{
 "cells": [
  {
   "cell_type": "code",
   "execution_count": 1,
   "metadata": {},
   "outputs": [],
   "source": [
    "from __future__ import print_function\n",
    "import cv2 as cv\n",
    "import numpy as np\n",
    "import argparse\n",
    "\n",
    "# show plot first run\n",
    "#%matplotlib inline \n",
    "# test autocompletion with tab or tab+shift\n",
    "%config IPCompleter.greedy=True "
   ]
  },
  {
   "cell_type": "code",
   "execution_count": 2,
   "metadata": {},
   "outputs": [],
   "source": [
    "#parser = argparse.ArgumentParser(description='Code for Feature Matching with FLANN tutorial.')\n",
    "#parser.add_argument('--input1', help='Path to input image 1.', default='box.png')\n",
    "#parser.add_argument('--input2', help='Path to input image 2.', default='box_in_scene.png')\n",
    "#args = parser.parse_args()\n",
    "#img_object = cv.imread(cv.samples.findFile(args.input1), cv.IMREAD_GRAYSCALE)\n",
    "#img_scene = cv.imread(cv.samples.findFile(args.input2), cv.IMREAD_GRAYSCALE)\n",
    "#if img_object is None or img_scene is None:\n",
    "#    print('Could not open or find the images!')\n",
    "#    exit(0)\n",
    "\n",
    "img_object = cv.imread('box.png', cv.IMREAD_GRAYSCALE)\n",
    "img_scene = cv.imread('box_in_scene.png', cv.IMREAD_GRAYSCALE)\n",
    "if img_object is None or img_scene is None:\n",
    "    print('Could not open or find the images!')\n",
    "    exit(0)"
   ]
  },
  {
   "cell_type": "code",
   "execution_count": 3,
   "metadata": {},
   "outputs": [
    {
     "name": "stdout",
     "output_type": "stream",
     "text": [
      "H: (3, 3)\n",
      "(4, 1, 2)\n"
     ]
    }
   ],
   "source": [
    "#-- Step 1: Detect the keypoints using SURF Detector, compute the descriptors\n",
    "minHessian = 400\n",
    "detector = cv.xfeatures2d_SURF.create(hessianThreshold=minHessian)\n",
    "keypoints_obj, descriptors_obj = detector.detectAndCompute(img_object, None)\n",
    "keypoints_scene, descriptors_scene = detector.detectAndCompute(img_scene, None)\n",
    "\n",
    "#-- Step 2: Matching descriptor vectors with a FLANN based matcher\n",
    "# Since SURF is a floating-point descriptor NORM_L2 is used\n",
    "matcher = cv.DescriptorMatcher_create(cv.DescriptorMatcher_FLANNBASED)\n",
    "knn_matches = matcher.knnMatch(descriptors_obj, descriptors_scene, 2)\n",
    "\n",
    "#-- Filter matches using the Lowe's ratio test\n",
    "ratio_thresh = 0.75\n",
    "good_matches = []\n",
    "for m,n in knn_matches:\n",
    "    if m.distance < ratio_thresh * n.distance:\n",
    "        good_matches.append(m)\n",
    "\n",
    "#-- Draw matches\n",
    "img_matches = np.empty((max(img_object.shape[0], img_scene.shape[0]), img_object.shape[1]+img_scene.shape[1], 3), dtype=np.uint8)\n",
    "cv.drawMatches(img_object, keypoints_obj, img_scene, keypoints_scene, good_matches, img_matches, flags=cv.DrawMatchesFlags_NOT_DRAW_SINGLE_POINTS)\n",
    "\n",
    "#-- Localize the object\n",
    "obj = np.empty((len(good_matches),2), dtype=np.float32)\n",
    "scene = np.empty((len(good_matches),2), dtype=np.float32)\n",
    "for i in range(len(good_matches)):\n",
    "    #-- Get the keypoints from the good matches\n",
    "    obj[i,0] = keypoints_obj[good_matches[i].queryIdx].pt[0]\n",
    "    obj[i,1] = keypoints_obj[good_matches[i].queryIdx].pt[1]\n",
    "    scene[i,0] = keypoints_scene[good_matches[i].trainIdx].pt[0]\n",
    "    scene[i,1] = keypoints_scene[good_matches[i].trainIdx].pt[1]\n",
    "\n",
    "H, _ =  cv.findHomography(obj, scene, cv.RANSAC)\n",
    "\n",
    "print('H:',H.shape)\n",
    "\n",
    "#-- Get the corners from the image_1 ( the object to be \"detected\" )\n",
    "obj_corners = np.empty((4,1,2), dtype=np.float32)\n",
    "print(obj_corners.shape)\n",
    "obj_corners[0,0,0] = 0\n",
    "obj_corners[0,0,1] = 0\n",
    "obj_corners[1,0,0] = img_object.shape[1]\n",
    "obj_corners[1,0,1] = 0\n",
    "obj_corners[2,0,0] = img_object.shape[1]\n",
    "obj_corners[2,0,1] = img_object.shape[0]\n",
    "obj_corners[3,0,0] = 0\n",
    "obj_corners[3,0,1] = img_object.shape[0]\n",
    "\n",
    "scene_corners = cv.perspectiveTransform(obj_corners, H)\n",
    "\n",
    "#-- Draw lines between the corners (the mapped object in the scene - image_2 )\n",
    "'''\n",
    "cv.line(img_matches, (int(scene_corners[0,0,0] + img_object.shape[1]), int(scene_corners[0,0,1])),\\\n",
    "    (int(scene_corners[1,0,0] + img_object.shape[1]), int(scene_corners[1,0,1])), (0,255,0), 4)\n",
    "cv.line(img_matches, (int(scene_corners[1,0,0] + img_object.shape[1]), int(scene_corners[1,0,1])),\\\n",
    "    (int(scene_corners[2,0,0] + img_object.shape[1]), int(scene_corners[2,0,1])), (0,255,0), 4)\n",
    "cv.line(img_matches, (int(scene_corners[2,0,0] + img_object.shape[1]), int(scene_corners[2,0,1])),\\\n",
    "    (int(scene_corners[3,0,0] + img_object.shape[1]), int(scene_corners[3,0,1])), (0,255,0), 4)\n",
    "cv.line(img_matches, (int(scene_corners[3,0,0] + img_object.shape[1]), int(scene_corners[3,0,1])),\\\n",
    "    (int(scene_corners[0,0,0] + img_object.shape[1]), int(scene_corners[0,0,1])), (0,255,0), 4)\n",
    "'''\n",
    "#-- Show detected matches\n",
    "cv.imshow('Good Matches & Object detection', img_matches)\n",
    "\n",
    "cv.waitKey()\n",
    "\n",
    "cv.destroyWindow('Good Matches & Object detection')\n",
    "#cv.destroyAllWindows()"
   ]
  },
  {
   "cell_type": "code",
   "execution_count": null,
   "metadata": {},
   "outputs": [],
   "source": [
    "cv.Point"
   ]
  }
 ],
 "metadata": {
  "kernelspec": {
   "display_name": "Python 3",
   "language": "python",
   "name": "python3"
  },
  "language_info": {
   "codemirror_mode": {
    "name": "ipython",
    "version": 3
   },
   "file_extension": ".py",
   "mimetype": "text/x-python",
   "name": "python",
   "nbconvert_exporter": "python",
   "pygments_lexer": "ipython3",
   "version": "3.7.5"
  }
 },
 "nbformat": 4,
 "nbformat_minor": 2
}
