{
 "cells": [
  {
   "cell_type": "markdown",
   "metadata": {
    "slideshow": {
     "slide_type": "slide"
    }
   },
   "source": [
    "# Lecture 11 - Neural Network Applications\n",
    "\n"
   ]
  },
  {
   "cell_type": "markdown",
   "metadata": {
    "slideshow": {
     "slide_type": "slide"
    }
   },
   "source": [
    "# Neural Network Success: Why Now?\n",
    "\n",
    "- New Theory?\n",
    "- More Data?\n",
    "- New Hardware?\n",
    "- New Software?\n"
   ]
  },
  {
   "cell_type": "markdown",
   "metadata": {
    "slideshow": {
     "slide_type": "slide"
    }
   },
   "source": [
    "# Neural Network Success: What was new?\n",
    "\n",
    "\n",
    "- Technological developments (Gaming and GPUs)\n",
    "- Open Source Programming Libraries\n",
    "- Open knowledge (conferences, arxiv, online tutorials/courses)\n",
    "- More open data\n",
    "    \n",
    "Building and Training Neural Nets was easy and fast\n",
    "\n",
    "Students took existing research and experimented"
   ]
  },
  {
   "cell_type": "markdown",
   "metadata": {
    "slideshow": {
     "slide_type": "slide"
    }
   },
   "source": [
    "# Deep Learning Frameworks\n",
    "\n",
    "- [Tensorflow](https://www.tensorflow.org/)\n",
    "- [Keras](https://keras.io)\n",
    "- [PyTorch](https://pytorch.org)\n",
    "- [Caffee](http://caffe.berkeleyvision.org/)\n",
    "- [Theano](http://www.deeplearning.net/software/theano/)\n",
    "- [MxNet](https://mxnet.apache.org/)\n",
    "- [CNTK](https://github.com/Microsoft/CNTK)\n",
    "\n"
   ]
  },
  {
   "cell_type": "markdown",
   "metadata": {
    "slideshow": {
     "slide_type": "slide"
    }
   },
   "source": [
    "# [Quantitative comparison on Medium](https://towardsdatascience.com/deep-learning-framework-power-scores-2018-23607ddf297a)\n",
    "\n",
    "\n",
    "\n",
    "![Overall Comparison](figures/dl_frameworks_overall.png)\n",
    "\n",
    "\n",
    "\n",
    "\n"
   ]
  },
  {
   "cell_type": "markdown",
   "metadata": {
    "slideshow": {
     "slide_type": "slide"
    }
   },
   "source": [
    "![Joblistings](figures/dl_frameworks_joblistings.png)"
   ]
  },
  {
   "cell_type": "markdown",
   "metadata": {
    "slideshow": {
     "slide_type": "slide"
    }
   },
   "source": [
    "![KDNuggets usage](figures/dl_frameworks_kdnuggets_usage.png)"
   ]
  },
  {
   "cell_type": "markdown",
   "metadata": {
    "slideshow": {
     "slide_type": "slide"
    }
   },
   "source": [
    "![Google Searches](figures/dl_frameworks_google_searches.png)"
   ]
  },
  {
   "cell_type": "markdown",
   "metadata": {
    "slideshow": {
     "slide_type": "slide"
    }
   },
   "source": [
    "![github](figures/dl_frameworks_github.png)"
   ]
  },
  {
   "cell_type": "markdown",
   "metadata": {
    "slideshow": {
     "slide_type": "slide"
    }
   },
   "source": [
    "![arxiv](figures/dl_frameworks_arxiv_articles.png)"
   ]
  },
  {
   "cell_type": "markdown",
   "metadata": {
    "slideshow": {
     "slide_type": "slide"
    }
   },
   "source": [
    "[But this changed recently](https://towardsdatascience.com/which-deep-learning-framework-is-growing-fastest-3f77f14aa318)\n",
    "![](figures/dl_frameworks_google_searches_growth.png)\n"
   ]
  },
  {
   "cell_type": "markdown",
   "metadata": {
    "slideshow": {
     "slide_type": "slide"
    }
   },
   "source": [
    "According to a [comprehensive stackoverflow survey](https://insights.stackoverflow.com/survey/2018/#technology) **Tensorflow** is the most *loved* library."
   ]
  },
  {
   "cell_type": "markdown",
   "metadata": {
    "slideshow": {
     "slide_type": "slide"
    }
   },
   "source": [
    "# Keras\n",
    "\n",
    "- high-level neural networks API in Python\n",
    "- Backends:\n",
    "  - TensorFlow\n",
    "  - CNTK\n",
    "  - Theano\n",
    "  - [mxnet](https://github.com/awslabs/keras-apache-mxnet) (inofficially)\n",
    "  \n",
    "\n",
    "*Being able to go from idea to result with the least possible delay is key to doing good research.*\n",
    "\n",
    "- Allows for easy and fast prototyping (through user friendliness, modularity, and extensibility)\n",
    "- Supports convolutional and recurrent networks and combinations of the two\n",
    "- Runs seamlessly on CPU and GPU."
   ]
  },
  {
   "cell_type": "markdown",
   "metadata": {
    "slideshow": {
     "slide_type": "slide"
    }
   },
   "source": [
    "## A Simple Example: The ``Sequential`` Module\n",
    "\n",
    "In Keras, ``Sequential`` models are a linear stack of layers"
   ]
  },
  {
   "cell_type": "code",
   "execution_count": 9,
   "metadata": {
    "slideshow": {
     "slide_type": "fragment"
    }
   },
   "outputs": [],
   "source": [
    "import keras\n",
    "from keras.models import Sequential\n",
    "from keras.layers import Dense"
   ]
  },
  {
   "cell_type": "markdown",
   "metadata": {
    "slideshow": {
     "slide_type": "slide"
    }
   },
   "source": [
    "## A Simple Example: The ``Sequential`` Module\n",
    "\n",
    "In Keras, ``Sequential`` models are a linear stack of layers"
   ]
  },
  {
   "cell_type": "code",
   "execution_count": 10,
   "metadata": {
    "slideshow": {
     "slide_type": "fragment"
    }
   },
   "outputs": [
    {
     "name": "stdout",
     "output_type": "stream",
     "text": [
      "WARNING:tensorflow:From /Users/felix/anaconda3/envs/ml_lecture/lib/python3.7/site-packages/tensorflow/python/framework/op_def_library.py:263: colocate_with (from tensorflow.python.framework.ops) is deprecated and will be removed in a future version.\n",
      "Instructions for updating:\n",
      "Colocations handled automatically by placer.\n"
     ]
    }
   ],
   "source": [
    "# an empty model\n",
    "model = Sequential()\n",
    "num_hidden = 2000\n",
    "num_classes = 10\n",
    "model = Sequential([\n",
    "    Dense(num_hidden, activation='relu', input_dim=100),\n",
    "    Dense(num_classes, activation='softmax'),\n",
    "])"
   ]
  },
  {
   "cell_type": "markdown",
   "metadata": {
    "slideshow": {
     "slide_type": "fragment"
    }
   },
   "source": [
    "Or use the ``add`` function to build up a network:"
   ]
  },
  {
   "cell_type": "code",
   "execution_count": 11,
   "metadata": {
    "slideshow": {
     "slide_type": "fragment"
    }
   },
   "outputs": [],
   "source": [
    "# an empty model\n",
    "model = Sequential()\n",
    "\n",
    "# a one layer neural network\n",
    "model.add(Dense(num_hidden, activation='relu', input_dim=100))\n",
    "model.add(Dense(num_classes, activation='softmax'))"
   ]
  },
  {
   "cell_type": "markdown",
   "metadata": {
    "slideshow": {
     "slide_type": "slide"
    }
   },
   "source": [
    "## Compilation\n",
    "\n",
    "The learning process is configured via the ``compile``, which receives:\n",
    "\n",
    "- An [optimizer](https://keras.io/optimizers)\n",
    "\n",
    "- A [loss function](https://keras.io/losses)\n",
    "\n",
    "- A list of metrics (e.g. 'accuracy')"
   ]
  },
  {
   "cell_type": "code",
   "execution_count": 12,
   "metadata": {
    "slideshow": {
     "slide_type": "fragment"
    }
   },
   "outputs": [],
   "source": [
    "# compile the network\n",
    "model.compile(optimizer='rmsprop',\n",
    "              loss='categorical_crossentropy',\n",
    "              metrics=['accuracy'])"
   ]
  },
  {
   "cell_type": "markdown",
   "metadata": {
    "slideshow": {
     "slide_type": "slide"
    }
   },
   "source": [
    "## Training on MNIST data"
   ]
  },
  {
   "cell_type": "code",
   "execution_count": 13,
   "metadata": {
    "slideshow": {
     "slide_type": "fragment"
    }
   },
   "outputs": [
    {
     "data": {
      "image/png": "[encoded data removed]",
      "text/plain": [
       "<Figure size 432x288 with 1 Axes>"
      ]
     },
     "metadata": {
      "needs_background": "light"
     },
     "output_type": "display_data"
    }
   ],
   "source": [
    "import numpy as np\n",
    "import keras\n",
    "import sklearn.datasets\n",
    "from sklearn.model_selection import train_test_split \n",
    "import matplotlib.pyplot as plt\n",
    "%matplotlib inline\n",
    "\n",
    "X, Y = sklearn.datasets.load_digits(return_X_y=True)\n",
    "imsize = int(np.sqrt(X.shape[-1])) \n",
    "plt.imshow(X[0,:].reshape(imsize,imsize)); \n",
    "plt.title(f\"y={Y[0]}\");\n",
    "plt.grid(False);"
   ]
  },
  {
   "cell_type": "code",
   "execution_count": 14,
   "metadata": {},
   "outputs": [
    {
     "name": "stdout",
     "output_type": "stream",
     "text": [
      "WARNING:tensorflow:From /Users/felix/anaconda3/envs/ml_lecture/lib/python3.7/site-packages/tensorflow/python/ops/math_ops.py:3066: to_int32 (from tensorflow.python.ops.math_ops) is deprecated and will be removed in a future version.\n",
      "Instructions for updating:\n",
      "Use tf.cast instead.\n",
      "Train on 1347 samples, validate on 450 samples\n",
      "Epoch 1/100\n",
      "1347/1347 [==============================] - 0s 203us/step - loss: 5.0776 - acc: 0.1604 - val_loss: 3.3658 - val_acc: 0.1911\n",
      "Epoch 2/100\n",
      "1347/1347 [==============================] - 0s 29us/step - loss: 2.6974 - acc: 0.2056 - val_loss: 2.2346 - val_acc: 0.2267\n",
      "Epoch 3/100\n",
      "1347/1347 [==============================] - 0s 31us/step - loss: 2.1283 - acc: 0.2539 - val_loss: 1.9948 - val_acc: 0.2867\n",
      "Epoch 4/100\n",
      "1347/1347 [==============================] - 0s 28us/step - loss: 1.9466 - acc: 0.3059 - val_loss: 1.8462 - val_acc: 0.3356\n",
      "Epoch 5/100\n",
      "1347/1347 [==============================] - 0s 26us/step - loss: 1.8019 - acc: 0.3504 - val_loss: 1.7187 - val_acc: 0.3800\n",
      "Epoch 6/100\n",
      "1347/1347 [==============================] - 0s 24us/step - loss: 1.6612 - acc: 0.3875 - val_loss: 1.5802 - val_acc: 0.4067\n",
      "Epoch 7/100\n",
      "1347/1347 [==============================] - 0s 26us/step - loss: 1.5276 - acc: 0.4284 - val_loss: 1.4564 - val_acc: 0.4511\n",
      "Epoch 8/100\n",
      "1347/1347 [==============================] - 0s 24us/step - loss: 1.4042 - acc: 0.4922 - val_loss: 1.3611 - val_acc: 0.5156\n",
      "Epoch 9/100\n",
      "1347/1347 [==============================] - 0s 25us/step - loss: 1.2754 - acc: 0.5204 - val_loss: 1.2614 - val_acc: 0.5244\n",
      "Epoch 10/100\n",
      "1347/1347 [==============================] - 0s 23us/step - loss: 1.1654 - acc: 0.5612 - val_loss: 1.1798 - val_acc: 0.5489\n",
      "Epoch 11/100\n",
      "1347/1347 [==============================] - 0s 25us/step - loss: 1.0688 - acc: 0.5969 - val_loss: 1.1143 - val_acc: 0.5911\n",
      "Epoch 12/100\n",
      "1347/1347 [==============================] - 0s 23us/step - loss: 0.9868 - acc: 0.6370 - val_loss: 1.0438 - val_acc: 0.6044\n",
      "Epoch 13/100\n",
      "1347/1347 [==============================] - 0s 26us/step - loss: 0.9101 - acc: 0.6607 - val_loss: 1.0073 - val_acc: 0.6156\n",
      "Epoch 14/100\n",
      "1347/1347 [==============================] - 0s 24us/step - loss: 0.8480 - acc: 0.6971 - val_loss: 0.9096 - val_acc: 0.6689\n",
      "Epoch 15/100\n",
      "1347/1347 [==============================] - 0s 26us/step - loss: 0.7634 - acc: 0.7461 - val_loss: 0.8370 - val_acc: 0.7267\n",
      "Epoch 16/100\n",
      "1347/1347 [==============================] - 0s 30us/step - loss: 0.6838 - acc: 0.7728 - val_loss: 0.7810 - val_acc: 0.7333\n",
      "Epoch 17/100\n",
      "1347/1347 [==============================] - 0s 30us/step - loss: 0.6173 - acc: 0.7988 - val_loss: 0.6959 - val_acc: 0.7822\n",
      "Epoch 18/100\n",
      "1347/1347 [==============================] - 0s 29us/step - loss: 0.5553 - acc: 0.8226 - val_loss: 0.6605 - val_acc: 0.7844\n",
      "Epoch 19/100\n",
      "1347/1347 [==============================] - 0s 31us/step - loss: 0.5105 - acc: 0.8411 - val_loss: 0.5648 - val_acc: 0.8378\n",
      "Epoch 20/100\n",
      "1347/1347 [==============================] - 0s 27us/step - loss: 0.4599 - acc: 0.8589 - val_loss: 0.5559 - val_acc: 0.8311\n",
      "Epoch 21/100\n",
      "1347/1347 [==============================] - 0s 26us/step - loss: 0.4265 - acc: 0.8723 - val_loss: 0.4938 - val_acc: 0.8600\n",
      "Epoch 22/100\n",
      "1347/1347 [==============================] - 0s 24us/step - loss: 0.3953 - acc: 0.8812 - val_loss: 0.4602 - val_acc: 0.8756\n",
      "Epoch 23/100\n",
      "1347/1347 [==============================] - 0s 27us/step - loss: 0.3680 - acc: 0.8886 - val_loss: 0.4616 - val_acc: 0.8622\n",
      "Epoch 24/100\n",
      "1347/1347 [==============================] - 0s 28us/step - loss: 0.3492 - acc: 0.8894 - val_loss: 0.4300 - val_acc: 0.8800\n",
      "Epoch 25/100\n",
      "1347/1347 [==============================] - 0s 26us/step - loss: 0.3252 - acc: 0.9042 - val_loss: 0.4143 - val_acc: 0.8889\n",
      "Epoch 26/100\n",
      "1347/1347 [==============================] - 0s 22us/step - loss: 0.3090 - acc: 0.9057 - val_loss: 0.3911 - val_acc: 0.8933\n",
      "Epoch 27/100\n",
      "1347/1347 [==============================] - 0s 26us/step - loss: 0.2905 - acc: 0.9154 - val_loss: 0.3943 - val_acc: 0.8844\n",
      "Epoch 28/100\n",
      "1347/1347 [==============================] - 0s 24us/step - loss: 0.2787 - acc: 0.9228 - val_loss: 0.3722 - val_acc: 0.8889\n",
      "Epoch 29/100\n",
      "1347/1347 [==============================] - 0s 30us/step - loss: 0.2703 - acc: 0.9183 - val_loss: 0.3603 - val_acc: 0.9000\n",
      "Epoch 30/100\n",
      "1347/1347 [==============================] - 0s 27us/step - loss: 0.2579 - acc: 0.9243 - val_loss: 0.3790 - val_acc: 0.8956\n",
      "Epoch 31/100\n",
      "1347/1347 [==============================] - 0s 24us/step - loss: 0.2491 - acc: 0.9258 - val_loss: 0.3412 - val_acc: 0.9044\n",
      "Epoch 32/100\n",
      "1347/1347 [==============================] - 0s 25us/step - loss: 0.2416 - acc: 0.9376 - val_loss: 0.3389 - val_acc: 0.9111\n",
      "Epoch 33/100\n",
      "1347/1347 [==============================] - 0s 27us/step - loss: 0.2342 - acc: 0.9317 - val_loss: 0.3387 - val_acc: 0.9111\n",
      "Epoch 34/100\n",
      "1347/1347 [==============================] - 0s 24us/step - loss: 0.2241 - acc: 0.9347 - val_loss: 0.3500 - val_acc: 0.8978\n",
      "Epoch 35/100\n",
      "1347/1347 [==============================] - 0s 27us/step - loss: 0.2209 - acc: 0.9399 - val_loss: 0.3500 - val_acc: 0.9044\n",
      "Epoch 36/100\n",
      "1347/1347 [==============================] - 0s 26us/step - loss: 0.2118 - acc: 0.9421 - val_loss: 0.3332 - val_acc: 0.9111\n",
      "Epoch 37/100\n",
      "1347/1347 [==============================] - 0s 26us/step - loss: 0.2093 - acc: 0.9406 - val_loss: 0.3339 - val_acc: 0.9133\n",
      "Epoch 38/100\n",
      "1347/1347 [==============================] - 0s 24us/step - loss: 0.2014 - acc: 0.9436 - val_loss: 0.3306 - val_acc: 0.9200\n",
      "Epoch 39/100\n",
      "1347/1347 [==============================] - 0s 25us/step - loss: 0.1970 - acc: 0.9473 - val_loss: 0.3230 - val_acc: 0.9111\n",
      "Epoch 40/100\n",
      "1347/1347 [==============================] - 0s 25us/step - loss: 0.1916 - acc: 0.9488 - val_loss: 0.3195 - val_acc: 0.9133\n",
      "Epoch 41/100\n",
      "1347/1347 [==============================] - 0s 26us/step - loss: 0.1882 - acc: 0.9473 - val_loss: 0.3342 - val_acc: 0.9022\n",
      "Epoch 42/100\n",
      "1347/1347 [==============================] - 0s 24us/step - loss: 0.1841 - acc: 0.9488 - val_loss: 0.3096 - val_acc: 0.9222\n",
      "Epoch 43/100\n",
      "1347/1347 [==============================] - 0s 26us/step - loss: 0.1799 - acc: 0.9517 - val_loss: 0.3056 - val_acc: 0.9222\n",
      "Epoch 44/100\n",
      "1347/1347 [==============================] - 0s 24us/step - loss: 0.1759 - acc: 0.9525 - val_loss: 0.3087 - val_acc: 0.9267\n",
      "Epoch 45/100\n",
      "1347/1347 [==============================] - 0s 25us/step - loss: 0.1745 - acc: 0.9532 - val_loss: 0.3198 - val_acc: 0.9244\n",
      "Epoch 46/100\n",
      "1347/1347 [==============================] - 0s 25us/step - loss: 0.1691 - acc: 0.9532 - val_loss: 0.3070 - val_acc: 0.9289\n",
      "Epoch 47/100\n",
      "1347/1347 [==============================] - 0s 26us/step - loss: 0.1629 - acc: 0.9562 - val_loss: 0.3300 - val_acc: 0.9178\n",
      "Epoch 48/100\n",
      "1347/1347 [==============================] - 0s 25us/step - loss: 0.1594 - acc: 0.9577 - val_loss: 0.3034 - val_acc: 0.9333\n",
      "Epoch 49/100\n",
      "1347/1347 [==============================] - 0s 25us/step - loss: 0.1543 - acc: 0.9569 - val_loss: 0.3099 - val_acc: 0.9289\n",
      "Epoch 50/100\n",
      "1347/1347 [==============================] - 0s 25us/step - loss: 0.1530 - acc: 0.9584 - val_loss: 0.2987 - val_acc: 0.9333\n",
      "Epoch 51/100\n",
      "1347/1347 [==============================] - 0s 25us/step - loss: 0.1493 - acc: 0.9577 - val_loss: 0.3195 - val_acc: 0.9200\n",
      "Epoch 52/100\n",
      "1347/1347 [==============================] - 0s 25us/step - loss: 0.1432 - acc: 0.9621 - val_loss: 0.3103 - val_acc: 0.9244\n",
      "Epoch 53/100\n",
      "1347/1347 [==============================] - 0s 24us/step - loss: 0.1434 - acc: 0.9599 - val_loss: 0.3121 - val_acc: 0.9289\n",
      "Epoch 54/100\n",
      "1347/1347 [==============================] - 0s 26us/step - loss: 0.1382 - acc: 0.9621 - val_loss: 0.3182 - val_acc: 0.9222\n",
      "Epoch 55/100\n",
      "1347/1347 [==============================] - 0s 24us/step - loss: 0.1357 - acc: 0.9651 - val_loss: 0.3072 - val_acc: 0.9356\n",
      "Epoch 56/100\n",
      "1347/1347 [==============================] - 0s 27us/step - loss: 0.1349 - acc: 0.9607 - val_loss: 0.3043 - val_acc: 0.9333\n",
      "Epoch 57/100\n",
      "1347/1347 [==============================] - 0s 24us/step - loss: 0.1286 - acc: 0.9636 - val_loss: 0.3043 - val_acc: 0.9333\n",
      "Epoch 58/100\n"
     ]
    },
    {
     "name": "stdout",
     "output_type": "stream",
     "text": [
      "1347/1347 [==============================] - 0s 27us/step - loss: 0.1271 - acc: 0.9673 - val_loss: 0.3094 - val_acc: 0.9333\n",
      "Epoch 59/100\n",
      "1347/1347 [==============================] - 0s 25us/step - loss: 0.1251 - acc: 0.9644 - val_loss: 0.3622 - val_acc: 0.9000\n",
      "Epoch 60/100\n",
      "1347/1347 [==============================] - 0s 23us/step - loss: 0.1241 - acc: 0.9666 - val_loss: 0.2962 - val_acc: 0.9289\n",
      "Epoch 61/100\n",
      "1347/1347 [==============================] - 0s 23us/step - loss: 0.1198 - acc: 0.9636 - val_loss: 0.3139 - val_acc: 0.9333\n",
      "Epoch 62/100\n",
      "1347/1347 [==============================] - 0s 22us/step - loss: 0.1183 - acc: 0.9703 - val_loss: 0.3106 - val_acc: 0.9311\n",
      "Epoch 63/100\n",
      "1347/1347 [==============================] - 0s 23us/step - loss: 0.1150 - acc: 0.9659 - val_loss: 0.3300 - val_acc: 0.9222\n",
      "Epoch 64/100\n",
      "1347/1347 [==============================] - 0s 23us/step - loss: 0.1090 - acc: 0.9718 - val_loss: 0.2910 - val_acc: 0.9333\n",
      "Epoch 65/100\n",
      "1347/1347 [==============================] - 0s 23us/step - loss: 0.1080 - acc: 0.9703 - val_loss: 0.3044 - val_acc: 0.9244\n",
      "Epoch 66/100\n",
      "1347/1347 [==============================] - 0s 24us/step - loss: 0.1060 - acc: 0.9703 - val_loss: 0.2931 - val_acc: 0.9311\n",
      "Epoch 67/100\n",
      "1347/1347 [==============================] - 0s 23us/step - loss: 0.1032 - acc: 0.9725 - val_loss: 0.2828 - val_acc: 0.9333\n",
      "Epoch 68/100\n",
      "1347/1347 [==============================] - 0s 23us/step - loss: 0.1050 - acc: 0.9740 - val_loss: 0.2920 - val_acc: 0.9311\n",
      "Epoch 69/100\n",
      "1347/1347 [==============================] - 0s 23us/step - loss: 0.0990 - acc: 0.9710 - val_loss: 0.2996 - val_acc: 0.9333\n",
      "Epoch 70/100\n",
      "1347/1347 [==============================] - 0s 23us/step - loss: 0.0998 - acc: 0.9748 - val_loss: 0.2978 - val_acc: 0.9311\n",
      "Epoch 71/100\n",
      "1347/1347 [==============================] - 0s 24us/step - loss: 0.0961 - acc: 0.9762 - val_loss: 0.2915 - val_acc: 0.9289\n",
      "Epoch 72/100\n",
      "1347/1347 [==============================] - 0s 25us/step - loss: 0.0956 - acc: 0.9762 - val_loss: 0.3012 - val_acc: 0.9378\n",
      "Epoch 73/100\n",
      "1347/1347 [==============================] - 0s 24us/step - loss: 0.0941 - acc: 0.9777 - val_loss: 0.3149 - val_acc: 0.9267\n",
      "Epoch 74/100\n",
      "1347/1347 [==============================] - 0s 24us/step - loss: 0.0905 - acc: 0.9762 - val_loss: 0.3001 - val_acc: 0.9311\n",
      "Epoch 75/100\n",
      "1347/1347 [==============================] - 0s 25us/step - loss: 0.0906 - acc: 0.9762 - val_loss: 0.2893 - val_acc: 0.9289\n",
      "Epoch 76/100\n",
      "1347/1347 [==============================] - 0s 23us/step - loss: 0.0876 - acc: 0.9785 - val_loss: 0.3090 - val_acc: 0.9311\n",
      "Epoch 77/100\n",
      "1347/1347 [==============================] - 0s 23us/step - loss: 0.0870 - acc: 0.9785 - val_loss: 0.2965 - val_acc: 0.9356\n",
      "Epoch 78/100\n",
      "1347/1347 [==============================] - 0s 24us/step - loss: 0.0848 - acc: 0.9792 - val_loss: 0.3098 - val_acc: 0.9311\n",
      "Epoch 79/100\n",
      "1347/1347 [==============================] - 0s 24us/step - loss: 0.0845 - acc: 0.9800 - val_loss: 0.3113 - val_acc: 0.9222\n",
      "Epoch 80/100\n",
      "1347/1347 [==============================] - 0s 23us/step - loss: 0.0798 - acc: 0.9777 - val_loss: 0.3025 - val_acc: 0.9333\n",
      "Epoch 81/100\n",
      "1347/1347 [==============================] - 0s 24us/step - loss: 0.0813 - acc: 0.9762 - val_loss: 0.3206 - val_acc: 0.9267\n",
      "Epoch 82/100\n",
      "1347/1347 [==============================] - 0s 23us/step - loss: 0.0802 - acc: 0.9792 - val_loss: 0.3337 - val_acc: 0.9289\n",
      "Epoch 83/100\n",
      "1347/1347 [==============================] - 0s 23us/step - loss: 0.0754 - acc: 0.9807 - val_loss: 0.3222 - val_acc: 0.9289\n",
      "Epoch 84/100\n",
      "1347/1347 [==============================] - 0s 23us/step - loss: 0.0769 - acc: 0.9777 - val_loss: 0.3014 - val_acc: 0.9400\n",
      "Epoch 85/100\n",
      "1347/1347 [==============================] - 0s 22us/step - loss: 0.0746 - acc: 0.9792 - val_loss: 0.3009 - val_acc: 0.9333\n",
      "Epoch 86/100\n",
      "1347/1347 [==============================] - 0s 23us/step - loss: 0.0733 - acc: 0.9814 - val_loss: 0.2979 - val_acc: 0.9333\n",
      "Epoch 87/100\n",
      "1347/1347 [==============================] - 0s 24us/step - loss: 0.0720 - acc: 0.9822 - val_loss: 0.3102 - val_acc: 0.9400\n",
      "Epoch 88/100\n",
      "1347/1347 [==============================] - 0s 22us/step - loss: 0.0711 - acc: 0.9814 - val_loss: 0.3167 - val_acc: 0.9333\n",
      "Epoch 89/100\n",
      "1347/1347 [==============================] - 0s 26us/step - loss: 0.0701 - acc: 0.9829 - val_loss: 0.3099 - val_acc: 0.9356\n",
      "Epoch 90/100\n",
      "1347/1347 [==============================] - 0s 23us/step - loss: 0.0668 - acc: 0.9800 - val_loss: 0.3049 - val_acc: 0.9333\n",
      "Epoch 91/100\n",
      "1347/1347 [==============================] - 0s 24us/step - loss: 0.0690 - acc: 0.9807 - val_loss: 0.3136 - val_acc: 0.9356\n",
      "Epoch 92/100\n",
      "1347/1347 [==============================] - 0s 23us/step - loss: 0.0661 - acc: 0.9814 - val_loss: 0.3292 - val_acc: 0.9267\n",
      "Epoch 93/100\n",
      "1347/1347 [==============================] - 0s 25us/step - loss: 0.0645 - acc: 0.9800 - val_loss: 0.3133 - val_acc: 0.9400\n",
      "Epoch 94/100\n",
      "1347/1347 [==============================] - 0s 24us/step - loss: 0.0638 - acc: 0.9829 - val_loss: 0.3130 - val_acc: 0.9400\n",
      "Epoch 95/100\n",
      "1347/1347 [==============================] - 0s 24us/step - loss: 0.0630 - acc: 0.9829 - val_loss: 0.3096 - val_acc: 0.9422\n",
      "Epoch 96/100\n",
      "1347/1347 [==============================] - 0s 24us/step - loss: 0.0625 - acc: 0.9829 - val_loss: 0.3190 - val_acc: 0.9422\n",
      "Epoch 97/100\n",
      "1347/1347 [==============================] - 0s 23us/step - loss: 0.0613 - acc: 0.9800 - val_loss: 0.3143 - val_acc: 0.9400\n",
      "Epoch 98/100\n",
      "1347/1347 [==============================] - 0s 23us/step - loss: 0.0583 - acc: 0.9844 - val_loss: 0.3128 - val_acc: 0.9289\n",
      "Epoch 99/100\n",
      "1347/1347 [==============================] - 0s 22us/step - loss: 0.0591 - acc: 0.9829 - val_loss: 0.3085 - val_acc: 0.9422\n",
      "Epoch 100/100\n",
      "1347/1347 [==============================] - 0s 25us/step - loss: 0.0580 - acc: 0.9829 - val_loss: 0.3201 - val_acc: 0.9356\n"
     ]
    }
   ],
   "source": [
    "X, Y = sklearn.datasets.load_digits(return_X_y=True) \n",
    "X_train, X_test, Y_train, Y_test = train_test_split(X, Y)\n",
    "# Convert labels to categorical one-hot encoding\n",
    "Y_train_one_hot = keras.utils.to_categorical(Y_train, num_classes=Y.max() + 1)\n",
    "Y_test_one_hot = keras.utils.to_categorical(Y_test, num_classes=Y.max() + 1)\n",
    "# an empty model\n",
    "model = Sequential()\n",
    "num_hidden = 10\n",
    "\n",
    "# a one layer neural network \n",
    "model.add(Dense(num_hidden, activation='relu')) \n",
    "model.add(Dense(num_classes, activation='softmax')) \n",
    "model.compile(optimizer='rmsprop',\n",
    "              loss='categorical_crossentropy',\n",
    "              metrics=['accuracy'])\n",
    "# Train the model, iterating on the data in batches of 32 samples\n",
    "history = model.fit(X_train, Y_train_one_hot, epochs=100, batch_size=32, validation_data=(X_test, Y_test_one_hot))"
   ]
  },
  {
   "cell_type": "code",
   "execution_count": 15,
   "metadata": {
    "scrolled": true
   },
   "outputs": [
    {
     "data": {
      "text/plain": [
       "<matplotlib.legend.Legend at 0x142428320>"
      ]
     },
     "execution_count": 15,
     "metadata": {},
     "output_type": "execute_result"
    },
    {
     "data": {
      "image/png": "[encoded data removed]",
      "text/plain": [
       "<Figure size 432x288 with 1 Axes>"
      ]
     },
     "metadata": {
      "needs_background": "light"
     },
     "output_type": "display_data"
    }
   ],
   "source": [
    "plt.plot(history.history['val_acc'])\n",
    "plt.plot(history.history['acc'])\n",
    "plt.legend(['val','train'])"
   ]
  },
  {
   "cell_type": "markdown",
   "metadata": {
    "slideshow": {
     "slide_type": "slide"
    }
   },
   "source": [
    "# Classifying Images with Pretrained Convolutional Networks\n",
    "\n",
    "Convolutional Networks are State-of-the-art in computer vision. \n",
    "\n",
    "You can use networks pretrained on the [imagenet](http://www.image-net.org/) dataset to predict classes contained in that dataset."
   ]
  },
  {
   "cell_type": "code",
   "execution_count": 3,
   "metadata": {
    "slideshow": {
     "slide_type": "slide"
    }
   },
   "outputs": [],
   "source": [
    "#!pip install image\n",
    "from keras.preprocessing import image\n",
    "from keras.applications.mobilenet_v2 import MobileNetV2, preprocess_input, decode_predictions\n",
    "import numpy as np\n",
    "\n",
    "# the pretrained model, trained on imagenet\n",
    "model = MobileNetV2(weights='imagenet')\n",
    "\n",
    "def predict_with_imagenet_model(img_path, model=model):\n",
    "\n",
    "    img = image.load_img(img_path, target_size=(224, 224))\n",
    "    x = image.img_to_array(img)\n",
    "    x = np.expand_dims(x, axis=0)\n",
    "    x = preprocess_input(x)\n",
    "\n",
    "    preds = model.predict(x)\n",
    "    # decode the results into a list of tuples (class, description, probability)\n",
    "    # (one such list for each sample in the batch)\n",
    "    return decode_predictions(preds, top=3)[0]\n"
   ]
  },
  {
   "cell_type": "markdown",
   "metadata": {
    "slideshow": {
     "slide_type": "slide"
    }
   },
   "source": [
    "![](figures/cat.jpg)"
   ]
  },
  {
   "cell_type": "code",
   "execution_count": 5,
   "metadata": {
    "slideshow": {
     "slide_type": "slide"
    }
   },
   "outputs": [
    {
     "data": {
      "text/plain": [
       "[('n02497673', 'Madagascar_cat', 0.20027561),\n",
       " ('n01877812', 'wallaby', 0.14116618),\n",
       " ('n02124075', 'Egyptian_cat', 0.13832565)]"
      ]
     },
     "execution_count": 5,
     "metadata": {},
     "output_type": "execute_result"
    }
   ],
   "source": [
    "predict_with_imagenet_model('figures/cat.jpg')"
   ]
  },
  {
   "cell_type": "markdown",
   "metadata": {
    "slideshow": {
     "slide_type": "slide"
    }
   },
   "source": [
    "![](figures/cat_butterfly.jpg)"
   ]
  },
  {
   "cell_type": "code",
   "execution_count": 8,
   "metadata": {
    "slideshow": {
     "slide_type": "slide"
    }
   },
   "outputs": [
    {
     "data": {
      "text/plain": [
       "[('n02441942', 'weasel', 0.043041687),\n",
       " ('n02120079', 'Arctic_fox', 0.037492126),\n",
       " ('n02497673', 'Madagascar_cat', 0.02606236)]"
      ]
     },
     "execution_count": 8,
     "metadata": {},
     "output_type": "execute_result"
    }
   ],
   "source": [
    "predict_with_imagenet_model('figures/cat_butterfly.jpg')"
   ]
  }
 ],
 "metadata": {
  "anaconda-cloud": {},
  "celltoolbar": "Slideshow",
  "kernelspec": {
   "display_name": "Python 3",
   "language": "python",
   "name": "python3"
  },
  "language_info": {
   "codemirror_mode": {
    "name": "ipython",
    "version": 3
   },
   "file_extension": ".py",
   "mimetype": "text/x-python",
   "name": "python",
   "nbconvert_exporter": "python",
   "pygments_lexer": "ipython3",
   "version": "3.7.3"
  }
 },
 "nbformat": 4,
 "nbformat_minor": 1
}
