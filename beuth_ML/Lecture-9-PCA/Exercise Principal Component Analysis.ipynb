{
 "cells": [
  {
   "cell_type": "markdown",
   "metadata": {},
   "source": [
    "# Principal Component Analysis of Height and Weight Data\n",
    "\n",
    "Weight and height are strongly correlated. \n",
    "\n",
    "But men and women have different weights heights. \n",
    "\n",
    "In this exercise you will investigate what information PCA extracts. "
   ]
  },
  {
   "cell_type": "code",
   "execution_count": 4,
   "metadata": {
    "scrolled": true
   },
   "outputs": [
    {
     "data": {
      "image/png": "[encoded data removed]",
      "text/plain": [
       "<Figure size 432x288 with 1 Axes>"
      ]
     },
     "metadata": {
      "needs_background": "light"
     },
     "output_type": "display_data"
    }
   ],
   "source": [
    "import matplotlib.pyplot as pl\n",
    "import pandas as pd\n",
    "%matplotlib inline\n",
    "\n",
    "df = pd.read_csv('weights-heights-metric.csv')\n",
    "\n",
    "pl.plot(df.loc[df['Gender']=='Male', 'Height'], df.loc[df['Gender']=='Male', 'Weight'],'bo',\n",
    "        df.loc[df['Gender']=='Female', 'Height'], df.loc[df['Gender']=='Female', 'Weight'],'ro')\n",
    "pl.xlabel('Height (cm)')\n",
    "pl.ylabel('Weight (kg)')\n",
    "pl.legend(['Male','Female']);"
   ]
  },
  {
   "cell_type": "markdown",
   "metadata": {},
   "source": [
    "# Assignment 1: \n",
    "\n",
    "Compute PCA on a data set of weight and height of men and women. \n",
    "\n",
    "Plot the principal components of the data.\n",
    "\n",
    "Which variance is captured by each principal component? "
   ]
  },
  {
   "cell_type": "code",
   "execution_count": 106,
   "metadata": {},
   "outputs": [],
   "source": [
    "import numpy as np\n",
    "import scipy as sp\n",
    "\n",
    "def pca(X, ncomp=2):\n",
    "    # subtract the mean\n",
    "    mu = ...\n",
    "    Xcentered = ...\n",
    "    # compute covariance matrix\n",
    "    C = ...\n",
    "    # compute eigenvectors of covariance matrix\n",
    "    V, U = np.linalg.eig(C)\n",
    "    return (Xcentered @ U)\n"
   ]
  },
  {
   "cell_type": "code",
   "execution_count": null,
   "metadata": {},
   "outputs": [],
   "source": [
    "# perform PCA\n",
    "X = df[['Heights','Weight']]\n",
    "Xpca = pca(X)\n",
    "\n",
    "# plot data in PCA space\n",
    "pl.plot(Xpca[df['Gender']=='Male',0],Xpca[df['Gender']=='Male',1],'bo',\n",
    "       Xpca[df['Gender']=='Female',0],Xpca[df['Gender']=='Female',1],'ro')\n",
    "pl.xlabel('PC 1')\n",
    "pl.ylabel('PC 2')\n",
    "pl.legend(['Male','Female'])"
   ]
  },
  {
   "cell_type": "markdown",
   "metadata": {},
   "source": [
    "# Assignment 2: \n",
    "\n",
    "Compute the covariance matrix of the original data. \n",
    "\n",
    "Compute the covariance matrix of the data in the PCA space. \n",
    "\n",
    "Print the covariance of the first and second dimension of the original and the PCA space. "
   ]
  },
  {
   "cell_type": "code",
   "execution_count": null,
   "metadata": {},
   "outputs": [],
   "source": [
    "C = ...\n",
    "Cpca = ...\n",
    "print(f\"Cov width/height: {C[0,1]}\\nCov first PC/second PC {Cpca[0,1]}\")"
   ]
  }
 ],
 "metadata": {
  "kernelspec": {
   "display_name": "Python 3",
   "language": "python",
   "name": "python3"
  },
  "language_info": {
   "codemirror_mode": {
    "name": "ipython",
    "version": 3
   },
   "file_extension": ".py",
   "mimetype": "text/x-python",
   "name": "python",
   "nbconvert_exporter": "python",
   "pygments_lexer": "ipython3",
   "version": "3.7.3"
  }
 },
 "nbformat": 4,
 "nbformat_minor": 2
}
