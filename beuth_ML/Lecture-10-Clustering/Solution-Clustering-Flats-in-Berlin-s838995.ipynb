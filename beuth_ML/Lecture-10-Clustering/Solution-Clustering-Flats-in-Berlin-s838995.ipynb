{
 "cells": [
  {
   "cell_type": "markdown",
   "metadata": {},
   "source": [
    "# Clustering Exercise\n",
    "\n",
    "In this exercise you will use a data set crawled from immobilienscout24.de to cluster flats in Berlin. \n",
    "\n",
    "First let's load the data and install a package for plotting on a map. "
   ]
  },
  {
   "cell_type": "code",
   "execution_count": 5,
   "metadata": {},
   "outputs": [],
   "source": [
    "import pandas as pd\n",
    "\n",
    "df_is = pd.read_csv('mietwohnungen.csv').dropna(subset=['lat','lng'], how='any')\n",
    "# some data cleaning\n",
    "df_is['lat'] = df_is['lat'].str.strip(\",\").astype(float)\n",
    "# for price\n",
    "# df_is['is24qa_kaltmiete'] = df_is['is24qa_kaltmiete'].apply(lambda x: x.split(',')[0].replace('.','').replace('€','')).astype(float)\n",
    "# X = df_is[['lat','lng','is24qa_kaltmiete']]\n",
    "# X\n",
    "# df_is\n",
    "X = df_is[['lat','lng']]"
   ]
  },
  {
   "cell_type": "markdown",
   "metadata": {},
   "source": [
    "Now let's learn a clustering with sklearn's ``MiniBatchKMeans`` and compute the cluster assignments for all data points."
   ]
  },
  {
   "cell_type": "code",
   "execution_count": 9,
   "metadata": {},
   "outputs": [],
   "source": [
    "from sklearn.cluster import MiniBatchKMeans\n",
    "# we'll look at 12 clusters - feel free to change that\n",
    "n_clusters = 12\n",
    "# IMPLEMENT YOUR CODE HERE\n",
    "# TRAIN A KMEANS MODEL\n",
    "km_is = MiniBatchKMeans(n_clusters=n_clusters).fit(X)\n",
    "# PREDICT CLUSTERS WITH THAT MODEL HERE\n",
    "df_is['cluster_assignment'] = km_is.predict(X)"
   ]
  },
  {
   "cell_type": "markdown",
   "metadata": {},
   "source": [
    "Now let's plot the predictions on the Berlin map."
   ]
  },
  {
   "cell_type": "code",
   "execution_count": 10,
   "metadata": {},
   "outputs": [
    {
     "data": {
      "text/html": [
       "\n",
       "        <iframe\n",
       "            width=\"700\"\n",
       "            height=\"600\"\n",
       "            src=\"./flat_clusters.html\"\n",
       "            frameborder=\"0\"\n",
       "            allowfullscreen\n",
       "        ></iframe>\n",
       "        "
      ],
      "text/plain": [
       "<IPython.lib.display.IFrame at 0x7fc1ff733f28>"
      ]
     },
     "execution_count": 10,
     "metadata": {},
     "output_type": "execute_result"
    }
   ],
   "source": [
    "# uncomment the next line to install the folium package for plotting maps\n",
    "# !pip install folium\n",
    "import folium\n",
    "from matplotlib import colors as mcolors\n",
    "# some dark colors without gray/grey\n",
    "colors = [c for c in list(mcolors.CSS4_COLORS.keys()) if 'dark' in c][6:]\n",
    "\n",
    "# the initial map, centered at Beuth\n",
    "m = folium.Map(location=[52.545195, 13.354670], tiles='Stamen Toner', zoom_start=10)\n",
    "\n",
    "# add the flats and the cluster centers to the map\n",
    "for cluster_id in range(len(df_is['cluster_assignment'].unique())):\n",
    "    this_cluster_idx = df_is['cluster_assignment']==cluster_id\n",
    "    this_cluster_lat_lng = df_is.loc[this_cluster_idx, ['lat','lng']].values\n",
    "    for lat, lng in this_cluster_lat_lng:\n",
    "        folium.CircleMarker(\n",
    "        radius=2,\n",
    "        location=[lat, lng],\n",
    "        color=colors[cluster_id],\n",
    "        fill=False,\n",
    "        ).add_to(m)\n",
    "    \n",
    "    folium.CircleMarker(\n",
    "        # for price classification \n",
    "        # location=km_is.cluster_centers_[cluster_id,:2],\n",
    "        location=km_is.cluster_centers_[cluster_id,:],\n",
    "        radius=10,\n",
    "        color=colors[cluster_id],\n",
    "        fill=True,\n",
    "    ).add_to(m)\n",
    "\n",
    "m.save('flat_clusters.html')\n",
    "\n",
    "from IPython.display import IFrame\n",
    "\n",
    "IFrame(src='./flat_clusters.html', width=700, height=600)"
   ]
  },
  {
   "cell_type": "code",
   "execution_count": null,
   "metadata": {},
   "outputs": [],
   "source": []
  }
 ],
 "metadata": {
  "kernelspec": {
   "display_name": "Python 3",
   "language": "python",
   "name": "python3"
  },
  "language_info": {
   "codemirror_mode": {
    "name": "ipython",
    "version": 3
   },
   "file_extension": ".py",
   "mimetype": "text/x-python",
   "name": "python",
   "nbconvert_exporter": "python",
   "pygments_lexer": "ipython3",
   "version": "3.6.7"
  }
 },
 "nbformat": 4,
 "nbformat_minor": 2
}
