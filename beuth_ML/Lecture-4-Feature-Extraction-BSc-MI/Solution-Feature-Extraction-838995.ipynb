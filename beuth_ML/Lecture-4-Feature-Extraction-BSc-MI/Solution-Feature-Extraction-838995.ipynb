{
 "cells": [
  {
   "cell_type": "markdown",
   "metadata": {},
   "source": [
    "# Assignment 1 - Normalizing Continuous Features\n",
    "\n",
    "Consider data drawn from a 2 dimensional Normal distribution. \n",
    "Normalize the data by first subtracting the mean from each dimension and then divide the result by its respective standard deviation. "
   ]
  },
  {
   "cell_type": "code",
   "execution_count": 1,
   "metadata": {},
   "outputs": [
    {
     "data": {
      "text/plain": [
       "(-10, 10)"
      ]
     },
     "execution_count": 1,
     "metadata": {},
     "output_type": "execute_result"
    },
    {
     "data": {
      "image/png": "[encoded data removed]",
      "text/plain": [
       "<Figure size 432x288 with 1 Axes>"
      ]
     },
     "metadata": {
      "needs_background": "light"
     },
     "output_type": "display_data"
    }
   ],
   "source": [
    "import matplotlib.pylab as plt\n",
    "import numpy as np\n",
    "from numpy.random import multivariate_normal as mvn\n",
    "%matplotlib inline\n",
    "\n",
    "# generates some toy data\n",
    "mu = np.array([0,3])\n",
    "C = np.array([[5.,4.],[4.,5.]])\n",
    "X = mvn(mu,C,100)\n",
    "\n",
    "# plot the data\n",
    "plt.plot(X[:,0], X[:,1], '.')\n",
    "plt.grid()\n",
    "lim = [-10, 10]\n",
    "plt.xlim(lim)\n",
    "plt.ylim(lim)"
   ]
  },
  {
   "cell_type": "code",
   "execution_count": 2,
   "metadata": {},
   "outputs": [
    {
     "data": {
      "text/plain": [
       "array([0.28048144, 3.06420142])"
      ]
     },
     "execution_count": 2,
     "metadata": {},
     "output_type": "execute_result"
    }
   ],
   "source": [
    "mu = X.mean(axis=0)\n",
    "mu"
   ]
  },
  {
   "cell_type": "code",
   "execution_count": 3,
   "metadata": {
    "scrolled": true
   },
   "outputs": [
    {
     "data": {
      "text/plain": [
       "array([2.04122362, 1.98903879])"
      ]
     },
     "execution_count": 3,
     "metadata": {},
     "output_type": "execute_result"
    }
   ],
   "source": [
    "stdev = X.std(axis=0)\n",
    "stdev"
   ]
  },
  {
   "cell_type": "code",
   "execution_count": 4,
   "metadata": {},
   "outputs": [],
   "source": [
    "Xnormalized = (X - mu) / stdev"
   ]
  },
  {
   "cell_type": "code",
   "execution_count": 5,
   "metadata": {},
   "outputs": [
    {
     "data": {
      "text/plain": [
       "(-10, 10)"
      ]
     },
     "execution_count": 5,
     "metadata": {},
     "output_type": "execute_result"
    },
    {
     "data": {
      "image/png": "[encoded data removed]",
      "text/plain": [
       "<Figure size 432x288 with 1 Axes>"
      ]
     },
     "metadata": {
      "needs_background": "light"
     },
     "output_type": "display_data"
    }
   ],
   "source": [
    "# plot the data\n",
    "plt.plot(Xnormalized[:,0], Xnormalized[:,1], '.')\n",
    "plt.grid()\n",
    "lim = [-10, 10]\n",
    "plt.xlim(lim)\n",
    "plt.ylim(lim)"
   ]
  },
  {
   "cell_type": "markdown",
   "metadata": {},
   "source": [
    "# Assignment 2 - One-Hot Encoding\n",
    "\n",
    "Consider the data set ['blue', 'yellow', 'blue', 'green', 'red', 'yellow']\n",
    "\n",
    "Write a function ``one_hot_encoding`` that takes a list of strings like the above and returns a samples-by-unique-items numpy array in which each row corresponds to the one-hot-encoded version of the respective data point in the original list."
   ]
  },
  {
   "cell_type": "code",
   "execution_count": 6,
   "metadata": {},
   "outputs": [],
   "source": [
    "data = ['blue', 'yellow', 'blue', 'green', 'red', 'yellow']"
   ]
  },
  {
   "cell_type": "code",
   "execution_count": 7,
   "metadata": {},
   "outputs": [],
   "source": [
    "def one_hot_encoding(string_list):\n",
    "    # hold all class tupes in one array\n",
    "    uniqueClass = np.unique(string_list)\n",
    "    # enumerate each class\n",
    "    # class_type = enumerate(uniqueClass)\n",
    "    \n",
    "    # how many different classes == columns in the result array\n",
    "    numClasses = len(uniqueClass)\n",
    "    # how many input values == rows in result array\n",
    "    numberOfInputVal = len(string_list)\n",
    "    # create array with diagonal ones\n",
    "    EncodedClasses = np.identity(numClasses)\n",
    "    \n",
    "    # print classes and encoded class array\n",
    "    #print (uniqueClass, numClasses)\n",
    "    #print('encoded class array: ', EncodedClasses)\n",
    "    \n",
    "    # create result array of correct size\n",
    "    oneHotResult = np.zeros ((numberOfInputVal,numClasses))\n",
    "    #print(oneHotResult)\n",
    "    \n",
    "    for idx, class_type in enumerate(string_list):\n",
    "        #print(class_type)\n",
    "        val = np.where(uniqueClass == class_type)\n",
    "        #print(val[0])\n",
    "        # overwrite each row with code\n",
    "        oneHotResult[idx,:] = EncodedClasses[val[0],:]\n",
    "\n",
    "    return oneHotResult"
   ]
  },
  {
   "cell_type": "code",
   "execution_count": 8,
   "metadata": {
    "scrolled": true
   },
   "outputs": [
    {
     "data": {
      "text/plain": [
       "array([[1., 0., 0., 0.],\n",
       "       [0., 0., 0., 1.],\n",
       "       [1., 0., 0., 0.],\n",
       "       [0., 1., 0., 0.],\n",
       "       [0., 0., 1., 0.],\n",
       "       [0., 0., 0., 1.]])"
      ]
     },
     "execution_count": 8,
     "metadata": {},
     "output_type": "execute_result"
    }
   ],
   "source": [
    "one_hot_encoded_data = one_hot_encoding(data)\n",
    "one_hot_encoded_data"
   ]
  },
  {
   "cell_type": "code",
   "execution_count": 9,
   "metadata": {},
   "outputs": [],
   "source": [
    "# tests whether the first row encoding is the same as the third\n",
    "assert (one_hot_encoded_data[0,:] - one_hot_encoded_data[2,:]).sum() == 0\n",
    "# tests whether the second row encoding is the same as the last\n",
    "assert (one_hot_encoded_data[1,:] - one_hot_encoded_data[-1,:]).sum() == 0\n",
    "# tests whether each row has only one non-zero entry\n",
    "assert (one_hot_encoded_data.sum(axis=1) - np.ones(one_hot_encoded_data.shape[0])).sum() == 0"
   ]
  },
  {
   "cell_type": "markdown",
   "metadata": {},
   "source": [
    "# Assignment 3 - Bag-of-Words Features\n",
    "\n",
    "Consider the following data set\n",
    "\n",
    "```python\n",
    "corpus = [\n",
    "     'This is the first document.',\n",
    "     'This document is the second document.',\n",
    "     'And this is the third one.',\n",
    "     'Is this the first document?']\n",
    "```\n",
    "\n",
    "Implement a function ``bag_of_words`` that takes a list of sentences as strings and transforms them into a (preferably sparse) numpy array of size number-of-data-points-by-number-of-words-in-the-corpus.\n",
    "\n",
    "Compare your result with the result from [sklearn.feature_extraction.text.CountVectorizer](https://scikit-learn.org/stable/modules/generated/sklearn.feature_extraction.text.CountVectorizer.html)"
   ]
  },
  {
   "cell_type": "code",
   "execution_count": 10,
   "metadata": {},
   "outputs": [],
   "source": [
    "corpus = [\n",
    "     'This is the first document.',\n",
    "     'This document is the second document.',\n",
    "     'And this is the third one.',\n",
    "     'Is this the first document?']"
   ]
  },
  {
   "cell_type": "code",
   "execution_count": 11,
   "metadata": {},
   "outputs": [],
   "source": [
    "import re \n",
    "\n",
    "def bag_of_words(corpus):\n",
    "    #print(corpus)\n",
    "    seperator = ' '\n",
    "    nosep = seperator.join(corpus)\n",
    "    res = re.findall(r'\\w+', nosep) \n",
    "    #print(res)\n",
    "    valsLower = [item.lower() for item in res]\n",
    "    #print(valsLower)\n",
    "    # valsLower contains whole text in lower case\n",
    "    # now create the dictionary of sorted words\n",
    "    uniqueWords = np.unique(valsLower)\n",
    "    #print (uniqueWords)\n",
    "    \n",
    "    # output array\n",
    "    bag_of_words = np.zeros ((len(corpus),len(uniqueWords)))\n",
    "    #print(bag_of_words)\n",
    "    # now do the same for each line and count word histogram\n",
    "    # first strip symbols\n",
    "    \n",
    "    for idx,strLine in enumerate(corpus):\n",
    "        lettersOnly = re.findall(r'\\w+', strLine) \n",
    "        valsLower = [item.lower() for item in lettersOnly]\n",
    "        #print(valsLower)\n",
    "        # another for loop for each string\n",
    "        for word in valsLower:\n",
    "            #print(word)\n",
    "            val = np.where(uniqueWords == word)\n",
    "            #print(val)\n",
    "            #print(idx)\n",
    "            # add 1 to each histogram position\n",
    "            bag_of_words[idx,val[0]] += 1 \n",
    "    \n",
    "    #print(bag_of_words)\n",
    "    #word_histogram = ...\n",
    "    return bag_of_words"
   ]
  },
  {
   "cell_type": "code",
   "execution_count": 14,
   "metadata": {},
   "outputs": [
    {
     "name": "stdout",
     "output_type": "stream",
     "text": [
      "Arrays are identical, self made bag successful!\n",
      "self made bag: \n",
      " [[0. 1. 1. 1. 0. 0. 1. 0. 1.]\n",
      " [0. 2. 0. 1. 0. 1. 1. 0. 1.]\n",
      " [1. 0. 0. 1. 1. 0. 1. 1. 1.]\n",
      " [0. 1. 1. 1. 0. 0. 1. 0. 1.]]\n"
     ]
    }
   ],
   "source": [
    "my_bag = bag_of_words(corpus)\n",
    "\n",
    "# test\n",
    "from sklearn.feature_extraction.text import CountVectorizer\n",
    "vectorizer = CountVectorizer()\n",
    "X = vectorizer.fit_transform(corpus)\n",
    "# optional print\n",
    "#print(\"Vocabulary: {}\".format(vectorizer.get_feature_names()))\n",
    "vectorizerRes = X.toarray()\n",
    "\n",
    "if (np.array_equal(my_bag, vectorizerRes)):\n",
    "    print('Arrays are identical, self made bag successful!')\n",
    "else:\n",
    "    print('Arrays NOT identical!')\n",
    "\n",
    "print('self made bag: \\n',my_bag)"
   ]
  },
  {
   "cell_type": "code",
   "execution_count": null,
   "metadata": {},
   "outputs": [],
   "source": []
  },
  {
   "cell_type": "code",
   "execution_count": null,
   "metadata": {},
   "outputs": [],
   "source": []
  }
 ],
 "metadata": {
  "kernelspec": {
   "display_name": "Python 3",
   "language": "python",
   "name": "python3"
  },
  "language_info": {
   "codemirror_mode": {
    "name": "ipython",
    "version": 3
   },
   "file_extension": ".py",
   "mimetype": "text/x-python",
   "name": "python",
   "nbconvert_exporter": "python",
   "pygments_lexer": "ipython3",
   "version": "3.6.7"
  }
 },
 "nbformat": 4,
 "nbformat_minor": 2
}
