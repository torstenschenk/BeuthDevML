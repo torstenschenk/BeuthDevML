{
 "cells": [
  {
   "cell_type": "markdown",
   "metadata": {
    "slideshow": {
     "slide_type": "slide"
    }
   },
   "source": [
    "# Machine Learning \n",
    "\n",
    "Lecture 4\n",
    "\n",
    "Feature Extraction, Scikit Learn API, Model Evaluation"
   ]
  },
  {
   "cell_type": "markdown",
   "metadata": {
    "slideshow": {
     "slide_type": "slide"
    }
   },
   "source": [
    "# Overview\n",
    "\n",
    "- Feature Extraction\n",
    "\n",
    "- Scikit Learn API: Estimators, Pipelines\n",
    "\n",
    "- Model Evaluation\n"
   ]
  },
  {
   "cell_type": "markdown",
   "metadata": {
    "slideshow": {
     "slide_type": "slide"
    }
   },
   "source": [
    "# Machine Learning Pipelines\n",
    "\n",
    "![ml-pipeline-2.png](figures/ml-pipeline.png)"
   ]
  },
  {
   "cell_type": "markdown",
   "metadata": {
    "slideshow": {
     "slide_type": "slide"
    }
   },
   "source": [
    "# Scikit Learn API\n",
    "\n",
    "[Scikit Learn](https://scikit-learn.org) is a popular machine learning library. \n",
    "\n",
    "\n",
    "Its API was copied in many other libraries (e.g. spark.ml). \n",
    "\n",
    "\n",
    "It offers most feature transformations, ML models, metrics and many useful tools. \n"
   ]
  },
  {
   "cell_type": "markdown",
   "metadata": {
    "slideshow": {
     "slide_type": "slide"
    }
   },
   "source": [
    "## Estimators\n",
    "\n",
    "- implement ``set_params()`` and ``get_params()``\n",
    "- implement ``fit`` method\n",
    "- Examples for what ``fit`` does: \n",
    "    - [sklearn.feature_extraction.text.CountVectorizer](https://scikit-learn.org/stable/modules/generated/sklearn.feature_extraction.text.CountVectorizer.html): learns dictionary\n",
    "    - [sklearn.linear_model.Perceptron](https://scikit-learn.org/stable/modules/generated/sklearn.linear_model.Perceptron.html): learns weight vector\n",
    "    and Pipelines\n",
    "\n",
    "- implement ``transform`` method\n",
    "- Examples for what ``transform`` does: \n",
    "    - [sklearn.feature_extraction.text.CountVectorizer](https://scikit-learn.org/stable/modules/generated/sklearn.feature_extraction.text.CountVectorizer.html): extracts n-gram counts\n",
    "    - [sklearn.linear_model.Perceptron](https://scikit-learn.org/stable/modules/generated/sklearn.linear_model.Perceptron.html): projects data onto weight vector"
   ]
  },
  {
   "cell_type": "markdown",
   "metadata": {
    "slideshow": {
     "slide_type": "slide"
    }
   },
   "source": [
    "# Machine Learning Pipelines\n",
    "\n",
    "![ml-pipeline-2.png](figures/ml-pipeline-2.png)"
   ]
  },
  {
   "cell_type": "markdown",
   "metadata": {
    "slideshow": {
     "slide_type": "slide"
    }
   },
   "source": [
    "## Pipelines\n",
    "\n",
    "Estimators with standardized API can be chained in a Pipeline. \n",
    "\n",
    "This allows to chain all feature extraction and classification into one object\n",
    "\n",
    "Pipelines behave like Estimators themselves, with ``fit`` and ``transform`` methods\n",
    "\n",
    "All parameters of a Pipeline can be optimized jointly"
   ]
  },
  {
   "cell_type": "code",
   "execution_count": 1,
   "metadata": {
    "slideshow": {
     "slide_type": "fragment"
    }
   },
   "outputs": [
    {
     "data": {
      "text/plain": [
       "array([-1,  1,  1])"
      ]
     },
     "execution_count": 1,
     "metadata": {},
     "output_type": "execute_result"
    }
   ],
   "source": [
    "from sklearn.pipeline import Pipeline\n",
    "from sklearn.feature_extraction.text import CountVectorizer\n",
    "from sklearn.neighbors import NearestCentroid\n",
    "\n",
    "reviews = [ \n",
    "        \"This is a horrible movie\", \n",
    "        \"a great movie\",\n",
    "        \"a fantastic movie\",\n",
    "    ]\n",
    "sentiment = [-1, 1, 1]\n",
    "\n",
    "text_clf = Pipeline([('vect', CountVectorizer()),\n",
    "                     ('clf', NearestCentroid())])\n",
    "\n",
    "text_clf.fit(reviews, sentiment)\n",
    "\n",
    "text_clf.predict(reviews)"
   ]
  },
  {
   "cell_type": "code",
   "execution_count": 2,
   "metadata": {
    "slideshow": {
     "slide_type": "slide"
    }
   },
   "outputs": [
    {
     "data": {
      "text/plain": [
       "[('vect', CountVectorizer(analyzer='word', binary=False, decode_error='strict',\n",
       "          dtype=<class 'numpy.int64'>, encoding='utf-8', input='content',\n",
       "          lowercase=True, max_df=1.0, max_features=None, min_df=1,\n",
       "          ngram_range=(1, 1), preprocessor=None, stop_words=None,\n",
       "          strip_accents=None, token_pattern='(?u)\\\\b\\\\w\\\\w+\\\\b',\n",
       "          tokenizer=None, vocabulary=None)),\n",
       " ('clf', NearestCentroid(metric='euclidean', shrink_threshold=None))]"
      ]
     },
     "execution_count": 2,
     "metadata": {},
     "output_type": "execute_result"
    }
   ],
   "source": [
    "text_clf.steps"
   ]
  },
  {
   "cell_type": "code",
   "execution_count": 6,
   "metadata": {
    "slideshow": {
     "slide_type": "slide"
    }
   },
   "outputs": [
    {
     "data": {
      "text/plain": [
       "<3x6 sparse matrix of type '<class 'numpy.int64'>'\n",
       "\twith 8 stored elements in Compressed Sparse Row format>"
      ]
     },
     "execution_count": 6,
     "metadata": {},
     "output_type": "execute_result"
    }
   ],
   "source": [
    "text_clf.steps[0][1].transform(reviews)"
   ]
  },
  {
   "cell_type": "code",
   "execution_count": 8,
   "metadata": {
    "slideshow": {
     "slide_type": "fragment"
    }
   },
   "outputs": [
    {
     "data": {
      "text/plain": [
       "array([[0, 0, 1, 1, 1, 1],\n",
       "       [0, 1, 0, 0, 1, 0],\n",
       "       [1, 0, 0, 0, 1, 0]])"
      ]
     },
     "execution_count": 8,
     "metadata": {},
     "output_type": "execute_result"
    }
   ],
   "source": [
    "text_clf.steps[0][1].transform(reviews).toarray()"
   ]
  },
  {
   "cell_type": "code",
   "execution_count": 10,
   "metadata": {
    "slideshow": {
     "slide_type": "fragment"
    }
   },
   "outputs": [
    {
     "data": {
      "text/plain": [
       "array([-1,  1,  1])"
      ]
     },
     "execution_count": 10,
     "metadata": {},
     "output_type": "execute_result"
    }
   ],
   "source": [
    "x = text_clf.steps[0][1].transform(reviews)\n",
    "text_clf.steps[1][1].predict(x)"
   ]
  },
  {
   "cell_type": "markdown",
   "metadata": {
    "slideshow": {
     "slide_type": "slide"
    }
   },
   "source": [
    "# Feature Extraction\n",
    "\n",
    "- Feature extraction describes the transformations from **data** to **vectors**\n",
    "\n",
    "   \n",
    "- Extracting good features is **more important** than choosing a ML model\n",
    "\n",
    "\n",
    "- We will cover some standard feature extractors, but there are many more\n",
    "\n",
    "\n",
    "- Often the best feature extractors include domain knowledge by human experts\n",
    "\n",
    "\n",
    "- Feature extractors have to be optimized along with all other model parameters\n",
    " "
   ]
  },
  {
   "cell_type": "markdown",
   "metadata": {
    "slideshow": {
     "slide_type": "slide"
    }
   },
   "source": [
    "# Feature Extraction\n",
    "   \n",
    "- Continuous Features\n",
    "- Categorical Features\n",
    "- Text\n",
    "- Images\n",
    "  "
   ]
  },
  {
   "cell_type": "markdown",
   "metadata": {
    "slideshow": {
     "slide_type": "slide"
    }
   },
   "source": [
    "## Continuous Features\n",
    "\n",
    "- Continuous features: $x \\in R^{d}$\n",
    "\n",
    "\n",
    "- For many models continuous features don't need to be transformed\n",
    "\n",
    "\n",
    "- For some models it is necessary or beneficial to **normalize** continuous features\n",
    "\n",
    "    - When optimizing with stochastic gradient descent\n",
    "    - When regularizing models: to control regularization"
   ]
  },
  {
   "cell_type": "markdown",
   "metadata": {
    "slideshow": {
     "slide_type": "slide"
    }
   },
   "source": [
    "## Normalization: z-scoring\n",
    "\n",
    "Given a feature $x\\in R^1$ (and for multivariate $x$ analogously) there are several standard normalization options:\n",
    "\n",
    "**Standard scaling / z-scoring**: compute mean $\\mu_x$ and standard deviation $\\sigma_x$ of $x$ and compute\n",
    "\n",
    "$$ x \\leftarrow \\frac{(x - \\mu_x) } {\\sigma_x} $$\n",
    "\n",
    "- Resulting variable has zero mean and unit variance\n",
    "- See [sklearn.preprocessing.StandardScaler](https://scikit-learn.org/stable/modules/generated/sklearn.preprocessing.StandardScaler.html)\n",
    "     \n"
   ]
  },
  {
   "cell_type": "code",
   "execution_count": 1,
   "metadata": {
    "slideshow": {
     "slide_type": "slide"
    }
   },
   "outputs": [
    {
     "name": "stdout",
     "output_type": "stream",
     "text": [
      "Estimated Mean: [0.5 0.5]\n"
     ]
    },
    {
     "data": {
      "text/plain": [
       "array([[0., 0.],\n",
       "       [3., 3.]])"
      ]
     },
     "execution_count": 1,
     "metadata": {},
     "output_type": "execute_result"
    }
   ],
   "source": [
    "from sklearn.preprocessing import StandardScaler\n",
    "data = [[0, 0], [0, 0], [1, 1], [1, 1]]\n",
    "scaler = StandardScaler()\n",
    "scaler.fit(data)\n",
    "print(\"Estimated Mean: {}\".format(scaler.mean_))\n",
    "scaler.transform([[.5, .5], [2,2]])"
   ]
  },
  {
   "cell_type": "markdown",
   "metadata": {
    "slideshow": {
     "slide_type": "slide"
    }
   },
   "source": [
    "## Normalization: Min-Max Scaling   \n",
    "\n",
    "**Min-max scaling**: compute min $\\text{min}_x$ and max $\\text{max}_x$ of $x$\n",
    "\n",
    "$$ x \\leftarrow \\frac{(x - \\text{min}_x) } {\\text{max}_x - \\text{min}_x} $$\n",
    "\n",
    "- Resulting variable is in range [0,1] (or any other range)\n",
    "- See [sklearn.preprocessing.MinMaxScaler](https://scikit-learn.org/stable/modules/generated/sklearn.preprocessing.MinMaxScaler.html)\n",
    "\n"
   ]
  },
  {
   "cell_type": "markdown",
   "metadata": {
    "slideshow": {
     "slide_type": "slide"
    }
   },
   "source": [
    "## Categorical Features\n",
    "\n",
    "Categorical features are variables $x \\in \\{ 0,1,2,\\dots, N\\}$ taking one value of a set of cardinality $N$ without an implicit ordering e.g.:\n",
    "- colors (red, green, blue)\n",
    "- user ids\n",
    "- Movie ids\n",
    "\n",
    "Often used feature transformations are \n",
    "\n",
    "- One-hot encoding\n",
    "\n",
    "- More recently for neural networks: low dimensional embeddings\n"
   ]
  },
  {
   "cell_type": "markdown",
   "metadata": {
    "slideshow": {
     "slide_type": "slide"
    }
   },
   "source": [
    "## One-hot encoding\n",
    "\n",
    "Given a set of values [red, green, blue], we transform the data into \n",
    "\n",
    "- red $\\leftarrow [1,0,0]$\n",
    "- green $\\leftarrow [0,1,0]$\n",
    "- blue $\\leftarrow [0,0,1]$\n",
    "\n",
    "Sets of categorical variables can be represented as sum over single value vectors.\n",
    "\n",
    "Examples: bag-of-words vectors\n"
   ]
  },
  {
   "cell_type": "code",
   "execution_count": 2,
   "metadata": {
    "slideshow": {
     "slide_type": "fragment"
    }
   },
   "outputs": [
    {
     "data": {
      "text/plain": [
       "array([[0., 0., 1.],\n",
       "       [0., 1., 0.],\n",
       "       [1., 0., 0.]])"
      ]
     },
     "execution_count": 2,
     "metadata": {},
     "output_type": "execute_result"
    }
   ],
   "source": [
    "from sklearn.preprocessing import OneHotEncoder\n",
    "enc = OneHotEncoder()\n",
    "X = [['red'], ['green'], ['blue'], ['red']]\n",
    "enc.fit(X)\n",
    "enc.transform([['red'], ['green'], ['blue']]).toarray()"
   ]
  },
  {
   "cell_type": "markdown",
   "metadata": {
    "slideshow": {
     "slide_type": "slide"
    }
   },
   "source": [
    "## One-hot encoding: Problems\n",
    "\n",
    "- Cardinality needs to be estimated upfront\n",
    "- New items / categories cannot be represented\n",
    "- Similarity information is lost (light-blue and blue as different as black and white)"
   ]
  },
  {
   "cell_type": "markdown",
   "metadata": {
    "slideshow": {
     "slide_type": "slide"
    }
   },
   "source": [
    "# Feature Extraction for Text\n",
    "\n",
    "- Bag-of-Words\n",
    "- Hashed Bag-of-Words\n",
    "- (Continuous Bag-of-words)\n"
   ]
  },
  {
   "cell_type": "markdown",
   "metadata": {
    "slideshow": {
     "slide_type": "slide"
    }
   },
   "source": [
    "## Bag-of-Words Features\n",
    "\n",
    "Count word (=token) occurrences\n",
    "\n",
    "<center>\n",
    "\"if you pay peanuts , you get monkeys .\"\n",
    "</center>\n",
    "\n",
    "|get|if |monkeys | pay | peanuts| you |...|\n",
    "|---|---|--------|-----|--------|-----|---|\n",
    "|1  |1  | 1      |1    |   1    |  2  |...|\n",
    " "
   ]
  },
  {
   "cell_type": "markdown",
   "metadata": {
    "slideshow": {
     "slide_type": "fragment"
    }
   },
   "source": [
    "- Only accounts for word histogram\n",
    "- Most of language structure lost\n",
    "- Very efficient "
   ]
  },
  {
   "cell_type": "markdown",
   "metadata": {
    "slideshow": {
     "slide_type": "slide"
    }
   },
   "source": [
    "## Bag-of-Words Model with N-Grams\n",
    "\n",
    "Count n-gram occurrences can account for some language structure\n",
    "\n",
    "\n",
    "<center>\n",
    "\"if you pay peanuts , you get monkeys .\"\n",
    "</center>\n",
    "\n",
    "|get monkeys|if you |you pay | pay peanuts | ...|\n",
    "|---|---|--------|-----|---|\n",
    "|1  |1  | 1      |1    |   ...|"
   ]
  },
  {
   "cell_type": "code",
   "execution_count": 14,
   "metadata": {
    "slideshow": {
     "slide_type": "slide"
    }
   },
   "outputs": [
    {
     "name": "stdout",
     "output_type": "stream",
     "text": [
      "Vocabulary: ['and', 'document', 'first', 'is', 'one', 'second', 'the', 'third', 'this']\n"
     ]
    },
    {
     "data": {
      "text/plain": [
       "array([[0, 1, 1, 1, 0, 0, 1, 0, 1],\n",
       "       [0, 2, 0, 1, 0, 1, 1, 0, 1],\n",
       "       [1, 0, 0, 1, 1, 0, 1, 1, 1],\n",
       "       [0, 1, 1, 1, 0, 0, 1, 0, 1]], dtype=int64)"
      ]
     },
     "execution_count": 14,
     "metadata": {},
     "output_type": "execute_result"
    }
   ],
   "source": [
    "from sklearn.feature_extraction.text import CountVectorizer\n",
    "corpus = [\n",
    "     'This is the first document.',\n",
    "     'This document is the second document.',\n",
    "     'And this is the third one.',\n",
    "     'Is this the first document?']\n",
    "vectorizer = CountVectorizer()\n",
    "X = vectorizer.fit_transform(corpus)\n",
    "print(\"Vocabulary: {}\".format(vectorizer.get_feature_names()))\n",
    "X.toarray()"
   ]
  },
  {
   "cell_type": "markdown",
   "metadata": {
    "slideshow": {
     "slide_type": "slide"
    }
   },
   "source": [
    "## Character N-Grams\n",
    "\n",
    "Instead of words as tokens you can take characters as tokens\n",
    "\n",
    "\n",
    "<center>\n",
    "\"if you pay peanuts , you get monkeys .\"\n",
    "</center>\n",
    "\n",
    "|g  | e | t | ge | et|...|\n",
    "|---|---|---|----|---|---|\n",
    "|1  |1  | 1 |1   | 1 |...|\n",
    "\n",
    "Very powerful for language-independent models!"
   ]
  },
  {
   "cell_type": "markdown",
   "metadata": {
    "slideshow": {
     "slide_type": "slide"
    }
   },
   "source": [
    "## Term Frequency / Inverse Document Frequency\n",
    "\n",
    "\n",
    "Frequently occurring words (like ``the``) are often not very meaningful and are often weighted down by the **inverse document frequency**:\n",
    "\n",
    "\n",
    "- Term frequency:\n",
    "\n",
    "    $ \\text{tf}(t,d) $: Frequency of a term $t$ in document $d$\n",
    "    \n",
    "\n",
    "- Inverse document frequency:\n",
    "\n",
    "    $\\text{idf} (t,d)=\\log {\\frac {|\\text{Number of documents}|}{|\\text{Number of Documents containing }t|}}$\n",
    "    "
   ]
  },
  {
   "cell_type": "markdown",
   "metadata": {
    "slideshow": {
     "slide_type": "slide"
    }
   },
   "source": [
    "## Alternatively: Stopwords\n",
    "\n",
    "Just exclude some frequent meaningless words from the text. "
   ]
  },
  {
   "cell_type": "markdown",
   "metadata": {
    "slideshow": {
     "slide_type": "slide"
    }
   },
   "source": [
    "## N-Grams are expensive\n",
    "\n",
    "$V=$ number of tokens in your vocabulary (usually 1e4 to 1e6 for good models)\n",
    "- unigrams: all tokens\n",
    "\n",
    "    Memory requirement for n-gram counts: $V$\n",
    "\n",
    "\n",
    "- bigrams: all ordered pairs of **two** tokens\n",
    "\n",
    "    Memory requirement for n-gram counts: $V^2$\n",
    "\n",
    "\n",
    "- trigrams: all ordered pairs of **three** tokens\n",
    "\n",
    "    Memory requirement for n-gram counts: $V^3$\n",
    "\n",
    "\n",
    "- ...\n",
    "\n",
    "\n",
    "See [Google's n-gram corpus](http://storage.googleapis.com/books/ngrams/books/datasetsv2.html) (up to 5-grams for many languages)."
   ]
  },
  {
   "cell_type": "markdown",
   "metadata": {
    "slideshow": {
     "slide_type": "slide"
    }
   },
   "source": [
    "## Hashed N-Grams\n",
    "\n",
    "- Instead of counting all n-grams: Use a HashMap\n",
    "\n",
    "- Each token gets hashed, count of hash-bucket incremented\n",
    "\n",
    "- Advantages:\n",
    "    - Full control over memory footprint (often small HashMaps work surprisingly well)\n",
    "    - No need to compute a dictionary\n",
    "    \n",
    "    \n",
    "- Disadvantages:\n",
    "    - Hash collisions: multiple n-gram map to the same bucket\n",
    "    - No Tf-Idf weighting: \n",
    "\n",
    "\n",
    "\n",
    "See [Scikit-Learn's HashingVectorizer](http://scikit-learn.org/stable/modules/generated/sklearn.feature_extraction.text.HashingVectorizer.html)"
   ]
  },
  {
   "cell_type": "markdown",
   "metadata": {
    "slideshow": {
     "slide_type": "slide"
    }
   },
   "source": [
    "## Feature Extraction for Images\n",
    "\n",
    "- Classical features (e.g. HOG)\n",
    "\n",
    "- CNN features\n",
    "  "
   ]
  },
  {
   "cell_type": "markdown",
   "metadata": {
    "slideshow": {
     "slide_type": "slide"
    }
   },
   "source": [
    "## Classical Computer Vision Feature Extractors\n",
    "\n",
    "Histograms of Oriented Edges (HOG) descriptors capture shape very well. \n",
    "\n",
    "HOG features, just like most other oldschool vision feature descriptors, perform poorly compared to neural networks\n",
    "\n",
    "Still, they could be helpful if shape on standardized images is the only relevant feature\n",
    "  "
   ]
  },
  {
   "cell_type": "code",
   "execution_count": 62,
   "metadata": {
    "slideshow": {
     "slide_type": "slide"
    }
   },
   "outputs": [],
   "source": [
    "from skimage.feature import hog\n",
    "from skimage import data, exposure, io\n",
    "\n",
    "# image = data.astronaut()\n",
    "image = io.imread(\"figures/turing.png\")\n",
    "\n",
    "fd, hog_image = hog(image, orientations=8, pixels_per_cell=(16, 16),\n",
    "                    cells_per_block=(1, 1), visualize=True, multichannel=True)\n"
   ]
  },
  {
   "cell_type": "code",
   "execution_count": 63,
   "metadata": {
    "slideshow": {
     "slide_type": "slide"
    }
   },
   "outputs": [
    {
     "data": {
      "image/png": "[encoded data removed]",
      "text/plain": [
       "<Figure size 576x288 with 2 Axes>"
      ]
     },
     "metadata": {
      "needs_background": "light"
     },
     "output_type": "display_data"
    }
   ],
   "source": [
    "import matplotlib.pyplot as plt\n",
    "%matplotlib inline\n",
    "\n",
    "fig, (ax1, ax2) = plt.subplots(1, 2, figsize=(8, 4), sharex=True, sharey=True)\n",
    "\n",
    "ax1.axis('off')\n",
    "ax1.imshow(image, cmap=plt.cm.gray)\n",
    "ax1.set_title('Input image')\n",
    "\n",
    "# Rescale histogram for better display\n",
    "hog_image_rescaled = exposure.rescale_intensity(hog_image, in_range=(0, 10))\n",
    "\n",
    "ax2.axis('off')\n",
    "ax2.imshow(hog_image_rescaled, cmap=plt.cm.gray)\n",
    "ax2.set_title('Histogram of Oriented Gradients')\n",
    "plt.show()"
   ]
  },
  {
   "cell_type": "markdown",
   "metadata": {
    "slideshow": {
     "slide_type": "slide"
    }
   },
   "source": [
    "## Convolutional Neural Networks\n",
    "\n",
    "State of the art in computer vision are convolutional neural networks\n",
    "\n",
    "We don't have time in this lecture to go into detail (see e.g. Kristian Hildebrand's lecture)\n",
    "\n",
    "And most people don't have the compute to train those models from scratch\n",
    "\n",
    "But pretrained models are good feature extractors - which doesn't require training"
   ]
  },
  {
   "cell_type": "code",
   "execution_count": 21,
   "metadata": {
    "slideshow": {
     "slide_type": "slide"
    }
   },
   "outputs": [
    {
     "name": "stdout",
     "output_type": "stream",
     "text": [
      "image dimensions: (1, 224, 224, 3)\n",
      "image feature dimensions: (1, 14, 14, 512)\n"
     ]
    }
   ],
   "source": [
    "from keras.applications.vgg19 import VGG19\n",
    "from keras.preprocessing import image\n",
    "from keras.applications.vgg19 import preprocess_input\n",
    "from keras.models import Model\n",
    "import numpy as np\n",
    "\n",
    "base_model = VGG19(weights='imagenet')\n",
    "model = Model(inputs=base_model.input, outputs=base_model.get_layer('block4_pool').output)\n",
    "\n",
    "img_path = 'figures/turing.png'\n",
    "img = image.load_img(img_path, target_size=(224, 224))\n",
    "x = image.img_to_array(img)\n",
    "x = np.expand_dims(x, axis=0)\n",
    "x = preprocess_input(x)\n",
    "\n",
    "block4_pool_features = model.predict(x)\n",
    "print(\"image dimensions: {}\".format(x.shape))\n",
    "print(\"image feature dimensions: {}\".format(block4_pool_features.shape))"
   ]
  },
  {
   "cell_type": "code",
   "execution_count": 86,
   "metadata": {
    "slideshow": {
     "slide_type": "slide"
    }
   },
   "outputs": [
    {
     "data": {
      "image/png": "[encoded data removed]",
      "text/plain": [
       "<Figure size 864x288 with 3 Axes>"
      ]
     },
     "metadata": {
      "needs_background": "light"
     },
     "output_type": "display_data"
    }
   ],
   "source": [
    "def plot_channel(img, channel, ax):\n",
    "    ax.axis('off')\n",
    "    ax.imshow(img, cmap=plt.cm.gray)\n",
    "    ax.set_title('Channel {}'.format(channel))\n",
    "\n",
    "channels = [3, 56, 170]\n",
    "\n",
    "_, axs = plt.subplots(1, len(channels), figsize=(12, 4), sharex=True, sharey=True)\n",
    "\n",
    "for channel, ax in zip(channels, axs):\n",
    "    plot_channel(block4_pool_features[0,:,:,channel], channel, ax)"
   ]
  }
 ],
 "metadata": {
  "celltoolbar": "Slideshow",
  "kernelspec": {
   "display_name": "Python 3",
   "language": "python",
   "name": "python3"
  },
  "language_info": {
   "codemirror_mode": {
    "name": "ipython",
    "version": 3
   },
   "file_extension": ".py",
   "mimetype": "text/x-python",
   "name": "python",
   "nbconvert_exporter": "python",
   "pygments_lexer": "ipython3",
   "version": "3.7.3"
  }
 },
 "nbformat": 4,
 "nbformat_minor": 1
}
