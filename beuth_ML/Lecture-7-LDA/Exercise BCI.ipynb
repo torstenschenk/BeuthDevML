{
 "cells": [
  {
   "cell_type": "markdown",
   "metadata": {},
   "source": [
    "# Exercise Brain-Computer Interfaces\n",
    "\n",
    "In this assignment you will estimate cognitive states from electroencephalogram (EEG) data. \n",
    "\n",
    "Electroencephalography (EEG) data was recorded during a copy-spelling BCI Experiment at the [Berlin BCI group](http://www.bbci.de).\n",
    "\n",
    "The data set consists preprocessed EEG data $X\\in R^{5\\times 62 \\times 5322}$ and stimulus labels $Y\\in R^{2\\times 5322}$ \n",
    "during a copy-spelling paradigm with a P300 speller. The data matrix X contains 5 selected time windows of EEG activity at 62 electrodes after a visual stimulus was presented on the screen in front of the subject. If the first row of $Y$ is 1, the stimulus was a target stimulus, if the second row of $Y$ is 1, the stimulus was a non-target stimulus. "
   ]
  },
  {
   "cell_type": "code",
   "execution_count": 5,
   "metadata": {},
   "outputs": [],
   "source": [
    "import pylab as pl\n",
    "import scipy as sp\n",
    "from scipy.linalg import eig\n",
    "from scipy.io import loadmat\n",
    "from sklearn.model_selection import train_test_split\n",
    "\n",
    "def load_data(fname):\n",
    "    # load the data\n",
    "    data = loadmat(fname)\n",
    "    # extract images and labels\n",
    "    X = data['X']\n",
    "    Y = data['Y']\n",
    "    # collapse the time-electrode dimensions\n",
    "    X = sp.reshape(X,(X.shape[0]*X.shape[1],X.shape[2])).T\n",
    "    # transform the labels to (-1,1)\n",
    "    Y = sp.sign((Y[0,:]>0) -.5)\n",
    "    return X,Y\n",
    "\n",
    "X,Y = load_data(fname='bcidata.mat')"
   ]
  },
  {
   "cell_type": "markdown",
   "metadata": {},
   "source": [
    "# Assignment 1: Train a Nearest Centroid Classifier"
   ]
  },
  {
   "cell_type": "code",
   "execution_count": 6,
   "metadata": {
    "scrolled": true
   },
   "outputs": [
    {
     "data": {
      "image/png": "[encoded data removed]",
      "text/plain": [
       "<Figure size 432x288 with 1 Axes>"
      ]
     },
     "metadata": {
      "needs_background": "light"
     },
     "output_type": "display_data"
    }
   ],
   "source": [
    "def ncc_fit(X, Y):\n",
    "    '''\n",
    "    Train a nearest centroid classifier for N data points in D dimensions\n",
    "    \n",
    "    Input: \n",
    "    X N-by-D Data Matrix\n",
    "    Y label vector of length N, labels are -1 or 1\n",
    "    Output: \n",
    "    w weight vector of length D\n",
    "    b bias vector of length D\n",
    "    '''\n",
    "    # class means\n",
    "    # IMPLEMENT CODE HERE\n",
    "    mupos = ...\n",
    "    muneg = ...\n",
    "    w = ...\n",
    "    b = (w.dot(mupos) + w.dot(muneg))/2.\n",
    "    # return the weight vector\n",
    "    return w,b\n",
    "\n",
    "X_train, X_test, Y_train, Y_test = train_test_split(X,Y)\n",
    "\n",
    "w_ncc, b_ncc = ncc_fit(X_train, Y_train)\n",
    "\n",
    "pl.hist(X_test[Y_test<0, :] @ w_ncc)\n",
    "pl.hist(X_test[Y_test>0, :] @ w_ncc)\n",
    "pl.plot([b_ncc, b_ncc], [0, 500], color='k')\n",
    "pl.xlabel('$Xw_{NCC}$')\n",
    "pl.legend(('$b_{ncc}$','non-target','target'))\n",
    "pl.ylim([0, 450])\n",
    "acc = int((sp.sign(X_test @ w_ncc - b_ncc)==Y_test).mean()*100)\n",
    "pl.title(f\"NCC Acc {acc}%\");"
   ]
  },
  {
   "cell_type": "markdown",
   "metadata": {},
   "source": [
    "# Assignment 2: Train a Linear Discriminant Analysis Classifier\n",
    "\n",
    "Train a linear discriminant classifier and compare it with the NCC one."
   ]
  },
  {
   "cell_type": "code",
   "execution_count": 7,
   "metadata": {},
   "outputs": [],
   "source": [
    "def lda_fit(X,Y):\n",
    "    '''\n",
    "    Train a Linear Discriminant Analysis classifier\n",
    "    \n",
    "    Input: \n",
    "    X N-by-D Data Matrix\n",
    "    Y label vector of length N, labels are -1 or 1\n",
    "    Output: \n",
    "    w weight vector of length D\n",
    "    b bias vector of length D\n",
    "    '''\n",
    "    # class means\n",
    "    # IMPLEMENT CODE HERE\n",
    "    mupos = ...\n",
    "    muneg = ...\n",
    "    \n",
    "    # D-by-D inter class covariance matrix (signal)\n",
    "    Sinter = ...\n",
    "    # D-by-D intra class covariance matrices (noise)\n",
    "    Sintra = ...\n",
    "    # solve eigenproblem\n",
    "    eigvals, eigvecs = sp.linalg.eig(Sinter,Sintra)\n",
    "    w = eigvecs[:,eigvals.argmax()]\n",
    "    # bias term\n",
    "    b = (w.dot(mupos) + w.dot(muneg))/2.\n",
    "    # return the weight vector\n",
    "    return w,b"
   ]
  },
  {
   "cell_type": "markdown",
   "metadata": {},
   "source": [
    "This Code plots the results, do not modify it"
   ]
  },
  {
   "cell_type": "code",
   "execution_count": 8,
   "metadata": {},
   "outputs": [
    {
     "data": {
      "image/png": "[encoded data removed]",
      "text/plain": [
       "<Figure size 1008x360 with 2 Axes>"
      ]
     },
     "metadata": {
      "needs_background": "light"
     },
     "output_type": "display_data"
    }
   ],
   "source": [
    "X_train, X_test, Y_train, Y_test = train_test_split(X,Y)\n",
    "\n",
    "w_ncc, b_ncc = ncc_fit(X_train, Y_train)\n",
    "w_lda,b_lda = lda_fit(X_train,Y_train)\n",
    "\n",
    "pl.figure(figsize=[14,5])\n",
    "pl.subplot(1,2,1)\n",
    "pl.hist(X_test[Y_test<0, :] @ w_ncc)\n",
    "pl.hist(X_test[Y_test>0, :] @ w_ncc)\n",
    "pl.plot([b_ncc, b_ncc], [0, 500], color='k')\n",
    "pl.xlabel('$Xw_{NCC}$')\n",
    "pl.legend(('$b_{ncc}$','non-target','target'))\n",
    "pl.ylim([0, 450])\n",
    "acc = int((sp.sign(X_test @ w_ncc - b_ncc)==Y_test).mean()*100)\n",
    "pl.title(f\"NCC Acc {acc}%\");\n",
    "\n",
    "pl.subplot(1,2,2)\n",
    "pl.hist(X_test[Y_test<0, :] @ w_lda)\n",
    "pl.hist(X_test[Y_test>0, :] @ w_lda)\n",
    "pl.plot([b_lda, b_lda], [0, 500], color='k')\n",
    "pl.xlabel('$Xw_{NCC}$')\n",
    "pl.legend(('$b_{ncc}$','non-target','target'))\n",
    "pl.ylim([0, 300])\n",
    "acc = int((sp.sign(X_test @ w_lda - b_lda)==Y_test).mean()*100)\n",
    "pl.title(f\"LDA Acc {acc}%\");"
   ]
  }
 ],
 "metadata": {
  "kernelspec": {
   "display_name": "Python 3",
   "language": "python",
   "name": "python3"
  },
  "language_info": {
   "codemirror_mode": {
    "name": "ipython",
    "version": 3
   },
   "file_extension": ".py",
   "mimetype": "text/x-python",
   "name": "python",
   "nbconvert_exporter": "python",
   "pygments_lexer": "ipython3",
   "version": "3.7.3"
  }
 },
 "nbformat": 4,
 "nbformat_minor": 2
}
