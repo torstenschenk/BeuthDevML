{
 "cells": [
  {
   "cell_type": "markdown",
   "metadata": {},
   "source": [
    "# Perceptron Learning for Handwritten Digit Recognition\n",
    "\n",
    "In this exercise you will implement the perceptron algorithm for training a perceptron to classify handwritten digits. \n",
    "\n",
    "We will use the ``sklearn`` version of the [MNIST data set](https://en.wikipedia.org/wiki/MNIST_database). \n",
    "\n",
    "You will need to complete **one line**, the gradient descent step, of a pre implemented perceptron training function. "
   ]
  },
  {
   "cell_type": "code",
   "execution_count": 1,
   "metadata": {},
   "outputs": [],
   "source": [
    "import scipy as sp\n",
    "from sklearn.datasets import load_digits\n",
    "from sklearn.model_selection import train_test_split\n",
    "import matplotlib.pyplot as plt\n",
    "%matplotlib inline\n",
    "\n",
    "def perceptron_train(X_train,Y_train, X_val, Y_val, iterations=100,eta=.1):\n",
    "    '''\n",
    "    Trains a perceptron and returns the learning curve for train and validation set\n",
    "    '''\n",
    "    acc_train = sp.zeros(iterations)\n",
    "    acc_val = sp.zeros(iterations)\n",
    "    # initialize weight vector\n",
    "    weights = sp.random.randn(X_train.shape[1]) * 1e-5\n",
    "    for it in sp.arange(iterations):\n",
    "        # indices of misclassified data\n",
    "        wrong = (sp.sign(X_train @ weights) != Y_train).nonzero()[0]\n",
    "        if wrong.shape[0] > 0:\n",
    "            # pick a random misclassified data point\n",
    "            rand_ex = sp.random.randint(0,wrong.shape[0])\n",
    "            # update weight vector\n",
    "            # INSERT YOUR CODE HERE\n",
    "            # print('idx: ',rand_ex)\n",
    "            # it starts at 0, add +1 or division by 0 error\n",
    "            weights += (eta/(it+1))*(X_train[wrong[rand_ex],:]*Y_train[wrong[rand_ex]])\n",
    "            # compute accuracy\n",
    "            acc_train[it] = sp.mean(sp.sign(X_train @ weights)==Y_train)\n",
    "            acc_val[it] = sp.mean(sp.sign(X_val @ weights)==Y_val)\n",
    "    # return weight vector and accuracy\n",
    "    return acc_train, acc_val"
   ]
  },
  {
   "cell_type": "markdown",
   "metadata": {},
   "source": [
    "## Test whether your code works: Handwritten digit recognition\n",
    "\n",
    "Execute the following code and check whether the learning curves look like the model improves over time. \n",
    "\n",
    "Feel free to change the learning rate or the validation split and observe the effects on the model training. "
   ]
  },
  {
   "cell_type": "code",
   "execution_count": 2,
   "metadata": {},
   "outputs": [
    {
     "data": {
      "image/png": "[encoded data removed]",
      "text/plain": [
       "<Figure size 864x288 with 1 Axes>"
      ]
     },
     "metadata": {
      "needs_background": "light"
     },
     "output_type": "display_data"
    }
   ],
   "source": [
    "digit_to_recognize = 2\n",
    "X, Y = load_digits(n_class=10, return_X_y=True)\n",
    "# transform the 10-class labels into binary form\n",
    "y = sp.sign((Y==digit_to_recognize)* 1.0 - .5)\n",
    "X_train, X_val, Y_train, Y_val = train_test_split(X, y, test_size=.4)\n",
    "acc_train, acc_val = perceptron_train(X_train, Y_train, X_val, Y_val)\n",
    "\n",
    "plt.figure(figsize=[12,4])\n",
    "plt.plot(acc_train)\n",
    "plt.plot(acc_val)\n",
    "plt.xlabel(\"Iterations\");plt.ylabel(\"Accuracy\");plt.legend(['train','validation']);\n"
   ]
  },
  {
   "cell_type": "code",
   "execution_count": 5,
   "metadata": {},
   "outputs": [
    {
     "data": {
      "text/plain": [
       "Text(0.5, 1.0, '3')"
      ]
     },
     "execution_count": 5,
     "metadata": {},
     "output_type": "execute_result"
    },
    {
     "data": {
      "image/png": "[encoded data removed]",
      "text/plain": [
       "<Figure size 432x288 with 1 Axes>"
      ]
     },
     "metadata": {
      "needs_background": "light"
     },
     "output_type": "display_data"
    }
   ],
   "source": [
    "i = Y[3]\n",
    "plt.imshow(X[i,:].reshape(8,8))\n",
    "plt.title(Y[i])"
   ]
  },
  {
   "cell_type": "code",
   "execution_count": 6,
   "metadata": {},
   "outputs": [
    {
     "data": {
      "text/plain": [
       "array([ 0.,  0.,  7., 15., 13.,  1.,  0.,  0.,  0.,  8., 13.,  6., 15.,\n",
       "        4.,  0.,  0.,  0.,  2.,  1., 13., 13.,  0.,  0.,  0.,  0.,  0.,\n",
       "        2., 15., 11.,  1.,  0.,  0.,  0.,  0.,  0.,  1., 12., 12.,  1.,\n",
       "        0.,  0.,  0.,  0.,  0.,  1., 10.,  8.,  0.,  0.,  0.,  8.,  4.,\n",
       "        5., 14.,  9.,  0.,  0.,  0.,  7., 13., 13.,  9.,  0.,  0.])"
      ]
     },
     "execution_count": 6,
     "metadata": {},
     "output_type": "execute_result"
    }
   ],
   "source": [
    "X[3,:]"
   ]
  },
  {
   "cell_type": "code",
   "execution_count": 24,
   "metadata": {},
   "outputs": [
    {
     "data": {
      "text/plain": [
       "1"
      ]
     },
     "execution_count": 24,
     "metadata": {},
     "output_type": "execute_result"
    }
   ],
   "source": []
  },
  {
   "cell_type": "code",
   "execution_count": null,
   "metadata": {},
   "outputs": [],
   "source": []
  }
 ],
 "metadata": {
  "kernelspec": {
   "display_name": "Python 3",
   "language": "python",
   "name": "python3"
  },
  "language_info": {
   "codemirror_mode": {
    "name": "ipython",
    "version": 3
   },
   "file_extension": ".py",
   "mimetype": "text/x-python",
   "name": "python",
   "nbconvert_exporter": "python",
   "pygments_lexer": "ipython3",
   "version": "3.6.7"
  }
 },
 "nbformat": 4,
 "nbformat_minor": 2
}
